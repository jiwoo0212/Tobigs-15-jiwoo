{
 "cells": [
  {
   "cell_type": "markdown",
   "metadata": {
    "id": "lqHSUXBAp2DQ"
   },
   "source": [
    "# 투빅스 15기 정규세션 10주차 DCGAN 구현 과제\n",
    "\"빈칸\" 부분을 채우는 과제입니다. \"빈칸\"뿐만 아니라 중간중간 주석 또는 마크다운으로 설명 부탁드립니다  \n",
    "https://github.com/pytorch/tutorials/blob/master/beginner_source/dcgan_faces_tutorial.py  \n",
    "위의 주소는 pytorch dcgan 공식 튜토리얼 코드로 해당 코드를 바탕으로 과제를 만들었습니다. 튜토리얼 코드와 과제 코드가 상당부분 유사하므로 어려운 점이 있을 때 참고하면 좋을 것 같습니다  \n",
    "다만, 그대로 복붙이 아닌 코드를 이해해 나가면서 과제를 수행해주시기 바랍니다  \n",
    "마지막 과제인 만큼 다들 화이팅!"
   ]
  },
  {
   "cell_type": "markdown",
   "metadata": {
    "id": "zW6ONB7fqANg"
   },
   "source": [
    "## 드라이브 연결"
   ]
  },
  {
   "cell_type": "code",
   "execution_count": null,
   "metadata": {
    "id": "8sl5iSXfj9Et"
   },
   "outputs": [],
   "source": [
    "# gdrive에 mount\n",
    "from google.colab import drive\n",
    "drive.mount('/content/gdrive')\n",
    "# 경로 설정\n",
    "import os\n",
    "os.chdir('/content/gdrive/My Drive/')"
   ]
  },
  {
   "cell_type": "markdown",
   "metadata": {
    "id": "XlrC-8uBqFbK"
   },
   "source": [
    "## 패키지 임포트"
   ]
  },
  {
   "cell_type": "code",
   "execution_count": null,
   "metadata": {
    "id": "1jXGcTmgk4sf"
   },
   "outputs": [],
   "source": [
    "%matplotlib inline\n",
    "from matplotlib import pyplot as plt\n",
    "import random\n",
    "import torch\n",
    "import torch.nn as nn\n",
    "import torch.optim as optim\n",
    "import torch.utils.data\n",
    "import torchvision.datasets as dset\n",
    "import torchvision.transforms as transforms"
   ]
  },
  {
   "cell_type": "markdown",
   "metadata": {
    "id": "mS080UbJqKMQ"
   },
   "source": [
    "## MNIST 데이터 불러오기\n",
    "기존의 MNIST 손글씨 데이터의 경우 1x28x28 이미지 -> dcgan 모델 적용을 위해 1x64x64 이미지로 크기 조절 (물론 28x28이미지도 사용가능하지만 네트워크 구조 수정 필요)  \n",
    "처음 데이터를 사용할때는 download=True로 데이터를 다운 받기  \n",
    "이후에 사용할때는 데이터가 이미 다운되있으므로 download=False로 바꿔서 사용"
   ]
  },
  {
   "cell_type": "code",
   "execution_count": null,
   "metadata": {
    "id": "4kg3Cy9kk55K"
   },
   "outputs": [],
   "source": [
    "# MNIST dataset\n",
    "dataroot = './mnist_data/'\n",
    "imageSize = 64 # the height / width of the input image to network\n",
    "\n",
    "dataset = dset.MNIST(root = dataroot, download= True,\n",
    "                     transform = transforms.Compose([\n",
    "                                                     transforms.Resize(imageSize), #이미지 64x64로 크기 변환\n",
    "                                                     transforms.ToTensor(), #텐서자료형으로 변환\n",
    "                                                     transforms.Normalize((0.5,), (0.5,)), #노말라이즈를 통해 -1.~1.의 값을 갖게 변환\n",
    "                     ]))"
   ]
  },
  {
   "cell_type": "markdown",
   "metadata": {
    "id": "cBqDKK5Qp1En"
   },
   "source": [
    "### 데이터 확인하기"
   ]
  },
  {
   "cell_type": "code",
   "execution_count": null,
   "metadata": {
    "id": "JZoKpxaKoIh8"
   },
   "outputs": [],
   "source": [
    "print('number of training data: ', len(dataset)) #데이터 수 확인\n",
    "image,_ = dataset[0]\n",
    "\n",
    "print('Image')\n",
    "print('========================================')\n",
    "print('shape of this image\\t:', image.shape) #데이터 차원(모양)확인하기"
   ]
  },
  {
   "cell_type": "code",
   "execution_count": null,
   "metadata": {
    "id": "AvL1QHLgoJLs"
   },
   "outputs": [],
   "source": [
    "# 학습 데이터 시각화\n",
    "fig = plt.figure()\n",
    "\n",
    "for i in range(10):\n",
    "    image,_ = dataset[i]\n",
    "    image = (image+1)/2\n",
    "    image = image.squeeze()\n",
    "    np_img = image.numpy()\n",
    "    \n",
    "    subplot = fig.add_subplot(2, 5, i+1)\n",
    "    subplot.set_xticks([])\n",
    "    subplot.set_yticks([])\n",
    "    subplot.imshow(np_img, cmap = 'gray')\n",
    "\n",
    "plt.show()"
   ]
  },
  {
   "cell_type": "markdown",
   "metadata": {
    "id": "GV1hsEW7r7lH"
   },
   "source": [
    "### 데이터 로더 정의"
   ]
  },
  {
   "cell_type": "code",
   "execution_count": null,
   "metadata": {
    "id": "dk1AQgq3r60l"
   },
   "outputs": [],
   "source": [
    "# dataloader\n",
    "batch_size = \"빈칸\"\n",
    "workers = 2\n",
    "\n",
    "dataloader = torch.utils.data.DataLoader(dataset, batch_size=batch_size,\n",
    "                                         shuffle = True, num_workers = workers)"
   ]
  },
  {
   "cell_type": "markdown",
   "metadata": {
    "id": "50srPc9CsrUW"
   },
   "source": [
    "## device 정의"
   ]
  },
  {
   "cell_type": "code",
   "execution_count": null,
   "metadata": {
    "id": "_1bDrz7ZsvOq"
   },
   "outputs": [],
   "source": [
    "# device\n",
    "device = torch.device(\"cuda:0\" if torch.cuda.is_available() else \"cpu\")\n",
    "print(device)"
   ]
  },
  {
   "cell_type": "markdown",
   "metadata": {
    "id": "FF2wxeW7s8hf"
   },
   "source": [
    "## 신경망 "
   ]
  },
  {
   "cell_type": "code",
   "execution_count": null,
   "metadata": {
    "id": "VMoPm64ltmiq"
   },
   "outputs": [],
   "source": [
    "#네트워크 하이퍼파라미터 설정\n",
    "nc = \"빈칸\" # number of channels in the training images\n",
    "nz = \"빈칸\" # size of z latent vector\n",
    "ngf = 64 # size of feature maps in generator\n",
    "ndf = 64 # size of feature maps in discriminator\n"
   ]
  },
  {
   "cell_type": "markdown",
   "metadata": {
    "id": "CY2ffq8WtDkb"
   },
   "source": [
    "### 신경망 가중치 초기화 함수 정의\n",
    "신경망의 가중치 초기화 방법에 대해 논문에 자세히 나와있습니다.  \n",
    "다음 사이트는 파이토치에서 가중치 초기화에 관련된 글 입니다  \n",
    "https://www.javaer101.com/ko/article/1010427.html"
   ]
  },
  {
   "cell_type": "code",
   "execution_count": null,
   "metadata": {
    "id": "PuRj6bngtBpr"
   },
   "outputs": [],
   "source": [
    "def weights_init(m):\n",
    "    classname = m.__class__.__name__\n",
    "    if classname.find('Conv') != -1:\n",
    "        nn.init.normal_(m.weight.data, 0.0, 0.02)\n",
    "    elif classname.find('BatchNorm') != -1:\n",
    "        nn.init.normal_(m.weight.data, 1.0, 0.02)\n",
    "        nn.init.constant_(m.bias.data, 0)"
   ]
  },
  {
   "cell_type": "markdown",
   "metadata": {
    "id": "KIzdwP6Otb4Q"
   },
   "source": [
    "### 생성자 클래스\n",
    "\n",
    "trasposed convolution 관련 자료: https://yonghyuc.wordpress.com/2019/08/08/transposed-convolutions-aka-deconvolution/"
   ]
  },
  {
   "cell_type": "code",
   "execution_count": null,
   "metadata": {
    "id": "uWkHRbFvtbFg"
   },
   "outputs": [],
   "source": [
    "class Generator(nn.Module):\n",
    "    def __init__(self):\n",
    "        super(Generator, self).__init__()\n",
    "        self.main = nn.Sequential(\n",
    "            \"빈칸\"\n",
    "        )\n",
    "\n",
    "    def forward(self, input):\n",
    "        return \"빈칸\""
   ]
  },
  {
   "cell_type": "code",
   "execution_count": null,
   "metadata": {
    "id": "8MFp5nD_uOFn"
   },
   "outputs": [],
   "source": [
    "netG = Generator().to(device) # 생성자 객체 생성\n",
    "netG.apply(weights_init) # 위의 정의한 함수로 가중치 초기화\n",
    "\n",
    "# 생성자 출력\n",
    "print(netG)"
   ]
  },
  {
   "cell_type": "markdown",
   "metadata": {
    "id": "YKnrGeQJu5IC"
   },
   "source": [
    "### 판별자 클래스"
   ]
  },
  {
   "cell_type": "code",
   "execution_count": null,
   "metadata": {
    "id": "gPOn7rHEu4Zw"
   },
   "outputs": [],
   "source": [
    "class Discriminator(nn.Module):\n",
    "    def __init__(self):\n",
    "        super(Discriminator, self).__init__()\n",
    "        self.main = nn.Sequential(\n",
    "            \"빈칸\"\n",
    "        )\n",
    "\n",
    "    def forward(self, input):\n",
    "        return \"빈칸\""
   ]
  },
  {
   "cell_type": "code",
   "execution_count": null,
   "metadata": {
    "id": "bNznWbGevHnk"
   },
   "outputs": [],
   "source": [
    "netD = Discriminator().to(device) # 생성자 객체 생성\n",
    "netD.apply(weights_init) # 위의 정의한 함수로 가중치 초기화\n",
    "\n",
    "# 판별자 출력\n",
    "print(netD)"
   ]
  },
  {
   "cell_type": "markdown",
   "metadata": {
    "id": "pO6E3WcLvaca"
   },
   "source": [
    "## Loss Function & Optimizer"
   ]
  },
  {
   "cell_type": "code",
   "execution_count": null,
   "metadata": {
    "id": "q3zo8MjNvT9r"
   },
   "outputs": [],
   "source": [
    "# 손실함수\n",
    "criterion = \"빈칸\"\n",
    "\n",
    "real_label = 1.\n",
    "fake_label = 0.\n",
    "\n",
    "# optimizer hyperparameters\n",
    "learning_rate = \"빈칸\"\n",
    "beta1 = \"빈칸\"\n",
    "\n",
    "# optimizers\n",
    "optimizerD = optim.Adam(\"빈칸\")\n",
    "optimizerG = optim.Adam(\"빈칸\")"
   ]
  },
  {
   "cell_type": "markdown",
   "metadata": {
    "id": "EzI4vYfzxF_k"
   },
   "source": [
    "## Train\n",
    "\"빈칸\"을 채우고, 각각의 변수 및 메소드가 무엇을 나태는지 혹은 어떻게 계산되는지를 주석으로 설명 부탁드립니다.  \n",
    "참고하면 좋은 사이트: https://redstarhong.tistory.com/64"
   ]
  },
  {
   "cell_type": "code",
   "execution_count": null,
   "metadata": {
    "id": "zommtabuxHkC"
   },
   "outputs": [],
   "source": [
    "num_epochs = 5\n",
    "\n",
    "for epoch in range(num_epochs):\n",
    "    for i, data in enumerate(dataloader, 0):\n",
    "\n",
    "        \"빈칸\" # 기울기 초기화\n",
    "        real_cpu = \"빈칸\"\n",
    "        b_size = \"빈칸\"\n",
    "        label = \"빈칸\"\n",
    "        output = \"빈칸\"\n",
    "        errD_real = \"빈칸\"\n",
    "        errD_real.\"빈칸\"\n",
    "        D_x = output.mean().item()\n",
    "\n",
    "        noise = \"빈칸\"\n",
    "        fake = \"빈칸\"\n",
    "        label.fill_(\"빈칸\")\n",
    "        output = \"빈칸\"\n",
    "        errD_fake = \"빈칸\"\n",
    "        errD_fake.\"빈칸\"\n",
    "        D_G_z1 = output.mean().item()\n",
    "\n",
    "        errD = \"빈칸\"\n",
    "        optimizerD.\"빈칸\"\n",
    "\n",
    "\n",
    "        \"빈칸\" # 기울기 초기화\n",
    "        label.fill_(\"빈칸\")\n",
    "        output = \"빈칸\"\n",
    "        errG = \"빈칸\"\n",
    "        errG.\"빈칸\"\n",
    "        D_G_z2 = output.mean().item()\n",
    "\n",
    "        optimizerG.\"빈칸\"\n",
    "\n",
    "        # 학습 경과 출력\n",
    "        if i % 50 == 0:\n",
    "            print('[%d/%d][%d/%d]\\tLoss_D: %.4f\\tLoss_G: %.4f\\tD(x): %.4f\\tD(G(z)): %.4f / %.4f'\n",
    "            % (epoch, num_epochs, i, len(dataloader),\n",
    "                errD.item(), errG.item(), D_x, D_G_z1, D_G_z2))"
   ]
  }
 ],
 "metadata": {
  "accelerator": "GPU",
  "colab": {
   "authorship_tag": "ABX9TyMXqBizIUueIvV5QvyFkeSi",
   "collapsed_sections": [],
   "name": "assignment_wk10.ipynb",
   "provenance": [
    {
     "file_id": "16BsJdzFAyj0w7FiziqGDUvOUYAPLojPy",
     "timestamp": 1617001674222
    }
   ]
  },
  "kernelspec": {
   "display_name": "Python 3",
   "language": "python",
   "name": "python3"
  },
  "language_info": {
   "codemirror_mode": {
    "name": "ipython",
    "version": 3
   },
   "file_extension": ".py",
   "mimetype": "text/x-python",
   "name": "python",
   "nbconvert_exporter": "python",
   "pygments_lexer": "ipython3",
   "version": "3.7.4"
  }
 },
 "nbformat": 4,
 "nbformat_minor": 4
}
