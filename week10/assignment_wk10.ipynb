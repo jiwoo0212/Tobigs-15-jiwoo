{
  "nbformat": 4,
  "nbformat_minor": 0,
  "metadata": {
    "accelerator": "GPU",
    "colab": {
      "name": "assignment_wk10.ipynb",
      "provenance": [],
      "collapsed_sections": []
    },
    "kernelspec": {
      "display_name": "Python 3",
      "language": "python",
      "name": "python3"
    },
    "language_info": {
      "codemirror_mode": {
        "name": "ipython",
        "version": 3
      },
      "file_extension": ".py",
      "mimetype": "text/x-python",
      "name": "python",
      "nbconvert_exporter": "python",
      "pygments_lexer": "ipython3",
      "version": "3.7.4"
    }
  },
  "cells": [
    {
      "cell_type": "markdown",
      "metadata": {
        "id": "lqHSUXBAp2DQ"
      },
      "source": [
        "# 투빅스 15기 정규세션 10주차 DCGAN 구현 과제\n",
        "\"빈칸\" 부분을 채우는 과제입니다. \"빈칸\"뿐만 아니라 중간중간 주석 또는 마크다운으로 설명 부탁드립니다  \n",
        "https://github.com/pytorch/tutorials/blob/master/beginner_source/dcgan_faces_tutorial.py  \n",
        "위의 주소는 pytorch dcgan 공식 튜토리얼 코드로 해당 코드를 바탕으로 과제를 만들었습니다. 튜토리얼 코드와 과제 코드가 상당부분 유사하므로 어려운 점이 있을 때 참고하면 좋을 것 같습니다  \n",
        "다만, 그대로 복붙이 아닌 코드를 이해해 나가면서 과제를 수행해주시기 바랍니다  \n",
        "마지막 과제인 만큼 다들 화이팅!"
      ]
    },
    {
      "cell_type": "markdown",
      "metadata": {
        "id": "zW6ONB7fqANg"
      },
      "source": [
        "## 드라이브 연결"
      ]
    },
    {
      "cell_type": "code",
      "metadata": {
        "id": "8sl5iSXfj9Et",
        "colab": {
          "base_uri": "https://localhost:8080/"
        },
        "outputId": "beef60d1-f026-44f7-c2de-6dd23be46f5d"
      },
      "source": [
        "# gdrive에 mount\n",
        "from google.colab import drive\n",
        "drive.mount('/content/gdrive')\n",
        "# 경로 설정\n",
        "import os\n",
        "os.chdir('/content/gdrive/My Drive/tobigs')"
      ],
      "execution_count": 1,
      "outputs": [
        {
          "output_type": "stream",
          "text": [
            "Mounted at /content/gdrive\n"
          ],
          "name": "stdout"
        }
      ]
    },
    {
      "cell_type": "markdown",
      "metadata": {
        "id": "XlrC-8uBqFbK"
      },
      "source": [
        "## 패키지 임포트"
      ]
    },
    {
      "cell_type": "code",
      "metadata": {
        "id": "1jXGcTmgk4sf"
      },
      "source": [
        "%matplotlib inline\n",
        "from matplotlib import pyplot as plt\n",
        "import random\n",
        "import torch\n",
        "import torch.nn as nn\n",
        "import torch.optim as optim\n",
        "import torch.utils.data\n",
        "import torchvision.datasets as dset\n",
        "import torchvision.transforms as transforms"
      ],
      "execution_count": 2,
      "outputs": []
    },
    {
      "cell_type": "markdown",
      "metadata": {
        "id": "mS080UbJqKMQ"
      },
      "source": [
        "## MNIST 데이터 불러오기\n",
        "기존의 MNIST 손글씨 데이터의 경우 1x28x28 이미지 -> dcgan 모델 적용을 위해 1x64x64 이미지로 크기 조절 (물론 28x28이미지도 사용가능하지만 네트워크 구조 수정 필요)  \n",
        "처음 데이터를 사용할때는 download=True로 데이터를 다운 받기  \n",
        "이후에 사용할때는 데이터가 이미 다운되있으므로 download=False로 바꿔서 사용"
      ]
    },
    {
      "cell_type": "code",
      "metadata": {
        "id": "4kg3Cy9kk55K"
      },
      "source": [
        "# MNIST dataset\n",
        "dataroot = './mnist_data/'\n",
        "imageSize = 64 # the height / width of the input image to network\n",
        "\n",
        "dataset = dset.MNIST(root = dataroot, download= False,\n",
        "                     transform = transforms.Compose([\n",
        "                                                     transforms.Resize(imageSize), #이미지 64x64로 크기 변환\n",
        "                                                     transforms.ToTensor(), #텐서자료형으로 변환\n",
        "                                                     transforms.Normalize((0.5,), (0.5,)), #노말라이즈를 통해 -1.~1.의 값을 갖게 변환\n",
        "                     ]))"
      ],
      "execution_count": 3,
      "outputs": []
    },
    {
      "cell_type": "markdown",
      "metadata": {
        "id": "cBqDKK5Qp1En"
      },
      "source": [
        "### 데이터 확인하기"
      ]
    },
    {
      "cell_type": "code",
      "metadata": {
        "id": "JZoKpxaKoIh8",
        "colab": {
          "base_uri": "https://localhost:8080/"
        },
        "outputId": "f3dbadbe-f36f-40ab-a1cd-d9d2245fa2da"
      },
      "source": [
        "print('number of training data: ', len(dataset)) #데이터 수 확인\n",
        "image,_ = dataset[0]\n",
        "\n",
        "print('Image')\n",
        "print('========================================')\n",
        "print('shape of this image\\t:', image.shape) #데이터 차원(모양)확인하기"
      ],
      "execution_count": 4,
      "outputs": [
        {
          "output_type": "stream",
          "text": [
            "number of training data:  60000\n",
            "Image\n",
            "========================================\n",
            "shape of this image\t: torch.Size([1, 64, 64])\n"
          ],
          "name": "stdout"
        }
      ]
    },
    {
      "cell_type": "code",
      "metadata": {
        "id": "AvL1QHLgoJLs",
        "colab": {
          "base_uri": "https://localhost:8080/",
          "height": 211
        },
        "outputId": "3349baeb-c68a-4a21-dfb5-87b40ec3f273"
      },
      "source": [
        "# 학습 데이터 시각화\n",
        "fig = plt.figure()\n",
        "\n",
        "for i in range(10):\n",
        "    image,_ = dataset[i]\n",
        "    image = (image+1)/2\n",
        "    image = image.squeeze()\n",
        "    np_img = image.numpy()\n",
        "    \n",
        "    subplot = fig.add_subplot(2, 5, i+1)\n",
        "    subplot.set_xticks([])\n",
        "    subplot.set_yticks([])\n",
        "    subplot.imshow(np_img, cmap = 'gray')\n",
        "\n",
        "plt.show()"
      ],
      "execution_count": 5,
      "outputs": [
        {
          "output_type": "display_data",
          "data": {
            "image/png": "[encoded data removed]",
            "text/plain": [
              "<Figure size 432x288 with 10 Axes>"
            ]
          },
          "metadata": {
            "tags": []
          }
        }
      ]
    },
    {
      "cell_type": "markdown",
      "metadata": {
        "id": "GV1hsEW7r7lH"
      },
      "source": [
        "### 데이터 로더 정의"
      ]
    },
    {
      "cell_type": "code",
      "metadata": {
        "id": "dk1AQgq3r60l"
      },
      "source": [
        "# dataloader\n",
        "batch_size = 128\n",
        "workers = 2\n",
        "\n",
        "dataloader = torch.utils.data.DataLoader(dataset, batch_size=batch_size,\n",
        "                                         shuffle = True, num_workers = workers)"
      ],
      "execution_count": 6,
      "outputs": []
    },
    {
      "cell_type": "markdown",
      "metadata": {
        "id": "50srPc9CsrUW"
      },
      "source": [
        "## device 정의"
      ]
    },
    {
      "cell_type": "code",
      "metadata": {
        "id": "_1bDrz7ZsvOq",
        "colab": {
          "base_uri": "https://localhost:8080/"
        },
        "outputId": "8871b5b4-04fb-4a9f-c921-f4b1b8d85bdf"
      },
      "source": [
        "# device\n",
        "device = torch.device(\"cuda:0\" if torch.cuda.is_available() else \"cpu\")\n",
        "print(device)"
      ],
      "execution_count": 7,
      "outputs": [
        {
          "output_type": "stream",
          "text": [
            "cuda:0\n"
          ],
          "name": "stdout"
        }
      ]
    },
    {
      "cell_type": "markdown",
      "metadata": {
        "id": "FF2wxeW7s8hf"
      },
      "source": [
        "## 신경망 "
      ]
    },
    {
      "cell_type": "code",
      "metadata": {
        "id": "VMoPm64ltmiq"
      },
      "source": [
        "#네트워크 하이퍼파라미터 설정\n",
        "nc = 1 # number of channels in the training, images 인풋 이미지 채널 수 \n",
        "nz = 100 # size of z latent vector, z차원수\n",
        "ngf = 64 # size of feature maps in generator, \n",
        "ndf = 64 # size of feature maps in discriminator,\n"
      ],
      "execution_count": 52,
      "outputs": []
    },
    {
      "cell_type": "markdown",
      "metadata": {
        "id": "CY2ffq8WtDkb"
      },
      "source": [
        "### 신경망 가중치 초기화 함수 정의\n",
        "신경망의 가중치 초기화 방법에 대해 논문에 자세히 나와있습니다.  \n",
        "다음 사이트는 파이토치에서 가중치 초기화에 관련된 글 입니다  \n",
        "https://www.javaer101.com/ko/article/1010427.html"
      ]
    },
    {
      "cell_type": "code",
      "metadata": {
        "id": "PuRj6bngtBpr"
      },
      "source": [
        "def weights_init(m):\n",
        "    classname = m.__class__.__name__\n",
        "    if classname.find('Conv') != -1:\n",
        "        nn.init.normal_(m.weight.data, 0.0, 0.02)\n",
        "    elif classname.find('BatchNorm') != -1:\n",
        "        nn.init.normal_(m.weight.data, 1.0, 0.02)\n",
        "        nn.init.constant_(m.bias.data, 0)"
      ],
      "execution_count": 53,
      "outputs": []
    },
    {
      "cell_type": "markdown",
      "metadata": {
        "id": "ojEMPoozZcY5"
      },
      "source": [
        "### 생성자 클래스\n",
        "\n",
        "trasposed convolution 관련 자료: https://yonghyuc.wordpress.com/2019/08/08/transposed-convolutions-aka-deconvolution/\n",
        "![](https://blog.kakaocdn.net/dn/vqhJj/btqEdxkQ5qF/c97mGecm8vzGwj68d8uogK/img.png![1.PNG](data:image/png;base64,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))"
      ]
    },
    {
      "cell_type": "markdown",
      "metadata": {
        "id": "KMycWvXbZuEK"
      },
      "source": [
        "![](https://blog.kakaocdn.net/dn/vqhJj/btqEdxkQ5qF/c97mGecm8vzGwj68d8uogK/img.png)"
      ]
    },
    {
      "cell_type": "code",
      "metadata": {
        "colab": {
          "base_uri": "https://localhost:8080/"
        },
        "id": "ZL_dA3x_3Sfh",
        "outputId": "8c58ab80-2d07-49c7-88c1-13c8d1ac5aa8"
      },
      "source": [
        "print(1024/64)\n",
        "print(512/64)"
      ],
      "execution_count": 29,
      "outputs": [
        {
          "output_type": "stream",
          "text": [
            "16.0\n",
            "8.0\n"
          ],
          "name": "stdout"
        }
      ]
    },
    {
      "cell_type": "code",
      "metadata": {
        "id": "jDpiSND58qjv"
      },
      "source": [
        "from torchsummary import summary"
      ],
      "execution_count": 19,
      "outputs": []
    },
    {
      "cell_type": "code",
      "metadata": {
        "colab": {
          "base_uri": "https://localhost:8080/"
        },
        "id": "5q-rwPto6r-J",
        "outputId": "6afb6942-7237-44bc-bdad-3793fd2d8e94"
      },
      "source": [
        "class Net(nn.Module):\n",
        "  def __init__(self):\n",
        "    super(Net, self).__init__()\n",
        "    self.layer1 = nn.Sequential(\n",
        "        nn.ConvTranspose2d(100, 64, kernel_size=4, stride=1, bias=False),\n",
        "        nn.ConvTranspose2d(64, 64, kernel_size=4, stride=2, padding=1, bias=False),\n",
        "        nn.ConvTranspose2d(64, 64, kernel_size=4, stride=2, padding=1, bias=False),\n",
        "        nn.ConvTranspose2d(64, 64, kernel_size=7, stride=1, bias=False),\n",
        "        nn.ConvTranspose2d(64, 64, kernel_size=7, stride=1, bias=False),\n",
        "        )\n",
        "\n",
        "  def forward(self, input):\n",
        "    return self.layer1(input)\n",
        "\n",
        "input, _ = dataset[0]\n",
        "device = torch.device(\"cuda\" if torch.cuda.is_available() else \"cpu\") # PyTorch v0.4.0\n",
        "model = Net().to(device)\n",
        "\n",
        "summary(model, (100, 1, 1))"
      ],
      "execution_count": 51,
      "outputs": [
        {
          "output_type": "stream",
          "text": [
            "----------------------------------------------------------------\n",
            "        Layer (type)               Output Shape         Param #\n",
            "================================================================\n",
            "   ConvTranspose2d-1             [-1, 64, 4, 4]         102,400\n",
            "   ConvTranspose2d-2             [-1, 64, 8, 8]          65,536\n",
            "   ConvTranspose2d-3           [-1, 64, 16, 16]          65,536\n",
            "   ConvTranspose2d-4           [-1, 64, 22, 22]         200,704\n",
            "   ConvTranspose2d-5           [-1, 64, 28, 28]         200,704\n",
            "================================================================\n",
            "Total params: 634,880\n",
            "Trainable params: 634,880\n",
            "Non-trainable params: 0\n",
            "----------------------------------------------------------------\n",
            "Input size (MB): 0.00\n",
            "Forward/backward pass size (MB): 0.78\n",
            "Params size (MB): 2.42\n",
            "Estimated Total Size (MB): 3.21\n",
            "----------------------------------------------------------------\n"
          ],
          "name": "stdout"
        }
      ]
    },
    {
      "cell_type": "markdown",
      "metadata": {
        "id": "kfDsjHcsI8cW"
      },
      "source": [
        "### Generator\n",
        "\n",
        "noise vector z를 입력으로 받고 reconstruct된 이미지를 output으로 내보냅니다.\n",
        "\n",
        "\n",
        "(transposed convolution -> batch normalize -> ReLU) 레이어 구성을 가집니다.\n",
        "\n",
        "마지막 출력층에서는 \n",
        "\n",
        "(transposed convolution -> batch normalize -> Tanh)\n",
        "\n",
        "(-1, 1) 사이의 값을 가지는 하이퍼볼릭 탄젠트 함수를 사용합니다."
      ]
    },
    {
      "cell_type": "code",
      "metadata": {
        "id": "uWkHRbFvtbFg"
      },
      "source": [
        "class Generator(nn.Module):\n",
        "    def __init__(self):\n",
        "        super(Generator, self).__init__()\n",
        "        self.main = nn.Sequential(\n",
        "            #torch.nn.ConvTranspose2d(in_channels, out_channels, kernel_size, stride=1, padding=0, output_padding=0, groups=1, bias=True, dilation=1, padding_mode='zeros')\n",
        "            \n",
        "            #layer 1\n",
        "            # 100개의 채널을 가지는 z(100, 1, 1) -> (64*8=512, 4, 4)\n",
        "            # 논문의 그림대로라면 output_channel을 64*16=1024 로 지정해야한다.\n",
        "            nn.ConvTranspose2d(in_channels=nz, out_channels=ngf * 8, kernel_size=4, stride=1, padding=0, bias=False),\n",
        "            nn.BatchNorm2d(ngf * 8),\n",
        "            nn.ReLU(True),\n",
        "            \n",
        "\n",
        "            # layer 2\n",
        "            # (64*8, 4, 4) -> (64*4=256, 8, 8)\n",
        "            # 논문의 그림대로라면 output_channel을 64*8=512 로 지정해야한다.\n",
        "            nn.ConvTranspose2d(in_channels=ngf * 8, out_channels=ngf * 4, kernel_size=4, stride=2, padding=1, bias=False),\n",
        "            nn.BatchNorm2d(ngf * 4),\n",
        "            nn.ReLU(True),\n",
        "            \n",
        "\n",
        "            # layer 3\n",
        "            # (64*4, 8, 8) -> (64*2=128, 16, 16)\n",
        "            # 논문의 그림대로라면 output_channel을 64*4=256 로 지정해야한다.\n",
        "            nn.ConvTranspose2d( in_channels=ngf * 4, out_channels=ngf * 2, kernel_size=4, stride=2, padding=1, bias=False),\n",
        "            nn.BatchNorm2d(ngf * 2),\n",
        "            nn.ReLU(True),\n",
        "            \n",
        "\n",
        "            # layer 4\n",
        "            # (64*2, 32, 32) -> (64, 32, 32)\n",
        "            # 논문의 그림대로라면 output_channel을 64*2=128 로 지정해야한다.\n",
        "            nn.ConvTranspose2d( in_channels=ngf * 2, out_channels=ngf, kernel_size=4, stride=2, padding=1, bias=False),\n",
        "            nn.BatchNorm2d(ngf),\n",
        "            nn.ReLU(True),\n",
        "            \n",
        "\n",
        "            # layer 5\n",
        "            # (64, 32, 32) -> (3, 64, 64)\n",
        "            # 논문의 그림대로라면 output_channel을 3 으로 지정해야한다.\n",
        "            nn.ConvTranspose2d( in_channels=ngf, out_channels=nc, kernel_size=4, stride=2, padding=1, bias=False),\n",
        "            nn.Tanh()\n",
        "            # state size. (nc) x 64 x 64\n",
        "\n",
        "        )\n",
        "\n",
        "    def forward(self, input):\n",
        "        return self.main(input)"
      ],
      "execution_count": 57,
      "outputs": []
    },
    {
      "cell_type": "code",
      "metadata": {
        "id": "8MFp5nD_uOFn",
        "colab": {
          "base_uri": "https://localhost:8080/"
        },
        "outputId": "df9ecd39-3cdf-4727-be15-c3c617bd77d8"
      },
      "source": [
        "netG = Generator().to(device) # 생성자 객체 생성\n",
        "netG.apply(weights_init) # 위의 정의한 함수로 가중치 초기화\n",
        "\n",
        "# 생성자 출력\n",
        "print(netG)"
      ],
      "execution_count": 58,
      "outputs": [
        {
          "output_type": "stream",
          "text": [
            "Generator(\n",
            "  (main): Sequential(\n",
            "    (0): ConvTranspose2d(100, 512, kernel_size=(4, 4), stride=(1, 1), bias=False)\n",
            "    (1): BatchNorm2d(512, eps=1e-05, momentum=0.1, affine=True, track_running_stats=True)\n",
            "    (2): ReLU(inplace=True)\n",
            "    (3): ConvTranspose2d(512, 256, kernel_size=(4, 4), stride=(2, 2), padding=(1, 1), bias=False)\n",
            "    (4): BatchNorm2d(256, eps=1e-05, momentum=0.1, affine=True, track_running_stats=True)\n",
            "    (5): ReLU(inplace=True)\n",
            "    (6): ConvTranspose2d(256, 128, kernel_size=(4, 4), stride=(2, 2), padding=(1, 1), bias=False)\n",
            "    (7): BatchNorm2d(128, eps=1e-05, momentum=0.1, affine=True, track_running_stats=True)\n",
            "    (8): ReLU(inplace=True)\n",
            "    (9): ConvTranspose2d(128, 64, kernel_size=(4, 4), stride=(2, 2), padding=(1, 1), bias=False)\n",
            "    (10): BatchNorm2d(64, eps=1e-05, momentum=0.1, affine=True, track_running_stats=True)\n",
            "    (11): ReLU(inplace=True)\n",
            "    (12): ConvTranspose2d(64, 1, kernel_size=(4, 4), stride=(2, 2), padding=(1, 1), bias=False)\n",
            "    (13): Tanh()\n",
            "  )\n",
            ")\n"
          ],
          "name": "stdout"
        }
      ]
    },
    {
      "cell_type": "code",
      "metadata": {
        "colab": {
          "base_uri": "https://localhost:8080/"
        },
        "id": "SwCVtdNQAV1G",
        "outputId": "f8bb9571-a43f-4b1d-913d-2d6292046662"
      },
      "source": [
        "# generator의 피쳐맵의 크기는 아래와 같이 변합니다. \n",
        "# input은 (100, 1, 1), output은 (1, 64, 64)\n",
        "summary(netG, (100, 1, 1))"
      ],
      "execution_count": 59,
      "outputs": [
        {
          "output_type": "stream",
          "text": [
            "----------------------------------------------------------------\n",
            "        Layer (type)               Output Shape         Param #\n",
            "================================================================\n",
            "   ConvTranspose2d-1            [-1, 512, 4, 4]         819,200\n",
            "       BatchNorm2d-2            [-1, 512, 4, 4]           1,024\n",
            "              ReLU-3            [-1, 512, 4, 4]               0\n",
            "   ConvTranspose2d-4            [-1, 256, 8, 8]       2,097,152\n",
            "       BatchNorm2d-5            [-1, 256, 8, 8]             512\n",
            "              ReLU-6            [-1, 256, 8, 8]               0\n",
            "   ConvTranspose2d-7          [-1, 128, 16, 16]         524,288\n",
            "       BatchNorm2d-8          [-1, 128, 16, 16]             256\n",
            "              ReLU-9          [-1, 128, 16, 16]               0\n",
            "  ConvTranspose2d-10           [-1, 64, 32, 32]         131,072\n",
            "      BatchNorm2d-11           [-1, 64, 32, 32]             128\n",
            "             ReLU-12           [-1, 64, 32, 32]               0\n",
            "  ConvTranspose2d-13            [-1, 1, 64, 64]           1,024\n",
            "             Tanh-14            [-1, 1, 64, 64]               0\n",
            "================================================================\n",
            "Total params: 3,574,656\n",
            "Trainable params: 3,574,656\n",
            "Non-trainable params: 0\n",
            "----------------------------------------------------------------\n",
            "Input size (MB): 0.00\n",
            "Forward/backward pass size (MB): 2.88\n",
            "Params size (MB): 13.64\n",
            "Estimated Total Size (MB): 16.51\n",
            "----------------------------------------------------------------\n"
          ],
          "name": "stdout"
        }
      ]
    },
    {
      "cell_type": "markdown",
      "metadata": {
        "id": "YKnrGeQJu5IC"
      },
      "source": [
        "### 판별자 클래스"
      ]
    },
    {
      "cell_type": "markdown",
      "metadata": {
        "id": "cQ3R3VC_KCOK"
      },
      "source": [
        "## Discriminator\n",
        "이미지를 인풋으로 받고 이미지가 '진짜일 확률'을 output으로 가집니다.\n",
        "\n",
        "( Conv -> batch normalize -> LeakyReLU ) 조합을 사용합니다.\n",
        "\n",
        "하지만 batch normalize를 모든 레이어에 적용했을 때 모델이 불안정해지는 문제가 있었기 때문에 input과 output에서는 사용하지 않았습니다."
      ]
    },
    {
      "cell_type": "code",
      "metadata": {
        "id": "gPOn7rHEu4Zw"
      },
      "source": [
        "class Discriminator(nn.Module):\n",
        "    def __init__(self):\n",
        "        super(Discriminator, self).__init__()\n",
        "        self.main = nn.Sequential(\n",
        "            # (1, 64, 64) -> (64, 32, 32)\n",
        "            nn.Conv2d(in_channels=nc, out_channels=ndf, kernel_size=4, stride=2, padding=1, bias=False),\n",
        "            nn.LeakyReLU(0.2, inplace=True),\n",
        "\n",
        "            # (64, 32, 32) -> (128, 16, 16)\n",
        "            nn.Conv2d(in_channels=ndf, out_channels=ndf * 2, kernel_size=4, stride=2, padding=1, bias=False),\n",
        "            nn.BatchNorm2d(ndf * 2),\n",
        "            nn.LeakyReLU(0.2, inplace=True),\n",
        "\n",
        "            # (128, 16, 16) -> (256, 8, 8)\n",
        "            nn.Conv2d(in_channels=ndf * 2, out_channels=ndf * 4, kernel_size=4, stride=2, padding=1, bias=False),\n",
        "            nn.BatchNorm2d(ndf * 4),\n",
        "            nn.LeakyReLU(0.2, inplace=True),\n",
        "\n",
        "            # (256, 8, 8) -> (512, 4, 4)\n",
        "            nn.Conv2d(in_channels=ndf * 4, out_channels=ndf * 8, kernel_size=4, stride=2, padding=1, bias=False),\n",
        "            nn.BatchNorm2d(ndf * 8),\n",
        "            nn.LeakyReLU(0.2, inplace=True),\n",
        "\n",
        "            # (512, 4, 4) -> (1, 1, 1)\n",
        "            nn.Conv2d(in_channels=ndf * 8, out_channels=1, kernel_size=4, stride=1, padding=0, bias=False),\n",
        "            nn.Sigmoid()\n",
        "        )\n",
        "\n",
        "    def forward(self, input):\n",
        "        return self.main(input)"
      ],
      "execution_count": 61,
      "outputs": []
    },
    {
      "cell_type": "code",
      "metadata": {
        "id": "bNznWbGevHnk",
        "colab": {
          "base_uri": "https://localhost:8080/"
        },
        "outputId": "0a52105e-8cfd-4ef1-f532-38983b0ec2a7"
      },
      "source": [
        "netD = Discriminator().to(device) # 생성자 객체 생성\n",
        "netD.apply(weights_init) # 위의 정의한 함수로 가중치 초기화\n",
        "\n",
        "# 판별자 출력\n",
        "print(netD)"
      ],
      "execution_count": 62,
      "outputs": [
        {
          "output_type": "stream",
          "text": [
            "Discriminator(\n",
            "  (main): Sequential(\n",
            "    (0): Conv2d(1, 64, kernel_size=(4, 4), stride=(2, 2), padding=(1, 1), bias=False)\n",
            "    (1): LeakyReLU(negative_slope=0.2, inplace=True)\n",
            "    (2): Conv2d(64, 128, kernel_size=(4, 4), stride=(2, 2), padding=(1, 1), bias=False)\n",
            "    (3): BatchNorm2d(128, eps=1e-05, momentum=0.1, affine=True, track_running_stats=True)\n",
            "    (4): LeakyReLU(negative_slope=0.2, inplace=True)\n",
            "    (5): Conv2d(128, 256, kernel_size=(4, 4), stride=(2, 2), padding=(1, 1), bias=False)\n",
            "    (6): BatchNorm2d(256, eps=1e-05, momentum=0.1, affine=True, track_running_stats=True)\n",
            "    (7): LeakyReLU(negative_slope=0.2, inplace=True)\n",
            "    (8): Conv2d(256, 512, kernel_size=(4, 4), stride=(2, 2), padding=(1, 1), bias=False)\n",
            "    (9): BatchNorm2d(512, eps=1e-05, momentum=0.1, affine=True, track_running_stats=True)\n",
            "    (10): LeakyReLU(negative_slope=0.2, inplace=True)\n",
            "    (11): Conv2d(512, 1, kernel_size=(4, 4), stride=(1, 1), bias=False)\n",
            "    (12): Sigmoid()\n",
            "  )\n",
            ")\n"
          ],
          "name": "stdout"
        }
      ]
    },
    {
      "cell_type": "code",
      "metadata": {
        "colab": {
          "base_uri": "https://localhost:8080/"
        },
        "id": "Vp6dwGPHM38B",
        "outputId": "acf48fc7-d1f9-4d10-bef9-7c6a0a766fe7"
      },
      "source": [
        "# discriminator의 피쳐맵의 크기는 아래와 같이 변합니다. \n",
        "# input은 (1, 64, 64), output은 (1, 1, 1)\n",
        "summary(netD, (1, 64, 64))"
      ],
      "execution_count": 64,
      "outputs": [
        {
          "output_type": "stream",
          "text": [
            "----------------------------------------------------------------\n",
            "        Layer (type)               Output Shape         Param #\n",
            "================================================================\n",
            "            Conv2d-1           [-1, 64, 32, 32]           1,024\n",
            "         LeakyReLU-2           [-1, 64, 32, 32]               0\n",
            "            Conv2d-3          [-1, 128, 16, 16]         131,072\n",
            "       BatchNorm2d-4          [-1, 128, 16, 16]             256\n",
            "         LeakyReLU-5          [-1, 128, 16, 16]               0\n",
            "            Conv2d-6            [-1, 256, 8, 8]         524,288\n",
            "       BatchNorm2d-7            [-1, 256, 8, 8]             512\n",
            "         LeakyReLU-8            [-1, 256, 8, 8]               0\n",
            "            Conv2d-9            [-1, 512, 4, 4]       2,097,152\n",
            "      BatchNorm2d-10            [-1, 512, 4, 4]           1,024\n",
            "        LeakyReLU-11            [-1, 512, 4, 4]               0\n",
            "           Conv2d-12              [-1, 1, 1, 1]           8,192\n",
            "          Sigmoid-13              [-1, 1, 1, 1]               0\n",
            "================================================================\n",
            "Total params: 2,763,520\n",
            "Trainable params: 2,763,520\n",
            "Non-trainable params: 0\n",
            "----------------------------------------------------------------\n",
            "Input size (MB): 0.02\n",
            "Forward/backward pass size (MB): 2.31\n",
            "Params size (MB): 10.54\n",
            "Estimated Total Size (MB): 12.87\n",
            "----------------------------------------------------------------\n"
          ],
          "name": "stdout"
        }
      ]
    },
    {
      "cell_type": "markdown",
      "metadata": {
        "id": "pO6E3WcLvaca"
      },
      "source": [
        "## Loss Function & Optimizer"
      ]
    },
    {
      "cell_type": "code",
      "metadata": {
        "id": "q3zo8MjNvT9r"
      },
      "source": [
        "# 손실함수\n",
        "criterion = nn.BCELoss()\n",
        "\n",
        "real_label = 1.\n",
        "fake_label = 0.\n",
        "\n",
        "# optimizer hyperparameters\n",
        "learning_rate = 0.0002\n",
        "beta1 = 0.5\n",
        "\n",
        "# optimizers\n",
        "optimizerD = optim.Adam(netD.parameters(), lr=learning_rate, betas=(beta1, 0.999))\n",
        "optimizerG = optim.Adam(netG.parameters(), lr=learning_rate, betas=(beta1, 0.999))"
      ],
      "execution_count": 66,
      "outputs": []
    },
    {
      "cell_type": "markdown",
      "metadata": {
        "id": "EzI4vYfzxF_k"
      },
      "source": [
        "## Train\n",
        "\"빈칸\"을 채우고, 각각의 변수 및 메소드가 무엇을 나태는지 혹은 어떻게 계산되는지를 주석으로 설명 부탁드립니다.  \n",
        "참고하면 좋은 사이트: https://redstarhong.tistory.com/64"
      ]
    },
    {
      "cell_type": "code",
      "metadata": {
        "id": "zommtabuxHkC",
        "colab": {
          "base_uri": "https://localhost:8080/"
        },
        "outputId": "b8dbc6d9-aa22-49c6-dbdc-679a508ceffd"
      },
      "source": [
        "num_epochs = 5\n",
        "\n",
        "for epoch in range(num_epochs):\n",
        "    for i, data in enumerate(dataloader, 0):\n",
        "\n",
        "        # Driscriminator 학습부터 시작\n",
        "        netD.zero_grad() # 기울기 초기화 \n",
        "        real_cpu = data[0].to(device)\n",
        "        b_size = real_cpu.size(0)\n",
        "\n",
        "        # 실제 이미지로만 학습하는 것이기 때문에 label은 모두 1\n",
        "        label = torch.full((b_size,), real_label, dtype=torch.float, device=device)\n",
        "        output = netD(real_cpu).view(-1) # D(진짜 이미지)\n",
        "        errD_real = criterion(output, label) # loss계산\n",
        "        errD_real.backward() # 계산한 loss로 역전파\n",
        "        D_x = output.mean().item() \n",
        "\n",
        "        noise = torch.randn(b_size, nz, 1, 1, device=device) # 정규분포에서 노이즈를 sampling\n",
        "        fake = netG(noise) # G(z)\n",
        "        label.fill_(fake_label) # 만들어진 이미지로만 학습하는 것이기 때문에 label은 모두 0\n",
        "        output = netD(fake.detach()).view(-1) # D 먼저 학습하는 것이기 때문에 G가 같이 학습되지 않도록 처리\n",
        "        errD_fake = criterion(output, label) # loss계산\n",
        "        errD_fake.backward() # 계산한 loss로 역전파\n",
        "        D_G_z1 = output.mean().item()\n",
        "\n",
        "        errD = errD_real + errD_fake\n",
        "        optimizerD.step() # discriminator 기울기 갱신\n",
        "\n",
        "        # Generator 학습 시작\n",
        "        netG.zero_grad() # 기울기 초기화\n",
        "        label.fill_(real_label) \n",
        "        output = netD(fake).view(-1) # D(G(z)) \n",
        "        errG = criterion(output, label) # 생성자가 만들어낸 이미지를 판별자가 1로 분류할 수 있도록 학습\n",
        "        errG.backward() # 계산한 loss로 역전파\n",
        "        D_G_z2 = output.mean().item()\n",
        "\n",
        "        optimizerG.step() # generator 기울기 갱신\n",
        "\n",
        "        # 학습 경과 출력\n",
        "        if i % 50 == 0:\n",
        "            print('[%d/%d][%d/%d]\\tLoss_D: %.4f\\tLoss_G: %.4f\\tD(x): %.4f\\tD(G(z)): %.4f / %.4f'\n",
        "            % (epoch, num_epochs, i, len(dataloader),\n",
        "                errD.item(), errG.item(), D_x, D_G_z1, D_G_z2))"
      ],
      "execution_count": 68,
      "outputs": [
        {
          "output_type": "stream",
          "text": [
            "[0/5][0/469]\tLoss_D: 0.0036\tLoss_G: 7.3631\tD(x): 0.9978\tD(G(z)): 0.0014 / 0.0014\n",
            "[0/5][50/469]\tLoss_D: 0.0023\tLoss_G: 8.1133\tD(x): 0.9985\tD(G(z)): 0.0007 / 0.0008\n",
            "[0/5][100/469]\tLoss_D: 0.0017\tLoss_G: 8.6439\tD(x): 0.9988\tD(G(z)): 0.0005 / 0.0005\n",
            "[0/5][150/469]\tLoss_D: 0.0008\tLoss_G: 9.1830\tD(x): 0.9996\tD(G(z)): 0.0004 / 0.0004\n",
            "[0/5][200/469]\tLoss_D: 0.0006\tLoss_G: 9.0538\tD(x): 0.9998\tD(G(z)): 0.0004 / 0.0004\n",
            "[0/5][250/469]\tLoss_D: 0.0003\tLoss_G: 9.6914\tD(x): 0.9999\tD(G(z)): 0.0002 / 0.0002\n",
            "[0/5][300/469]\tLoss_D: 0.0005\tLoss_G: 10.1037\tD(x): 0.9996\tD(G(z)): 0.0001 / 0.0001\n",
            "[0/5][350/469]\tLoss_D: 0.0011\tLoss_G: 10.2200\tD(x): 0.9991\tD(G(z)): 0.0001 / 0.0001\n",
            "[0/5][400/469]\tLoss_D: 0.0002\tLoss_G: 10.3200\tD(x): 0.9999\tD(G(z)): 0.0001 / 0.0001\n",
            "[0/5][450/469]\tLoss_D: 0.0002\tLoss_G: 10.4918\tD(x): 0.9999\tD(G(z)): 0.0001 / 0.0001\n",
            "[1/5][0/469]\tLoss_D: 0.0002\tLoss_G: 10.5541\tD(x): 0.9999\tD(G(z)): 0.0001 / 0.0001\n",
            "[1/5][50/469]\tLoss_D: 0.0002\tLoss_G: 10.8061\tD(x): 0.9999\tD(G(z)): 0.0001 / 0.0001\n",
            "[1/5][100/469]\tLoss_D: 0.0001\tLoss_G: 11.0209\tD(x): 1.0000\tD(G(z)): 0.0001 / 0.0001\n",
            "[1/5][150/469]\tLoss_D: 0.0001\tLoss_G: 11.0731\tD(x): 0.9999\tD(G(z)): 0.0000 / 0.0000\n",
            "[1/5][200/469]\tLoss_D: 0.0001\tLoss_G: 11.2328\tD(x): 1.0000\tD(G(z)): 0.0001 / 0.0001\n",
            "[1/5][250/469]\tLoss_D: 0.0002\tLoss_G: 10.9484\tD(x): 0.9999\tD(G(z)): 0.0001 / 0.0001\n",
            "[1/5][300/469]\tLoss_D: 0.0002\tLoss_G: 11.5945\tD(x): 0.9998\tD(G(z)): 0.0001 / 0.0001\n",
            "[1/5][350/469]\tLoss_D: 0.0001\tLoss_G: 11.9464\tD(x): 0.9999\tD(G(z)): 0.0001 / 0.0001\n",
            "[1/5][400/469]\tLoss_D: 0.0001\tLoss_G: 12.4817\tD(x): 1.0000\tD(G(z)): 0.0000 / 0.0000\n",
            "[1/5][450/469]\tLoss_D: 0.0001\tLoss_G: 11.6414\tD(x): 1.0000\tD(G(z)): 0.0000 / 0.0000\n",
            "[2/5][0/469]\tLoss_D: 0.0000\tLoss_G: 11.9569\tD(x): 1.0000\tD(G(z)): 0.0000 / 0.0000\n",
            "[2/5][50/469]\tLoss_D: 0.0000\tLoss_G: 12.0198\tD(x): 1.0000\tD(G(z)): 0.0000 / 0.0000\n",
            "[2/5][100/469]\tLoss_D: 0.0000\tLoss_G: 12.0597\tD(x): 1.0000\tD(G(z)): 0.0000 / 0.0000\n",
            "[2/5][150/469]\tLoss_D: 0.0001\tLoss_G: 12.0372\tD(x): 0.9999\tD(G(z)): 0.0000 / 0.0000\n",
            "[2/5][200/469]\tLoss_D: 0.0001\tLoss_G: 12.1259\tD(x): 0.9999\tD(G(z)): 0.0000 / 0.0000\n",
            "[2/5][250/469]\tLoss_D: 0.0000\tLoss_G: 12.2061\tD(x): 1.0000\tD(G(z)): 0.0000 / 0.0000\n",
            "[2/5][300/469]\tLoss_D: 0.0000\tLoss_G: 12.3296\tD(x): 1.0000\tD(G(z)): 0.0000 / 0.0000\n",
            "[2/5][350/469]\tLoss_D: 0.0000\tLoss_G: 12.5329\tD(x): 1.0000\tD(G(z)): 0.0000 / 0.0000\n",
            "[2/5][400/469]\tLoss_D: 0.0000\tLoss_G: 12.6952\tD(x): 1.0000\tD(G(z)): 0.0000 / 0.0000\n",
            "[2/5][450/469]\tLoss_D: 0.0000\tLoss_G: 12.7255\tD(x): 1.0000\tD(G(z)): 0.0000 / 0.0000\n",
            "[3/5][0/469]\tLoss_D: 0.0000\tLoss_G: 12.6370\tD(x): 1.0000\tD(G(z)): 0.0000 / 0.0000\n",
            "[3/5][50/469]\tLoss_D: 0.0000\tLoss_G: 12.7735\tD(x): 1.0000\tD(G(z)): 0.0000 / 0.0000\n",
            "[3/5][100/469]\tLoss_D: 0.0000\tLoss_G: 12.6673\tD(x): 1.0000\tD(G(z)): 0.0000 / 0.0000\n",
            "[3/5][150/469]\tLoss_D: 0.0000\tLoss_G: 12.7326\tD(x): 1.0000\tD(G(z)): 0.0000 / 0.0000\n",
            "[3/5][200/469]\tLoss_D: 0.0000\tLoss_G: 13.3313\tD(x): 1.0000\tD(G(z)): 0.0000 / 0.0000\n",
            "[3/5][250/469]\tLoss_D: 0.0000\tLoss_G: 13.1715\tD(x): 1.0000\tD(G(z)): 0.0000 / 0.0000\n",
            "[3/5][300/469]\tLoss_D: 0.0000\tLoss_G: 13.9343\tD(x): 1.0000\tD(G(z)): 0.0000 / 0.0000\n",
            "[3/5][350/469]\tLoss_D: 0.0000\tLoss_G: 13.4323\tD(x): 1.0000\tD(G(z)): 0.0000 / 0.0000\n",
            "[3/5][400/469]\tLoss_D: 0.0000\tLoss_G: 12.9588\tD(x): 1.0000\tD(G(z)): 0.0000 / 0.0000\n",
            "[3/5][450/469]\tLoss_D: 0.0000\tLoss_G: 13.2487\tD(x): 1.0000\tD(G(z)): 0.0000 / 0.0000\n",
            "[4/5][0/469]\tLoss_D: 0.0000\tLoss_G: 13.2647\tD(x): 1.0000\tD(G(z)): 0.0000 / 0.0000\n",
            "[4/5][50/469]\tLoss_D: 0.0000\tLoss_G: 13.3429\tD(x): 1.0000\tD(G(z)): 0.0000 / 0.0000\n",
            "[4/5][100/469]\tLoss_D: 0.0000\tLoss_G: 13.3683\tD(x): 1.0000\tD(G(z)): 0.0000 / 0.0000\n",
            "[4/5][150/469]\tLoss_D: 0.0000\tLoss_G: 13.5733\tD(x): 1.0000\tD(G(z)): 0.0000 / 0.0000\n",
            "[4/5][200/469]\tLoss_D: 0.0000\tLoss_G: 13.5586\tD(x): 1.0000\tD(G(z)): 0.0000 / 0.0000\n",
            "[4/5][250/469]\tLoss_D: 0.0000\tLoss_G: 13.3836\tD(x): 1.0000\tD(G(z)): 0.0000 / 0.0000\n",
            "[4/5][300/469]\tLoss_D: 0.0000\tLoss_G: 13.9276\tD(x): 1.0000\tD(G(z)): 0.0000 / 0.0000\n",
            "[4/5][350/469]\tLoss_D: 0.0000\tLoss_G: 13.3556\tD(x): 1.0000\tD(G(z)): 0.0000 / 0.0000\n",
            "[4/5][400/469]\tLoss_D: 0.0000\tLoss_G: 14.2902\tD(x): 1.0000\tD(G(z)): 0.0000 / 0.0000\n",
            "[4/5][450/469]\tLoss_D: 0.0000\tLoss_G: 13.7915\tD(x): 1.0000\tD(G(z)): 0.0000 / 0.0000\n"
          ],
          "name": "stdout"
        }
      ]
    },
    {
      "cell_type": "code",
      "metadata": {
        "id": "6BhFTd4sPYYd"
      },
      "source": [
        ""
      ],
      "execution_count": null,
      "outputs": []
    }
  ]
}