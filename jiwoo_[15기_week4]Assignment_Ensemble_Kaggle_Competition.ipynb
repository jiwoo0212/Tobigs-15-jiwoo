{
 "cells": [
  {
   "cell_type": "markdown",
   "metadata": {
    "id": "lC65DrWswSZP"
   },
   "source": [
    "#  Apps Dataset\n",
    "Google Play Store dataset을 가져왔습니다.   \n",
    "Rating 컬럼을 target으로 설정하고 예측하는 앙상블을 진행해봅시다  \n",
    "\n",
    "## 앙상블 조건\n",
    "1. 이상치 처리\n",
    "2. 범주형 변수 처리 : 비슷한 것 끼리 묶기 , 더미변수화 등  \n",
    "3. 베이스 모델 하이퍼파라미터 튜닝  \n",
    "4. stacking : 최소 두 가지 방법 시도   \n",
    "5. 앙상블에 대한 설명 주석을 마크다운으로 꼼꼼히!  \n",
    "\n",
    "|  <center>변수명</center> |  <center>설명</center> |  <center>비고</center> |\n",
    "|:--------|:--------|:--------|\n",
    "| App | 어플명 | |  \n",
    "| Rating | 평점 | target |\n",
    "| Reviews | 리뷰갯수 | |\n",
    "| Size | 어플 크기 | |\n",
    "| Installs | 다운로드 횟수 | |\n",
    "| Price | 가격 | |\n",
    "| Content Rating | 관람가 | |\n",
    "| Genres | 세부장르 | |\n",
    "| Last Updated | 마지막 업데이트 | |"
   ]
  },
  {
   "cell_type": "code",
   "execution_count": 4,
   "metadata": {
    "id": "1Zwva1vcwcDt"
   },
   "outputs": [],
   "source": [
    "# ready\n",
    "import pandas as pd\n",
    "import numpy as np\n",
    "import warnings\n",
    "warnings.filterwarnings('ignore')\n",
    "pd.options.display.max_rows = 999\n",
    "pd.options.display.max_columns = 999\n",
    "\n",
    "# visualization\n",
    "\n",
    "from matplotlib import pyplot as plt\n",
    "plt.style.use('seaborn')\n",
    "import seaborn as sns\n",
    "%matplotlib inline"
   ]
  },
  {
   "cell_type": "code",
   "execution_count": 51,
   "metadata": {
    "id": "QZ2IkyRDOwJZ"
   },
   "outputs": [],
   "source": [
    "# Load Data\n",
    "train = pd.read_csv('ggstore_train.csv',encoding = 'unicode_escape')\n",
    "test = pd.read_csv('ggstore_test.csv',encoding = 'unicode_escape')"
   ]
  },
  {
   "cell_type": "code",
   "execution_count": 5,
   "metadata": {},
   "outputs": [],
   "source": [
    "origin_test = pd.read_csv('ggstore_test.csv',encoding = 'unicode_escape')"
   ]
  },
  {
   "cell_type": "code",
   "execution_count": 247,
   "metadata": {},
   "outputs": [
    {
     "data": {
      "text/html": [
       "<div>\n",
       "<style scoped>\n",
       "    .dataframe tbody tr th:only-of-type {\n",
       "        vertical-align: middle;\n",
       "    }\n",
       "\n",
       "    .dataframe tbody tr th {\n",
       "        vertical-align: top;\n",
       "    }\n",
       "\n",
       "    .dataframe thead th {\n",
       "        text-align: right;\n",
       "    }\n",
       "</style>\n",
       "<table border=\"1\" class=\"dataframe\">\n",
       "  <thead>\n",
       "    <tr style=\"text-align: right;\">\n",
       "      <th></th>\n",
       "      <th>App</th>\n",
       "      <th>Category</th>\n",
       "      <th>Reviews</th>\n",
       "      <th>Size</th>\n",
       "      <th>Installs</th>\n",
       "      <th>Type</th>\n",
       "      <th>Price</th>\n",
       "      <th>Content Rating</th>\n",
       "      <th>Genres</th>\n",
       "      <th>Last Updated</th>\n",
       "      <th>Id</th>\n",
       "    </tr>\n",
       "  </thead>\n",
       "  <tbody>\n",
       "    <tr>\n",
       "      <th>0</th>\n",
       "      <td>Dr.Android Repair Master 2017</td>\n",
       "      <td>PRODUCTIVITY</td>\n",
       "      <td>1205</td>\n",
       "      <td>4.3</td>\n",
       "      <td>100000.0</td>\n",
       "      <td>0</td>\n",
       "      <td>0.0</td>\n",
       "      <td>Everyone</td>\n",
       "      <td>Productivity</td>\n",
       "      <td>2018-06-10</td>\n",
       "      <td>5617</td>\n",
       "    </tr>\n",
       "    <tr>\n",
       "      <th>1</th>\n",
       "      <td>DR CONTROL</td>\n",
       "      <td>FAMILY</td>\n",
       "      <td>267</td>\n",
       "      <td>1.5</td>\n",
       "      <td>10000.0</td>\n",
       "      <td>0</td>\n",
       "      <td>0.0</td>\n",
       "      <td>Everyone</td>\n",
       "      <td>Entertainment</td>\n",
       "      <td>2017-03-08</td>\n",
       "      <td>5618</td>\n",
       "    </tr>\n",
       "  </tbody>\n",
       "</table>\n",
       "</div>"
      ],
      "text/plain": [
       "                             App      Category  Reviews  Size  Installs  Type  \\\n",
       "0  Dr.Android Repair Master 2017  PRODUCTIVITY     1205   4.3  100000.0     0   \n",
       "1                     DR CONTROL        FAMILY      267   1.5   10000.0     0   \n",
       "\n",
       "   Price Content Rating         Genres Last Updated    Id  \n",
       "0    0.0       Everyone   Productivity   2018-06-10  5617  \n",
       "1    0.0       Everyone  Entertainment   2017-03-08  5618  "
      ]
     },
     "execution_count": 247,
     "metadata": {},
     "output_type": "execute_result"
    }
   ],
   "source": [
    "origin_test.head(2)"
   ]
  },
  {
   "cell_type": "markdown",
   "metadata": {
    "id": "O9sFKQtepdaJ"
   },
   "source": [
    "## 1. EDA & Data Processing\n"
   ]
  },
  {
   "cell_type": "markdown",
   "metadata": {
    "id": "IYGCRrRcPZ4s"
   },
   "source": [
    "* 데이터 확인 및 결측치 확인"
   ]
  },
  {
   "cell_type": "code",
   "execution_count": 3,
   "metadata": {
    "colab": {
     "base_uri": "https://localhost:8080/"
    },
    "id": "nLtCAkpqPRkR",
    "outputId": "77188faa-87fc-4d12-f5d0-c372bbdf76cc"
   },
   "outputs": [
    {
     "name": "stdout",
     "output_type": "stream",
     "text": [
      "<class 'pandas.core.frame.DataFrame'>\n",
      "RangeIndex: 5616 entries, 0 to 5615\n",
      "Data columns (total 12 columns):\n",
      " #   Column          Non-Null Count  Dtype  \n",
      "---  ------          --------------  -----  \n",
      " 0   App             5616 non-null   object \n",
      " 1   Category        5616 non-null   object \n",
      " 2   Rating          5616 non-null   float64\n",
      " 3   Reviews         5616 non-null   int64  \n",
      " 4   Size            5616 non-null   float64\n",
      " 5   Installs        5616 non-null   float64\n",
      " 6   Type            5616 non-null   int64  \n",
      " 7   Price           5616 non-null   float64\n",
      " 8   Content Rating  5616 non-null   object \n",
      " 9   Genres          5616 non-null   object \n",
      " 10  Last Updated    5616 non-null   object \n",
      " 11  Id              5616 non-null   int64  \n",
      "dtypes: float64(4), int64(3), object(5)\n",
      "memory usage: 526.6+ KB\n"
     ]
    }
   ],
   "source": [
    "train.info()"
   ]
  },
  {
   "cell_type": "code",
   "execution_count": 4,
   "metadata": {
    "colab": {
     "base_uri": "https://localhost:8080/"
    },
    "id": "j12Aq9eyPWer",
    "outputId": "9326702f-4328-4924-e955-9f745c285f12"
   },
   "outputs": [
    {
     "name": "stdout",
     "output_type": "stream",
     "text": [
      "<class 'pandas.core.frame.DataFrame'>\n",
      "RangeIndex: 1404 entries, 0 to 1403\n",
      "Data columns (total 11 columns):\n",
      " #   Column          Non-Null Count  Dtype  \n",
      "---  ------          --------------  -----  \n",
      " 0   App             1404 non-null   object \n",
      " 1   Category        1404 non-null   object \n",
      " 2   Reviews         1404 non-null   int64  \n",
      " 3   Size            1404 non-null   float64\n",
      " 4   Installs        1404 non-null   float64\n",
      " 5   Type            1404 non-null   int64  \n",
      " 6   Price           1404 non-null   float64\n",
      " 7   Content Rating  1404 non-null   object \n",
      " 8   Genres          1404 non-null   object \n",
      " 9   Last Updated    1404 non-null   object \n",
      " 10  Id              1404 non-null   int64  \n",
      "dtypes: float64(3), int64(3), object(5)\n",
      "memory usage: 120.8+ KB\n"
     ]
    }
   ],
   "source": [
    "test.info()"
   ]
  },
  {
   "cell_type": "code",
   "execution_count": 5,
   "metadata": {},
   "outputs": [
    {
     "data": {
      "text/html": [
       "<div>\n",
       "<style scoped>\n",
       "    .dataframe tbody tr th:only-of-type {\n",
       "        vertical-align: middle;\n",
       "    }\n",
       "\n",
       "    .dataframe tbody tr th {\n",
       "        vertical-align: top;\n",
       "    }\n",
       "\n",
       "    .dataframe thead th {\n",
       "        text-align: right;\n",
       "    }\n",
       "</style>\n",
       "<table border=\"1\" class=\"dataframe\">\n",
       "  <thead>\n",
       "    <tr style=\"text-align: right;\">\n",
       "      <th></th>\n",
       "      <th>App</th>\n",
       "      <th>Category</th>\n",
       "      <th>Rating</th>\n",
       "      <th>Reviews</th>\n",
       "      <th>Size</th>\n",
       "      <th>Installs</th>\n",
       "      <th>Type</th>\n",
       "      <th>Price</th>\n",
       "      <th>Content Rating</th>\n",
       "      <th>Genres</th>\n",
       "      <th>Last Updated</th>\n",
       "      <th>Id</th>\n",
       "    </tr>\n",
       "  </thead>\n",
       "  <tbody>\n",
       "    <tr>\n",
       "      <th>0</th>\n",
       "      <td>Photo Editor &amp; Candy Camera &amp; Grid &amp; ScrapBook</td>\n",
       "      <td>ART_AND_DESIGN</td>\n",
       "      <td>4.1</td>\n",
       "      <td>159</td>\n",
       "      <td>19.0</td>\n",
       "      <td>10000.0</td>\n",
       "      <td>0</td>\n",
       "      <td>0.0</td>\n",
       "      <td>Everyone</td>\n",
       "      <td>Art &amp; Design</td>\n",
       "      <td>2018-01-07</td>\n",
       "      <td>0</td>\n",
       "    </tr>\n",
       "    <tr>\n",
       "      <th>1</th>\n",
       "      <td>Coloring book moana</td>\n",
       "      <td>ART_AND_DESIGN</td>\n",
       "      <td>3.9</td>\n",
       "      <td>967</td>\n",
       "      <td>14.0</td>\n",
       "      <td>500000.0</td>\n",
       "      <td>0</td>\n",
       "      <td>0.0</td>\n",
       "      <td>Everyone</td>\n",
       "      <td>Art &amp; Design;Pretend Play</td>\n",
       "      <td>2018-01-15</td>\n",
       "      <td>1</td>\n",
       "    </tr>\n",
       "    <tr>\n",
       "      <th>2</th>\n",
       "      <td>U Launcher Lite â FREE Live Cool Themes, Hid...</td>\n",
       "      <td>ART_AND_DESIGN</td>\n",
       "      <td>4.7</td>\n",
       "      <td>87510</td>\n",
       "      <td>8.7</td>\n",
       "      <td>5000000.0</td>\n",
       "      <td>0</td>\n",
       "      <td>0.0</td>\n",
       "      <td>Everyone</td>\n",
       "      <td>Art &amp; Design</td>\n",
       "      <td>2018-08-01</td>\n",
       "      <td>2</td>\n",
       "    </tr>\n",
       "    <tr>\n",
       "      <th>3</th>\n",
       "      <td>Sketch - Draw &amp; Paint</td>\n",
       "      <td>ART_AND_DESIGN</td>\n",
       "      <td>4.5</td>\n",
       "      <td>215644</td>\n",
       "      <td>25.0</td>\n",
       "      <td>50000000.0</td>\n",
       "      <td>0</td>\n",
       "      <td>0.0</td>\n",
       "      <td>Teen</td>\n",
       "      <td>Art &amp; Design</td>\n",
       "      <td>2018-06-08</td>\n",
       "      <td>3</td>\n",
       "    </tr>\n",
       "    <tr>\n",
       "      <th>4</th>\n",
       "      <td>Pixel Draw - Number Art Coloring Book</td>\n",
       "      <td>ART_AND_DESIGN</td>\n",
       "      <td>4.3</td>\n",
       "      <td>967</td>\n",
       "      <td>2.8</td>\n",
       "      <td>100000.0</td>\n",
       "      <td>0</td>\n",
       "      <td>0.0</td>\n",
       "      <td>Everyone</td>\n",
       "      <td>Art &amp; Design;Creativity</td>\n",
       "      <td>2018-06-20</td>\n",
       "      <td>4</td>\n",
       "    </tr>\n",
       "  </tbody>\n",
       "</table>\n",
       "</div>"
      ],
      "text/plain": [
       "                                                 App        Category  Rating  \\\n",
       "0     Photo Editor & Candy Camera & Grid & ScrapBook  ART_AND_DESIGN     4.1   \n",
       "1                                Coloring book moana  ART_AND_DESIGN     3.9   \n",
       "2  U Launcher Lite â FREE Live Cool Themes, Hid...  ART_AND_DESIGN     4.7   \n",
       "3                              Sketch - Draw & Paint  ART_AND_DESIGN     4.5   \n",
       "4              Pixel Draw - Number Art Coloring Book  ART_AND_DESIGN     4.3   \n",
       "\n",
       "   Reviews  Size    Installs  Type  Price Content Rating  \\\n",
       "0      159  19.0     10000.0     0    0.0       Everyone   \n",
       "1      967  14.0    500000.0     0    0.0       Everyone   \n",
       "2    87510   8.7   5000000.0     0    0.0       Everyone   \n",
       "3   215644  25.0  50000000.0     0    0.0           Teen   \n",
       "4      967   2.8    100000.0     0    0.0       Everyone   \n",
       "\n",
       "                      Genres Last Updated  Id  \n",
       "0               Art & Design   2018-01-07   0  \n",
       "1  Art & Design;Pretend Play   2018-01-15   1  \n",
       "2               Art & Design   2018-08-01   2  \n",
       "3               Art & Design   2018-06-08   3  \n",
       "4    Art & Design;Creativity   2018-06-20   4  "
      ]
     },
     "execution_count": 5,
     "metadata": {},
     "output_type": "execute_result"
    }
   ],
   "source": [
    "train.head()"
   ]
  },
  {
   "cell_type": "markdown",
   "metadata": {
    "id": "ZH3FrJenVv3w"
   },
   "source": [
    "#### 연속형 변수"
   ]
  },
  {
   "cell_type": "code",
   "execution_count": 6,
   "metadata": {
    "colab": {
     "base_uri": "https://localhost:8080/",
     "height": 606
    },
    "id": "dNWUelNeCrtE",
    "outputId": "01ad5075-2717-44b5-dace-f316c5e82fc5"
   },
   "outputs": [
    {
     "data": {
      "image/png": "[encoded data removed]",
      "text/plain": [
       "<Figure size 720x720 with 6 Axes>"
      ]
     },
     "metadata": {
      "needs_background": "light"
     },
     "output_type": "display_data"
    }
   ],
   "source": [
    "# 연속형 변수 분포 확인\n",
    "continuous = train[['Rating','Reviews','Size','Installs','Price']]\n",
    "continuous.hist(bins=30,figsize=(10,10))\n",
    "plt.show()"
   ]
  },
  {
   "cell_type": "code",
   "execution_count": null,
   "metadata": {
    "colab": {
     "base_uri": "https://localhost:8080/",
     "height": 504
    },
    "id": "ddVD7xqEEvwm",
    "outputId": "4d5f7c1e-e687-4373-967b-0bec78202e8b"
   },
   "outputs": [
    {
     "data": {
      "image/png": "[encoded data removed]",
      "text/plain": [
       "<Figure size 1152x576 with 2 Axes>"
      ]
     },
     "metadata": {
      "needs_background": "light",
      "tags": []
     },
     "output_type": "display_data"
    }
   ],
   "source": [
    "# 연속형 변수 heatmap 상관관계 시각화\n",
    "plt.figure(figsize=(16,8))\n",
    "sns.heatmap(continuous.corr(), annot=True)\n",
    "plt.title('continuous variables corr heatmap', fontsize=20)\n",
    "\n",
    "plt.show()"
   ]
  },
  {
   "cell_type": "markdown",
   "metadata": {},
   "source": [
    "installs와 Reviews의 상관성이 가장 크다."
   ]
  },
  {
   "cell_type": "markdown",
   "metadata": {
    "id": "Jv__R6hmVxtJ"
   },
   "source": [
    "### 연속형 변수 이상치 확인\n",
    "Type 은 유무료를 나타내는 범주형"
   ]
  },
  {
   "cell_type": "code",
   "execution_count": 7,
   "metadata": {
    "colab": {
     "base_uri": "https://localhost:8080/",
     "height": 351
    },
    "id": "FcgKI0SgVtFj",
    "outputId": "7b937640-a8ea-4541-a4d3-9291f93b40bc"
   },
   "outputs": [
    {
     "data": {
      "text/plain": [
       "<matplotlib.collections.PathCollection at 0x2494e3adc08>"
      ]
     },
     "execution_count": 7,
     "metadata": {},
     "output_type": "execute_result"
    },
    {
     "data": {
      "image/png": "[encoded data removed]",
      "text/plain": [
       "<Figure size 720x360 with 1 Axes>"
      ]
     },
     "metadata": {
      "needs_background": "light"
     },
     "output_type": "display_data"
    }
   ],
   "source": [
    "# Installs\n",
    "plt.figure(figsize=(10,5))\n",
    "plt.scatter(x = continuous['Installs'], y = continuous['Rating'])"
   ]
  },
  {
   "cell_type": "code",
   "execution_count": 8,
   "metadata": {
    "colab": {
     "base_uri": "https://localhost:8080/",
     "height": 351
    },
    "id": "LQmhU9_IaeEX",
    "outputId": "fda39753-d59c-4a9d-9903-27fce08dbf28"
   },
   "outputs": [
    {
     "data": {
      "text/plain": [
       "<matplotlib.collections.PathCollection at 0x2494e4241c8>"
      ]
     },
     "execution_count": 8,
     "metadata": {},
     "output_type": "execute_result"
    },
    {
     "data": {
      "image/png": "[encoded data removed]",
      "text/plain": [
       "<Figure size 720x360 with 1 Axes>"
      ]
     },
     "metadata": {
      "needs_background": "light"
     },
     "output_type": "display_data"
    }
   ],
   "source": [
    "# Reviews\n",
    "plt.figure(figsize=(10,5))\n",
    "plt.scatter(x = continuous['Reviews'], y = continuous['Rating'])"
   ]
  },
  {
   "cell_type": "code",
   "execution_count": 9,
   "metadata": {
    "colab": {
     "base_uri": "https://localhost:8080/",
     "height": 338
    },
    "id": "83qne8GQanME",
    "outputId": "120437a3-50fd-4ec1-b0fd-a93b649a287a"
   },
   "outputs": [
    {
     "data": {
      "text/plain": [
       "<matplotlib.collections.PathCollection at 0x2494e491108>"
      ]
     },
     "execution_count": 9,
     "metadata": {},
     "output_type": "execute_result"
    },
    {
     "data": {
      "image/png": "[encoded data removed]",
      "text/plain": [
       "<Figure size 720x360 with 1 Axes>"
      ]
     },
     "metadata": {
      "needs_background": "light"
     },
     "output_type": "display_data"
    }
   ],
   "source": [
    "# Size\n",
    "plt.figure(figsize=(10,5))\n",
    "plt.scatter(x = continuous['Size'], y = continuous['Rating'])"
   ]
  },
  {
   "cell_type": "code",
   "execution_count": 10,
   "metadata": {
    "colab": {
     "base_uri": "https://localhost:8080/",
     "height": 338
    },
    "id": "EA5O7b-0a-d9",
    "outputId": "ddd35b6a-c7a6-4ad3-8b8d-a4d9708d41ad"
   },
   "outputs": [
    {
     "data": {
      "text/plain": [
       "<matplotlib.collections.PathCollection at 0x2494e3f56c8>"
      ]
     },
     "execution_count": 10,
     "metadata": {},
     "output_type": "execute_result"
    },
    {
     "data": {
      "image/png": "[encoded data removed]",
      "text/plain": [
       "<Figure size 720x360 with 1 Axes>"
      ]
     },
     "metadata": {
      "needs_background": "light"
     },
     "output_type": "display_data"
    }
   ],
   "source": [
    "# Price\n",
    "plt.figure(figsize=(10,5))\n",
    "plt.scatter(x = continuous['Price'], y = continuous['Rating'])"
   ]
  },
  {
   "cell_type": "markdown",
   "metadata": {
    "id": "ib7oPBYTbU-o"
   },
   "source": [
    "#### IQR 기준으로 완전 이상한거 몇개만 제거 해 봅시다\n",
    "저는 Installs,Reviews 와 Price에서만 제거해보겠습니당"
   ]
  },
  {
   "cell_type": "markdown",
   "metadata": {
    "id": "2TUtWtYLfWxH"
   },
   "source": [
    "* IQR 기준으로"
   ]
  },
  {
   "cell_type": "code",
   "execution_count": 11,
   "metadata": {
    "id": "qjY61dGba-lF"
   },
   "outputs": [],
   "source": [
    "def remove_outlier(df,col):\n",
    "  data = df[col]\n",
    "  q25 = np.percentile(data.values,25)\n",
    "  q75 = np.percentile(data.values,75)\n",
    "\n",
    "  IQR = q75 - q25\n",
    "  IQR = IQR * 1.5\n",
    "  low = q25-IQR ; high = q75+IQR\n",
    "  outlier_index = data[(data<low)|(data>high)].index\n",
    "  #print(len(outlier_index))\n",
    "  #df.drop(outlier_index, axis=0, inplace=True)\n",
    "  #print(df.shape)\n",
    "  #return df\n",
    "  return len(outlier_index)"
   ]
  },
  {
   "cell_type": "code",
   "execution_count": 12,
   "metadata": {
    "colab": {
     "base_uri": "https://localhost:8080/"
    },
    "id": "K2gmKOrvel9q",
    "outputId": "4370f0df-2176-41b2-ed15-5c853472a73e"
   },
   "outputs": [
    {
     "name": "stdout",
     "output_type": "stream",
     "text": [
      "1162\n",
      "924\n",
      "441\n"
     ]
    }
   ],
   "source": [
    "print(remove_outlier(continuous,'Installs'))\n",
    "print(remove_outlier(continuous,'Reviews'))\n",
    "print(remove_outlier(continuous,'Price'))"
   ]
  },
  {
   "cell_type": "markdown",
   "metadata": {
    "id": "FmeLsHYUfabp"
   },
   "source": [
    "IQR 기준이면 너무 많은 이상치가 발견되서 데이터 손실이 너무 컸습니다!  \n",
    "scatter plot 에 당장 눈에 보이는 정말 몇개만 제거합시다  \n"
   ]
  },
  {
   "cell_type": "markdown",
   "metadata": {
    "id": "lU46VaINfmjQ"
   },
   "source": [
    "* 직관적으로"
   ]
  },
  {
   "cell_type": "code",
   "execution_count": 13,
   "metadata": {
    "colab": {
     "base_uri": "https://localhost:8080/"
    },
    "id": "zYBPk_CAfjWg",
    "outputId": "3417c389-24c2-4c0d-dd7b-9c17773ef8e6"
   },
   "outputs": [
    {
     "name": "stdout",
     "output_type": "stream",
     "text": [
      "10\n",
      "15\n",
      "5\n"
     ]
    }
   ],
   "source": [
    "out_installs = continuous[continuous['Installs'] > 200000000]\n",
    "out_price = continuous[continuous['Price'] > 250]\n",
    "out_reviews = continuous[continuous['Reviews'] > 15000000]\n",
    "print(len(out_installs))\n",
    "print(len(out_price))\n",
    "print(len(out_reviews))"
   ]
  },
  {
   "cell_type": "code",
   "execution_count": 52,
   "metadata": {
    "colab": {
     "base_uri": "https://localhost:8080/"
    },
    "id": "XTavoQj8-R0C",
    "outputId": "4839503d-e3cc-4a33-a792-12e6fe2a72b5"
   },
   "outputs": [
    {
     "data": {
      "text/plain": [
       "(5590, 5)"
      ]
     },
     "execution_count": 52,
     "metadata": {},
     "output_type": "execute_result"
    }
   ],
   "source": [
    "continuous = continuous.query('Installs < 200000000 and Price < 250 and Reviews < 40000000')\n",
    "continuous.shape"
   ]
  },
  {
   "cell_type": "markdown",
   "metadata": {
    "id": "3g2Bdes3gdRG"
   },
   "source": [
    "저는 이정도만 하겠습니다.\n",
    "scaling과 feature engineering을 더 하실 분은 하셔도 됩니다!  "
   ]
  },
  {
   "cell_type": "markdown",
   "metadata": {
    "id": "HY1Rp1x7JXfl"
   },
   "source": [
    "### 범주형 변수 확인  \n",
    "Category, Content Rating, Genres 확인"
   ]
  },
  {
   "cell_type": "code",
   "execution_count": 15,
   "metadata": {
    "colab": {
     "base_uri": "https://localhost:8080/"
    },
    "id": "F2gvDbeLJYCv",
    "outputId": "f5aa41e6-5f56-420e-8636-71fa61adee5d"
   },
   "outputs": [
    {
     "data": {
      "text/plain": [
       "FAMILY                 1102\n",
       "GAME                    657\n",
       "TOOLS                   463\n",
       "MEDICAL                 253\n",
       "PERSONALIZATION         227\n",
       "LIFESTYLE               220\n",
       "FINANCE                 201\n",
       "PHOTOGRAPHY             175\n",
       "PRODUCTIVITY            173\n",
       "HEALTH_AND_FITNESS      172\n",
       "BUSINESS                166\n",
       "COMMUNICATION           153\n",
       "SPORTS                  143\n",
       "SHOPPING                139\n",
       "SOCIAL                  122\n",
       "DATING                  121\n",
       "NEWS_AND_MAGAZINES      114\n",
       "BOOKS_AND_REFERENCE     109\n",
       "TRAVEL_AND_LOCAL        108\n",
       "VIDEO_PLAYERS            90\n",
       "EDUCATION                88\n",
       "MAPS_AND_NAVIGATION      76\n",
       "FOOD_AND_DRINK           69\n",
       "ENTERTAINMENT            64\n",
       "LIBRARIES_AND_DEMO       57\n",
       "ART_AND_DESIGN           57\n",
       "AUTO_AND_VEHICLES        55\n",
       "HOUSE_AND_HOME           48\n",
       "COMICS                   46\n",
       "PARENTING                43\n",
       "WEATHER                  37\n",
       "BEAUTY                   34\n",
       "EVENTS                   34\n",
       "Name: Category, dtype: int64"
      ]
     },
     "execution_count": 15,
     "metadata": {},
     "output_type": "execute_result"
    }
   ],
   "source": [
    "category_count = train['Category'].value_counts()\n",
    "category_count"
   ]
  },
  {
   "cell_type": "code",
   "execution_count": 16,
   "metadata": {
    "colab": {
     "base_uri": "https://localhost:8080/",
     "height": 555
    },
    "id": "RqD8ZWnu2Sd8",
    "outputId": "b4b6522a-5a8b-4810-b74b-1d4a77db3578"
   },
   "outputs": [
    {
     "data": {
      "image/png": "[encoded data removed]",
      "text/plain": [
       "<Figure size 1152x576 with 1 Axes>"
      ]
     },
     "metadata": {},
     "output_type": "display_data"
    }
   ],
   "source": [
    "# Category 시각화\n",
    "fig = plt.figure(figsize=(16,8)) \n",
    "plt.pie(category_count,labels=category_count.index,autopct='%1.1f%%', shadow=True)\n",
    "plt.title('Category',size = 20)\n",
    "plt.legend()\n",
    "plt.show()"
   ]
  },
  {
   "cell_type": "code",
   "execution_count": 35,
   "metadata": {},
   "outputs": [
    {
     "data": {
      "text/plain": [
       "33"
      ]
     },
     "execution_count": 35,
     "metadata": {},
     "output_type": "execute_result"
    }
   ],
   "source": [
    "len(category_count)"
   ]
  },
  {
   "cell_type": "code",
   "execution_count": 19,
   "metadata": {
    "colab": {
     "base_uri": "https://localhost:8080/"
    },
    "id": "N-asnXvKJZKa",
    "outputId": "00f7fce9-c35f-4f10-d32e-5615e360b839"
   },
   "outputs": [
    {
     "data": {
      "text/plain": [
       "Tools                                    463\n",
       "Entertainment                            337\n",
       "Education                                309\n",
       "Medical                                  253\n",
       "Personalization                          227\n",
       "Lifestyle                                219\n",
       "Action                                   214\n",
       "Finance                                  201\n",
       "Photography                              175\n",
       "Productivity                             173\n",
       "Health & Fitness                         172\n",
       "Business                                 166\n",
       "Communication                            153\n",
       "Sports                                   149\n",
       "Shopping                                 139\n",
       "Arcade                                   129\n",
       "Social                                   122\n",
       "Dating                                   121\n",
       "News & Magazines                         114\n",
       "Simulation                               110\n",
       "Books & Reference                        109\n",
       "Travel & Local                           107\n",
       "Video Players & Editors                   90\n",
       "Casual                                    89\n",
       "Role Playing                              79\n",
       "Maps & Navigation                         76\n",
       "Food & Drink                              69\n",
       "Strategy                                  68\n",
       "Puzzle                                    61\n",
       "Libraries & Demo                          57\n",
       "Auto & Vehicles                           55\n",
       "Adventure                                 53\n",
       "Art & Design                              51\n",
       "House & Home                              48\n",
       "Comics                                    45\n",
       "Racing                                    43\n",
       "Weather                                   37\n",
       "Beauty                                    34\n",
       "Events                                    34\n",
       "Parenting                                 34\n",
       "Board                                     30\n",
       "Education;Education                       30\n",
       "Educational;Education                     27\n",
       "Card                                      26\n",
       "Casino                                    22\n",
       "Trivia                                    22\n",
       "Casual;Pretend Play                       20\n",
       "Word                                      15\n",
       "Education;Pretend Play                    15\n",
       "Music                                     15\n",
       "Board;Brain Games                         13\n",
       "Arcade;Action & Adventure                 12\n",
       "Racing;Action & Adventure                 12\n",
       "Puzzle;Brain Games                        12\n",
       "Casual;Brain Games                        11\n",
       "Action;Action & Adventure                 10\n",
       "Educational                               10\n",
       "Casual;Action & Adventure                 10\n",
       "Entertainment;Music & Video                9\n",
       "Simulation;Action & Adventure              7\n",
       "Educational;Pretend Play                   7\n",
       "Casual;Creativity                          6\n",
       "Art & Design;Creativity                    5\n",
       "Adventure;Action & Adventure               5\n",
       "Entertainment;Brain Games                  5\n",
       "Parenting;Music & Video                    5\n",
       "Educational;Brain Games                    5\n",
       "Education;Creativity                       4\n",
       "Role Playing;Action & Adventure            3\n",
       "Puzzle;Action & Adventure                  3\n",
       "Educational;Creativity                     3\n",
       "Education;Action & Adventure               3\n",
       "Board;Action & Adventure                   3\n",
       "Parenting;Education                        3\n",
       "Casual;Education                           3\n",
       "Card;Action & Adventure                    2\n",
       "Strategy;Action & Adventure                2\n",
       "Simulation;Pretend Play                    2\n",
       "Entertainment;Creativity                   2\n",
       "Educational;Action & Adventure             2\n",
       "Education;Music & Video                    2\n",
       "Music;Music & Video                        2\n",
       "Role Playing;Pretend Play                  2\n",
       "Entertainment;Action & Adventure           2\n",
       "Board;Pretend Play                         1\n",
       "Art & Design;Pretend Play                  1\n",
       "Lifestyle;Pretend Play                     1\n",
       "Entertainment;Pretend Play                 1\n",
       "Education;Brain Games                      1\n",
       "Books & Reference;Education                1\n",
       "Arcade;Pretend Play                        1\n",
       "Simulation;Education                       1\n",
       "Parenting;Brain Games                      1\n",
       "Travel & Local;Action & Adventure          1\n",
       "Health & Fitness;Education                 1\n",
       "Music & Audio;Music & Video                1\n",
       "Video Players & Editors;Music & Video      1\n",
       "Entertainment;Education                    1\n",
       "Adventure;Education                        1\n",
       "Video Players & Editors;Creativity         1\n",
       "Comics;Creativity                          1\n",
       "Sports;Action & Adventure                  1\n",
       "Adventure;Brain Games                      1\n",
       "Puzzle;Creativity                          1\n",
       "Health & Fitness;Action & Adventure        1\n",
       "Casual;Music & Video                       1\n",
       "Name: Genres, dtype: int64"
      ]
     },
     "execution_count": 19,
     "metadata": {},
     "output_type": "execute_result"
    }
   ],
   "source": [
    "genres_count = train['Genres'].value_counts()\n",
    "genres_count"
   ]
  },
  {
   "cell_type": "code",
   "execution_count": 36,
   "metadata": {},
   "outputs": [
    {
     "data": {
      "text/plain": [
       "106"
      ]
     },
     "execution_count": 36,
     "metadata": {},
     "output_type": "execute_result"
    }
   ],
   "source": [
    "len(genres_count)"
   ]
  },
  {
   "cell_type": "code",
   "execution_count": 20,
   "metadata": {
    "colab": {
     "base_uri": "https://localhost:8080/",
     "height": 487
    },
    "id": "4fyzxtL53Xx7",
    "outputId": "fd8d3896-ad24-45af-ddb0-f9b00ac7bdf4"
   },
   "outputs": [
    {
     "data": {
      "image/png": "[encoded data removed]",
      "text/plain": [
       "<Figure size 1152x576 with 1 Axes>"
      ]
     },
     "metadata": {},
     "output_type": "display_data"
    }
   ],
   "source": [
    "# Genrs 시각화\n",
    "fig = plt.figure(figsize=(16,8)) \n",
    "plt.pie(genres_count,labels=genres_count.index,autopct='%1.1f%%', shadow=True)\n",
    "plt.title('Genrs',size = 20)\n",
    "plt.show()"
   ]
  },
  {
   "cell_type": "markdown",
   "metadata": {},
   "source": [
    "- genre와 category를 합친다.\n",
    "- content rating의 겹치는 나이대를 합친다.\n",
    "\n",
    "우선 genre와 category의 겹치는 항목이 얼마나 존재하는지 알아보겠습니다."
   ]
  },
  {
   "cell_type": "code",
   "execution_count": 53,
   "metadata": {},
   "outputs": [],
   "source": [
    "genre_uni = train['Genres'].unique()\n",
    "genre_uni = [i.lower() for i in genre_uni]\n",
    "category_uni = train['Category'].unique()\n",
    "category_uni = [i.lower() for i in category_uni]"
   ]
  },
  {
   "cell_type": "code",
   "execution_count": 54,
   "metadata": {},
   "outputs": [
    {
     "data": {
      "text/plain": [
       "['tools',\n",
       " 'weather',\n",
       " 'productivity',\n",
       " 'dating',\n",
       " 'medical',\n",
       " 'sports',\n",
       " 'photography',\n",
       " 'beauty',\n",
       " 'entertainment',\n",
       " 'lifestyle',\n",
       " 'personalization',\n",
       " 'parenting',\n",
       " 'social',\n",
       " 'education',\n",
       " 'comics',\n",
       " 'communication',\n",
       " 'finance',\n",
       " 'shopping',\n",
       " 'events',\n",
       " 'business']"
      ]
     },
     "execution_count": 54,
     "metadata": {},
     "output_type": "execute_result"
    }
   ],
   "source": [
    "inter = list(set(genre_uni).intersection(set(category_uni)))\n",
    "inter"
   ]
  },
  {
   "cell_type": "code",
   "execution_count": 55,
   "metadata": {},
   "outputs": [
    {
     "data": {
      "text/plain": [
       "20"
      ]
     },
     "execution_count": 55,
     "metadata": {},
     "output_type": "execute_result"
    }
   ],
   "source": [
    "len(inter)"
   ]
  },
  {
   "cell_type": "markdown",
   "metadata": {},
   "source": [
    "genre와 category는 중복된 정보를 가지고 있습니다."
   ]
  },
  {
   "cell_type": "code",
   "execution_count": 56,
   "metadata": {},
   "outputs": [],
   "source": [
    "origin_train = train.copy()"
   ]
  },
  {
   "cell_type": "markdown",
   "metadata": {},
   "source": [
    "- ### 범주형 변수 처리 - Genres와 Category의 병합\n",
    "장르는 상위 장르와 하위 장르로 이루어져 있다. 구분은 ; 로 되어있기 때문에 이를 기준으로 나누어준다."
   ]
  },
  {
   "cell_type": "code",
   "execution_count": 57,
   "metadata": {},
   "outputs": [],
   "source": [
    "train['Genres']  = train['Genres'].str.strip()\n",
    "\n",
    "train[['up_Genres', 'low_Genres']] = train['Genres'].str.split(';', n=1, expand=True)"
   ]
  },
  {
   "cell_type": "code",
   "execution_count": 61,
   "metadata": {},
   "outputs": [
    {
     "data": {
      "text/html": [
       "<div>\n",
       "<style scoped>\n",
       "    .dataframe tbody tr th:only-of-type {\n",
       "        vertical-align: middle;\n",
       "    }\n",
       "\n",
       "    .dataframe tbody tr th {\n",
       "        vertical-align: top;\n",
       "    }\n",
       "\n",
       "    .dataframe thead th {\n",
       "        text-align: right;\n",
       "    }\n",
       "</style>\n",
       "<table border=\"1\" class=\"dataframe\">\n",
       "  <thead>\n",
       "    <tr style=\"text-align: right;\">\n",
       "      <th></th>\n",
       "      <th>App</th>\n",
       "      <th>Category</th>\n",
       "      <th>Rating</th>\n",
       "      <th>Reviews</th>\n",
       "      <th>Size</th>\n",
       "      <th>Installs</th>\n",
       "      <th>Type</th>\n",
       "      <th>Price</th>\n",
       "      <th>Content Rating</th>\n",
       "      <th>Genres</th>\n",
       "      <th>Last Updated</th>\n",
       "      <th>Id</th>\n",
       "      <th>up_Genres</th>\n",
       "      <th>low_Genres</th>\n",
       "    </tr>\n",
       "  </thead>\n",
       "  <tbody>\n",
       "    <tr>\n",
       "      <th>0</th>\n",
       "      <td>Photo Editor &amp; Candy Camera &amp; Grid &amp; ScrapBook</td>\n",
       "      <td>ART_AND_DESIGN</td>\n",
       "      <td>4.1</td>\n",
       "      <td>159</td>\n",
       "      <td>19.0</td>\n",
       "      <td>10000.0</td>\n",
       "      <td>0</td>\n",
       "      <td>0.0</td>\n",
       "      <td>Everyone</td>\n",
       "      <td>Art &amp; Design</td>\n",
       "      <td>2018-01-07</td>\n",
       "      <td>0</td>\n",
       "      <td>Art &amp; Design</td>\n",
       "      <td>None</td>\n",
       "    </tr>\n",
       "    <tr>\n",
       "      <th>1</th>\n",
       "      <td>Coloring book moana</td>\n",
       "      <td>ART_AND_DESIGN</td>\n",
       "      <td>3.9</td>\n",
       "      <td>967</td>\n",
       "      <td>14.0</td>\n",
       "      <td>500000.0</td>\n",
       "      <td>0</td>\n",
       "      <td>0.0</td>\n",
       "      <td>Everyone</td>\n",
       "      <td>Art &amp; Design;Pretend Play</td>\n",
       "      <td>2018-01-15</td>\n",
       "      <td>1</td>\n",
       "      <td>Art &amp; Design</td>\n",
       "      <td>Pretend Play</td>\n",
       "    </tr>\n",
       "    <tr>\n",
       "      <th>2</th>\n",
       "      <td>U Launcher Lite â FREE Live Cool Themes, Hid...</td>\n",
       "      <td>ART_AND_DESIGN</td>\n",
       "      <td>4.7</td>\n",
       "      <td>87510</td>\n",
       "      <td>8.7</td>\n",
       "      <td>5000000.0</td>\n",
       "      <td>0</td>\n",
       "      <td>0.0</td>\n",
       "      <td>Everyone</td>\n",
       "      <td>Art &amp; Design</td>\n",
       "      <td>2018-08-01</td>\n",
       "      <td>2</td>\n",
       "      <td>Art &amp; Design</td>\n",
       "      <td>None</td>\n",
       "    </tr>\n",
       "  </tbody>\n",
       "</table>\n",
       "</div>"
      ],
      "text/plain": [
       "                                                 App        Category  Rating  \\\n",
       "0     Photo Editor & Candy Camera & Grid & ScrapBook  ART_AND_DESIGN     4.1   \n",
       "1                                Coloring book moana  ART_AND_DESIGN     3.9   \n",
       "2  U Launcher Lite â FREE Live Cool Themes, Hid...  ART_AND_DESIGN     4.7   \n",
       "\n",
       "   Reviews  Size   Installs  Type  Price Content Rating  \\\n",
       "0      159  19.0    10000.0     0    0.0       Everyone   \n",
       "1      967  14.0   500000.0     0    0.0       Everyone   \n",
       "2    87510   8.7  5000000.0     0    0.0       Everyone   \n",
       "\n",
       "                      Genres Last Updated  Id     up_Genres    low_Genres  \n",
       "0               Art & Design   2018-01-07   0  Art & Design          None  \n",
       "1  Art & Design;Pretend Play   2018-01-15   1  Art & Design  Pretend Play  \n",
       "2               Art & Design   2018-08-01   2  Art & Design          None  "
      ]
     },
     "execution_count": 61,
     "metadata": {},
     "output_type": "execute_result"
    }
   ],
   "source": [
    "train.head(3)"
   ]
  },
  {
   "cell_type": "code",
   "execution_count": 64,
   "metadata": {},
   "outputs": [
    {
     "data": {
      "text/html": [
       "<div>\n",
       "<style scoped>\n",
       "    .dataframe tbody tr th:only-of-type {\n",
       "        vertical-align: middle;\n",
       "    }\n",
       "\n",
       "    .dataframe tbody tr th {\n",
       "        vertical-align: top;\n",
       "    }\n",
       "\n",
       "    .dataframe thead th {\n",
       "        text-align: right;\n",
       "    }\n",
       "</style>\n",
       "<table border=\"1\" class=\"dataframe\">\n",
       "  <thead>\n",
       "    <tr style=\"text-align: right;\">\n",
       "      <th></th>\n",
       "      <th>App</th>\n",
       "      <th>Category</th>\n",
       "      <th>Rating</th>\n",
       "      <th>Reviews</th>\n",
       "      <th>Size</th>\n",
       "      <th>Installs</th>\n",
       "      <th>Type</th>\n",
       "      <th>Price</th>\n",
       "      <th>Content Rating</th>\n",
       "      <th>Genres</th>\n",
       "      <th>Last Updated</th>\n",
       "      <th>Id</th>\n",
       "      <th>up_Genres</th>\n",
       "      <th>low_Genres</th>\n",
       "    </tr>\n",
       "  </thead>\n",
       "  <tbody>\n",
       "  </tbody>\n",
       "</table>\n",
       "</div>"
      ],
      "text/plain": [
       "Empty DataFrame\n",
       "Columns: [App, Category, Rating, Reviews, Size, Installs, Type, Price, Content Rating, Genres, Last Updated, Id, up_Genres, low_Genres]\n",
       "Index: []"
      ]
     },
     "execution_count": 64,
     "metadata": {},
     "output_type": "execute_result"
    }
   ],
   "source": [
    "train['low_Genres'].fillna('', inplace=True)\n",
    "train[train['low_Genres'].str.contains(';')] "
   ]
  },
  {
   "cell_type": "markdown",
   "metadata": {},
   "source": [
    "장르 구분 단계가 3단계이상인 케이스는 없다."
   ]
  },
  {
   "cell_type": "code",
   "execution_count": 73,
   "metadata": {},
   "outputs": [],
   "source": [
    "#비교를 위해 모두 소문자로 바꾼다.\n",
    "train['Category'] = train['Category'].str.lower()\n",
    "train['Genres'] = train['Genres'].str.lower()\n",
    "train['up_Genres'] = train['up_Genres'].str.lower()\n",
    "train['low_Genres'] = train['low_Genres'].str.lower()"
   ]
  },
  {
   "cell_type": "code",
   "execution_count": 84,
   "metadata": {},
   "outputs": [
    {
     "data": {
      "text/html": [
       "<div>\n",
       "<style scoped>\n",
       "    .dataframe tbody tr th:only-of-type {\n",
       "        vertical-align: middle;\n",
       "    }\n",
       "\n",
       "    .dataframe tbody tr th {\n",
       "        vertical-align: top;\n",
       "    }\n",
       "\n",
       "    .dataframe thead th {\n",
       "        text-align: right;\n",
       "    }\n",
       "</style>\n",
       "<table border=\"1\" class=\"dataframe\">\n",
       "  <thead>\n",
       "    <tr style=\"text-align: right;\">\n",
       "      <th></th>\n",
       "      <th>App</th>\n",
       "      <th>Category</th>\n",
       "      <th>Rating</th>\n",
       "      <th>Reviews</th>\n",
       "      <th>Size</th>\n",
       "      <th>Installs</th>\n",
       "      <th>Type</th>\n",
       "      <th>Price</th>\n",
       "      <th>Content Rating</th>\n",
       "      <th>Genres</th>\n",
       "      <th>Last Updated</th>\n",
       "      <th>Id</th>\n",
       "      <th>up_Genres</th>\n",
       "      <th>low_Genres</th>\n",
       "    </tr>\n",
       "  </thead>\n",
       "  <tbody>\n",
       "    <tr>\n",
       "      <th>0</th>\n",
       "      <td>Photo Editor &amp; Candy Camera &amp; Grid &amp; ScrapBook</td>\n",
       "      <td>art_and_design</td>\n",
       "      <td>4.1</td>\n",
       "      <td>159</td>\n",
       "      <td>19.0</td>\n",
       "      <td>10000.0</td>\n",
       "      <td>0</td>\n",
       "      <td>0.0</td>\n",
       "      <td>Everyone</td>\n",
       "      <td>art &amp; design</td>\n",
       "      <td>2018-01-07</td>\n",
       "      <td>0</td>\n",
       "      <td>art &amp; design</td>\n",
       "      <td></td>\n",
       "    </tr>\n",
       "    <tr>\n",
       "      <th>1</th>\n",
       "      <td>Coloring book moana</td>\n",
       "      <td>art_and_design</td>\n",
       "      <td>3.9</td>\n",
       "      <td>967</td>\n",
       "      <td>14.0</td>\n",
       "      <td>500000.0</td>\n",
       "      <td>0</td>\n",
       "      <td>0.0</td>\n",
       "      <td>Everyone</td>\n",
       "      <td>art &amp; design;pretend play</td>\n",
       "      <td>2018-01-15</td>\n",
       "      <td>1</td>\n",
       "      <td>art &amp; design</td>\n",
       "      <td>pretend play</td>\n",
       "    </tr>\n",
       "    <tr>\n",
       "      <th>2</th>\n",
       "      <td>U Launcher Lite â FREE Live Cool Themes, Hid...</td>\n",
       "      <td>art_and_design</td>\n",
       "      <td>4.7</td>\n",
       "      <td>87510</td>\n",
       "      <td>8.7</td>\n",
       "      <td>5000000.0</td>\n",
       "      <td>0</td>\n",
       "      <td>0.0</td>\n",
       "      <td>Everyone</td>\n",
       "      <td>art &amp; design</td>\n",
       "      <td>2018-08-01</td>\n",
       "      <td>2</td>\n",
       "      <td>art &amp; design</td>\n",
       "      <td></td>\n",
       "    </tr>\n",
       "    <tr>\n",
       "      <th>3</th>\n",
       "      <td>Sketch - Draw &amp; Paint</td>\n",
       "      <td>art_and_design</td>\n",
       "      <td>4.5</td>\n",
       "      <td>215644</td>\n",
       "      <td>25.0</td>\n",
       "      <td>50000000.0</td>\n",
       "      <td>0</td>\n",
       "      <td>0.0</td>\n",
       "      <td>Teen</td>\n",
       "      <td>art &amp; design</td>\n",
       "      <td>2018-06-08</td>\n",
       "      <td>3</td>\n",
       "      <td>art &amp; design</td>\n",
       "      <td></td>\n",
       "    </tr>\n",
       "    <tr>\n",
       "      <th>4</th>\n",
       "      <td>Pixel Draw - Number Art Coloring Book</td>\n",
       "      <td>art_and_design</td>\n",
       "      <td>4.3</td>\n",
       "      <td>967</td>\n",
       "      <td>2.8</td>\n",
       "      <td>100000.0</td>\n",
       "      <td>0</td>\n",
       "      <td>0.0</td>\n",
       "      <td>Everyone</td>\n",
       "      <td>art &amp; design;creativity</td>\n",
       "      <td>2018-06-20</td>\n",
       "      <td>4</td>\n",
       "      <td>art &amp; design</td>\n",
       "      <td>creativity</td>\n",
       "    </tr>\n",
       "    <tr>\n",
       "      <th>5</th>\n",
       "      <td>Paper flowers instructions</td>\n",
       "      <td>art_and_design</td>\n",
       "      <td>4.4</td>\n",
       "      <td>167</td>\n",
       "      <td>5.6</td>\n",
       "      <td>50000.0</td>\n",
       "      <td>0</td>\n",
       "      <td>0.0</td>\n",
       "      <td>Everyone</td>\n",
       "      <td>art &amp; design</td>\n",
       "      <td>2017-03-26</td>\n",
       "      <td>5</td>\n",
       "      <td>art &amp; design</td>\n",
       "      <td></td>\n",
       "    </tr>\n",
       "    <tr>\n",
       "      <th>6</th>\n",
       "      <td>Smoke Effect Photo Maker - Smoke Editor</td>\n",
       "      <td>art_and_design</td>\n",
       "      <td>3.8</td>\n",
       "      <td>178</td>\n",
       "      <td>19.0</td>\n",
       "      <td>50000.0</td>\n",
       "      <td>0</td>\n",
       "      <td>0.0</td>\n",
       "      <td>Everyone</td>\n",
       "      <td>art &amp; design</td>\n",
       "      <td>2018-04-26</td>\n",
       "      <td>6</td>\n",
       "      <td>art &amp; design</td>\n",
       "      <td></td>\n",
       "    </tr>\n",
       "    <tr>\n",
       "      <th>7</th>\n",
       "      <td>Infinite Painter</td>\n",
       "      <td>art_and_design</td>\n",
       "      <td>4.1</td>\n",
       "      <td>36815</td>\n",
       "      <td>29.0</td>\n",
       "      <td>1000000.0</td>\n",
       "      <td>0</td>\n",
       "      <td>0.0</td>\n",
       "      <td>Everyone</td>\n",
       "      <td>art &amp; design</td>\n",
       "      <td>2018-06-14</td>\n",
       "      <td>7</td>\n",
       "      <td>art &amp; design</td>\n",
       "      <td></td>\n",
       "    </tr>\n",
       "    <tr>\n",
       "      <th>8</th>\n",
       "      <td>Garden Coloring Book</td>\n",
       "      <td>art_and_design</td>\n",
       "      <td>4.4</td>\n",
       "      <td>13791</td>\n",
       "      <td>33.0</td>\n",
       "      <td>1000000.0</td>\n",
       "      <td>0</td>\n",
       "      <td>0.0</td>\n",
       "      <td>Everyone</td>\n",
       "      <td>art &amp; design</td>\n",
       "      <td>2017-09-20</td>\n",
       "      <td>8</td>\n",
       "      <td>art &amp; design</td>\n",
       "      <td></td>\n",
       "    </tr>\n",
       "    <tr>\n",
       "      <th>9</th>\n",
       "      <td>Kids Paint Free - Drawing Fun</td>\n",
       "      <td>art_and_design</td>\n",
       "      <td>4.7</td>\n",
       "      <td>121</td>\n",
       "      <td>3.1</td>\n",
       "      <td>10000.0</td>\n",
       "      <td>0</td>\n",
       "      <td>0.0</td>\n",
       "      <td>Everyone</td>\n",
       "      <td>art &amp; design;creativity</td>\n",
       "      <td>2018-07-03</td>\n",
       "      <td>9</td>\n",
       "      <td>art &amp; design</td>\n",
       "      <td>creativity</td>\n",
       "    </tr>\n",
       "  </tbody>\n",
       "</table>\n",
       "</div>"
      ],
      "text/plain": [
       "                                                 App        Category  Rating  \\\n",
       "0     Photo Editor & Candy Camera & Grid & ScrapBook  art_and_design     4.1   \n",
       "1                                Coloring book moana  art_and_design     3.9   \n",
       "2  U Launcher Lite â FREE Live Cool Themes, Hid...  art_and_design     4.7   \n",
       "3                              Sketch - Draw & Paint  art_and_design     4.5   \n",
       "4              Pixel Draw - Number Art Coloring Book  art_and_design     4.3   \n",
       "5                         Paper flowers instructions  art_and_design     4.4   \n",
       "6            Smoke Effect Photo Maker - Smoke Editor  art_and_design     3.8   \n",
       "7                                   Infinite Painter  art_and_design     4.1   \n",
       "8                               Garden Coloring Book  art_and_design     4.4   \n",
       "9                      Kids Paint Free - Drawing Fun  art_and_design     4.7   \n",
       "\n",
       "   Reviews  Size    Installs  Type  Price Content Rating  \\\n",
       "0      159  19.0     10000.0     0    0.0       Everyone   \n",
       "1      967  14.0    500000.0     0    0.0       Everyone   \n",
       "2    87510   8.7   5000000.0     0    0.0       Everyone   \n",
       "3   215644  25.0  50000000.0     0    0.0           Teen   \n",
       "4      967   2.8    100000.0     0    0.0       Everyone   \n",
       "5      167   5.6     50000.0     0    0.0       Everyone   \n",
       "6      178  19.0     50000.0     0    0.0       Everyone   \n",
       "7    36815  29.0   1000000.0     0    0.0       Everyone   \n",
       "8    13791  33.0   1000000.0     0    0.0       Everyone   \n",
       "9      121   3.1     10000.0     0    0.0       Everyone   \n",
       "\n",
       "                      Genres Last Updated  Id     up_Genres    low_Genres  \n",
       "0               art & design   2018-01-07   0  art & design                \n",
       "1  art & design;pretend play   2018-01-15   1  art & design  pretend play  \n",
       "2               art & design   2018-08-01   2  art & design                \n",
       "3               art & design   2018-06-08   3  art & design                \n",
       "4    art & design;creativity   2018-06-20   4  art & design    creativity  \n",
       "5               art & design   2017-03-26   5  art & design                \n",
       "6               art & design   2018-04-26   6  art & design                \n",
       "7               art & design   2018-06-14   7  art & design                \n",
       "8               art & design   2017-09-20   8  art & design                \n",
       "9    art & design;creativity   2018-07-03   9  art & design    creativity  "
      ]
     },
     "execution_count": 84,
     "metadata": {},
     "output_type": "execute_result"
    }
   ],
   "source": [
    "train[train['Category']!=train['up_Genres']].head(10)"
   ]
  },
  {
   "cell_type": "code",
   "execution_count": 85,
   "metadata": {},
   "outputs": [
    {
     "name": "stdout",
     "output_type": "stream",
     "text": [
      "48 33\n"
     ]
    }
   ],
   "source": [
    "a = train['up_Genres'].unique().tolist()\n",
    "b = train['Category'].unique().tolist()\n",
    "print(len(a), len(b))"
   ]
  },
  {
   "cell_type": "code",
   "execution_count": 86,
   "metadata": {},
   "outputs": [
    {
     "name": "stdout",
     "output_type": "stream",
     "text": [
      "['art & design', 'auto & vehicles', 'beauty', 'books & reference', 'business', 'comics', 'communication', 'dating', 'education', 'entertainment', 'events', 'finance', 'food & drink', 'health & fitness', 'house & home', 'libraries & demo', 'lifestyle', 'adventure', 'arcade', 'casual', 'card', 'strategy', 'action', 'puzzle', 'sports', 'word', 'racing', 'simulation', 'board', 'trivia', 'role playing', 'educational', 'music', 'music & audio', 'video players & editors', 'medical', 'social', 'shopping', 'photography', 'travel & local', 'tools', 'personalization', 'productivity', 'parenting', 'weather', 'news & magazines', 'maps & navigation', 'casino']\n",
      "['art_and_design', 'auto_and_vehicles', 'beauty', 'books_and_reference', 'business', 'comics', 'communication', 'dating', 'education', 'entertainment', 'events', 'finance', 'food_and_drink', 'health_and_fitness', 'house_and_home', 'libraries_and_demo', 'lifestyle', 'game', 'family', 'medical', 'social', 'shopping', 'photography', 'sports', 'travel_and_local', 'tools', 'personalization', 'productivity', 'parenting', 'weather', 'video_players', 'news_and_magazines', 'maps_and_navigation']\n"
     ]
    }
   ],
   "source": [
    "print(a)\n",
    "print(b)"
   ]
  },
  {
   "cell_type": "markdown",
   "metadata": {},
   "source": [
    "up_Genres와 Category의 분류는 거의 일치하나, up_Genres가 15개의 범주를 더 가지고 있다. \n",
    "up_Genres를 사용하도록 하겠다."
   ]
  },
  {
   "cell_type": "code",
   "execution_count": 87,
   "metadata": {},
   "outputs": [],
   "source": [
    "train_category = train.copy()"
   ]
  },
  {
   "cell_type": "code",
   "execution_count": 88,
   "metadata": {},
   "outputs": [],
   "source": [
    "train = train.drop(['low_Genres','Genres','Category'],axis=1)"
   ]
  },
  {
   "cell_type": "code",
   "execution_count": 89,
   "metadata": {},
   "outputs": [
    {
     "data": {
      "text/html": [
       "<div>\n",
       "<style scoped>\n",
       "    .dataframe tbody tr th:only-of-type {\n",
       "        vertical-align: middle;\n",
       "    }\n",
       "\n",
       "    .dataframe tbody tr th {\n",
       "        vertical-align: top;\n",
       "    }\n",
       "\n",
       "    .dataframe thead th {\n",
       "        text-align: right;\n",
       "    }\n",
       "</style>\n",
       "<table border=\"1\" class=\"dataframe\">\n",
       "  <thead>\n",
       "    <tr style=\"text-align: right;\">\n",
       "      <th></th>\n",
       "      <th>App</th>\n",
       "      <th>Rating</th>\n",
       "      <th>Reviews</th>\n",
       "      <th>Size</th>\n",
       "      <th>Installs</th>\n",
       "      <th>Type</th>\n",
       "      <th>Price</th>\n",
       "      <th>Content Rating</th>\n",
       "      <th>Last Updated</th>\n",
       "      <th>Id</th>\n",
       "      <th>up_Genres</th>\n",
       "    </tr>\n",
       "  </thead>\n",
       "  <tbody>\n",
       "    <tr>\n",
       "      <th>0</th>\n",
       "      <td>Photo Editor &amp; Candy Camera &amp; Grid &amp; ScrapBook</td>\n",
       "      <td>4.1</td>\n",
       "      <td>159</td>\n",
       "      <td>19.0</td>\n",
       "      <td>10000.0</td>\n",
       "      <td>0</td>\n",
       "      <td>0.0</td>\n",
       "      <td>Everyone</td>\n",
       "      <td>2018-01-07</td>\n",
       "      <td>0</td>\n",
       "      <td>art &amp; design</td>\n",
       "    </tr>\n",
       "    <tr>\n",
       "      <th>1</th>\n",
       "      <td>Coloring book moana</td>\n",
       "      <td>3.9</td>\n",
       "      <td>967</td>\n",
       "      <td>14.0</td>\n",
       "      <td>500000.0</td>\n",
       "      <td>0</td>\n",
       "      <td>0.0</td>\n",
       "      <td>Everyone</td>\n",
       "      <td>2018-01-15</td>\n",
       "      <td>1</td>\n",
       "      <td>art &amp; design</td>\n",
       "    </tr>\n",
       "    <tr>\n",
       "      <th>2</th>\n",
       "      <td>U Launcher Lite â FREE Live Cool Themes, Hid...</td>\n",
       "      <td>4.7</td>\n",
       "      <td>87510</td>\n",
       "      <td>8.7</td>\n",
       "      <td>5000000.0</td>\n",
       "      <td>0</td>\n",
       "      <td>0.0</td>\n",
       "      <td>Everyone</td>\n",
       "      <td>2018-08-01</td>\n",
       "      <td>2</td>\n",
       "      <td>art &amp; design</td>\n",
       "    </tr>\n",
       "  </tbody>\n",
       "</table>\n",
       "</div>"
      ],
      "text/plain": [
       "                                                 App  Rating  Reviews  Size  \\\n",
       "0     Photo Editor & Candy Camera & Grid & ScrapBook     4.1      159  19.0   \n",
       "1                                Coloring book moana     3.9      967  14.0   \n",
       "2  U Launcher Lite â FREE Live Cool Themes, Hid...     4.7    87510   8.7   \n",
       "\n",
       "    Installs  Type  Price Content Rating Last Updated  Id     up_Genres  \n",
       "0    10000.0     0    0.0       Everyone   2018-01-07   0  art & design  \n",
       "1   500000.0     0    0.0       Everyone   2018-01-15   1  art & design  \n",
       "2  5000000.0     0    0.0       Everyone   2018-08-01   2  art & design  "
      ]
     },
     "execution_count": 89,
     "metadata": {},
     "output_type": "execute_result"
    }
   ],
   "source": [
    "train.head(3)"
   ]
  },
  {
   "cell_type": "code",
   "execution_count": 90,
   "metadata": {
    "colab": {
     "base_uri": "https://localhost:8080/"
    },
    "id": "yihiaxldJZQF",
    "outputId": "0173ea35-26e6-477a-f7eb-173497883004"
   },
   "outputs": [
    {
     "data": {
      "text/plain": [
       "Everyone           4531\n",
       "Teen                589\n",
       "Mature 17+          281\n",
       "Everyone 10+        212\n",
       "Adults only 18+       2\n",
       "Unrated               1\n",
       "Name: Content Rating, dtype: int64"
      ]
     },
     "execution_count": 90,
     "metadata": {},
     "output_type": "execute_result"
    }
   ],
   "source": [
    "con_rating_count = train['Content Rating'].value_counts()\n",
    "con_rating_count"
   ]
  },
  {
   "cell_type": "markdown",
   "metadata": {},
   "source": [
    "- ### 범주형 변수 처리 - Content Rating 3단계로 재분류"
   ]
  },
  {
   "cell_type": "code",
   "execution_count": 91,
   "metadata": {
    "colab": {
     "base_uri": "https://localhost:8080/",
     "height": 487
    },
    "id": "yFzY7Rah3Goz",
    "outputId": "4d66109e-e750-40ca-d311-ea67e3ccd389"
   },
   "outputs": [
    {
     "data": {
      "image/png": "[encoded data removed]",
      "text/plain": [
       "<Figure size 1152x576 with 1 Axes>"
      ]
     },
     "metadata": {},
     "output_type": "display_data"
    }
   ],
   "source": [
    "# Content Rating 시각화\n",
    "fig = plt.figure(figsize=(16,8)) \n",
    "plt.pie(con_rating_count,labels=con_rating_count.index,autopct='%1.1f%%', shadow=True)\n",
    "plt.title('Content Rating',size = 20)\n",
    "plt.legend()\n",
    "plt.show()"
   ]
  },
  {
   "cell_type": "markdown",
   "metadata": {},
   "source": [
    "Everyone: 6세 이상\n",
    "\n",
    "Everyone 10+ : 10세 이상\n",
    "\n",
    "Teen : 13세 이상\n",
    "\n",
    "Mature 17+ : 17세 이상\n",
    "\n",
    "Adults only 18+ : 18세 이상\n",
    "\n",
    "Unrated : 평가되지 않음 \n",
    "\n",
    "이므로, 3단계로 재구성 Everyone/ Everyone 10+ Teen/ Mature 17+, Adults only 18+ (Unrated 데이터 1개 삭제)"
   ]
  },
  {
   "cell_type": "code",
   "execution_count": 94,
   "metadata": {},
   "outputs": [],
   "source": [
    "# train[train['Content Rating']=='Everyone 10+']\n",
    "train.drop(train.loc[train['Content Rating']=='Unrated'].index, inplace=True) # 1개 데이터 삭제\n",
    "\n",
    "def custom(COL) :\n",
    "    if COL=='Everyone':\n",
    "        return 'A'\n",
    "    elif COL=='Everyone 10+' or COL=='Teen':\n",
    "        return 'B'\n",
    "    else :\n",
    "        return 'C'\n",
    "    \n",
    "train[\"New_content_rating\"] = train.apply(lambda x : custom(x[\"Content Rating\"]) , axis = 1 )"
   ]
  },
  {
   "cell_type": "code",
   "execution_count": 100,
   "metadata": {},
   "outputs": [],
   "source": [
    "train = train.drop(['Content Rating','Id'], axis=1) # Id는 필요하지 않다."
   ]
  },
  {
   "cell_type": "code",
   "execution_count": 101,
   "metadata": {},
   "outputs": [
    {
     "data": {
      "text/html": [
       "<div>\n",
       "<style scoped>\n",
       "    .dataframe tbody tr th:only-of-type {\n",
       "        vertical-align: middle;\n",
       "    }\n",
       "\n",
       "    .dataframe tbody tr th {\n",
       "        vertical-align: top;\n",
       "    }\n",
       "\n",
       "    .dataframe thead th {\n",
       "        text-align: right;\n",
       "    }\n",
       "</style>\n",
       "<table border=\"1\" class=\"dataframe\">\n",
       "  <thead>\n",
       "    <tr style=\"text-align: right;\">\n",
       "      <th></th>\n",
       "      <th>App</th>\n",
       "      <th>Rating</th>\n",
       "      <th>Reviews</th>\n",
       "      <th>Size</th>\n",
       "      <th>Installs</th>\n",
       "      <th>Type</th>\n",
       "      <th>Price</th>\n",
       "      <th>Last Updated</th>\n",
       "      <th>up_Genres</th>\n",
       "      <th>New_content_rating</th>\n",
       "    </tr>\n",
       "  </thead>\n",
       "  <tbody>\n",
       "    <tr>\n",
       "      <th>0</th>\n",
       "      <td>Photo Editor &amp; Candy Camera &amp; Grid &amp; ScrapBook</td>\n",
       "      <td>4.1</td>\n",
       "      <td>159</td>\n",
       "      <td>19.0</td>\n",
       "      <td>10000.0</td>\n",
       "      <td>0</td>\n",
       "      <td>0.0</td>\n",
       "      <td>2018-01-07</td>\n",
       "      <td>art &amp; design</td>\n",
       "      <td>A</td>\n",
       "    </tr>\n",
       "    <tr>\n",
       "      <th>1</th>\n",
       "      <td>Coloring book moana</td>\n",
       "      <td>3.9</td>\n",
       "      <td>967</td>\n",
       "      <td>14.0</td>\n",
       "      <td>500000.0</td>\n",
       "      <td>0</td>\n",
       "      <td>0.0</td>\n",
       "      <td>2018-01-15</td>\n",
       "      <td>art &amp; design</td>\n",
       "      <td>A</td>\n",
       "    </tr>\n",
       "    <tr>\n",
       "      <th>2</th>\n",
       "      <td>U Launcher Lite â FREE Live Cool Themes, Hid...</td>\n",
       "      <td>4.7</td>\n",
       "      <td>87510</td>\n",
       "      <td>8.7</td>\n",
       "      <td>5000000.0</td>\n",
       "      <td>0</td>\n",
       "      <td>0.0</td>\n",
       "      <td>2018-08-01</td>\n",
       "      <td>art &amp; design</td>\n",
       "      <td>A</td>\n",
       "    </tr>\n",
       "  </tbody>\n",
       "</table>\n",
       "</div>"
      ],
      "text/plain": [
       "                                                 App  Rating  Reviews  Size  \\\n",
       "0     Photo Editor & Candy Camera & Grid & ScrapBook     4.1      159  19.0   \n",
       "1                                Coloring book moana     3.9      967  14.0   \n",
       "2  U Launcher Lite â FREE Live Cool Themes, Hid...     4.7    87510   8.7   \n",
       "\n",
       "    Installs  Type  Price Last Updated     up_Genres New_content_rating  \n",
       "0    10000.0     0    0.0   2018-01-07  art & design                  A  \n",
       "1   500000.0     0    0.0   2018-01-15  art & design                  A  \n",
       "2  5000000.0     0    0.0   2018-08-01  art & design                  A  "
      ]
     },
     "execution_count": 101,
     "metadata": {},
     "output_type": "execute_result"
    }
   ],
   "source": [
    "train.head(3)"
   ]
  },
  {
   "cell_type": "code",
   "execution_count": 102,
   "metadata": {},
   "outputs": [],
   "source": [
    "train.to_csv('app_data_complete.csv')"
   ]
  },
  {
   "cell_type": "code",
   "execution_count": 140,
   "metadata": {},
   "outputs": [],
   "source": [
    "train = pd.read_csv('app_data_complete.csv')\n",
    "train.drop('Unnamed: 0', axis=1, inplace=True)"
   ]
  },
  {
   "cell_type": "markdown",
   "metadata": {},
   "source": [
    "### 범주형 변수 - 더미변수화"
   ]
  },
  {
   "cell_type": "code",
   "execution_count": 141,
   "metadata": {},
   "outputs": [],
   "source": [
    "cat_col = ['up_Genres', 'New_content_rating']\n",
    "\n",
    "train = pd.get_dummies(train, columns=cat_col)"
   ]
  },
  {
   "cell_type": "code",
   "execution_count": 142,
   "metadata": {},
   "outputs": [
    {
     "data": {
      "text/html": [
       "<div>\n",
       "<style scoped>\n",
       "    .dataframe tbody tr th:only-of-type {\n",
       "        vertical-align: middle;\n",
       "    }\n",
       "\n",
       "    .dataframe tbody tr th {\n",
       "        vertical-align: top;\n",
       "    }\n",
       "\n",
       "    .dataframe thead th {\n",
       "        text-align: right;\n",
       "    }\n",
       "</style>\n",
       "<table border=\"1\" class=\"dataframe\">\n",
       "  <thead>\n",
       "    <tr style=\"text-align: right;\">\n",
       "      <th></th>\n",
       "      <th>App</th>\n",
       "      <th>Rating</th>\n",
       "      <th>Reviews</th>\n",
       "      <th>Size</th>\n",
       "      <th>Installs</th>\n",
       "      <th>Type</th>\n",
       "      <th>Price</th>\n",
       "      <th>Last Updated</th>\n",
       "      <th>up_Genres_action</th>\n",
       "      <th>up_Genres_adventure</th>\n",
       "      <th>up_Genres_arcade</th>\n",
       "      <th>up_Genres_art &amp; design</th>\n",
       "      <th>up_Genres_auto &amp; vehicles</th>\n",
       "      <th>up_Genres_beauty</th>\n",
       "      <th>up_Genres_board</th>\n",
       "      <th>up_Genres_books &amp; reference</th>\n",
       "      <th>up_Genres_business</th>\n",
       "      <th>up_Genres_card</th>\n",
       "      <th>up_Genres_casino</th>\n",
       "      <th>up_Genres_casual</th>\n",
       "      <th>up_Genres_comics</th>\n",
       "      <th>up_Genres_communication</th>\n",
       "      <th>up_Genres_dating</th>\n",
       "      <th>up_Genres_education</th>\n",
       "      <th>up_Genres_educational</th>\n",
       "      <th>up_Genres_entertainment</th>\n",
       "      <th>up_Genres_events</th>\n",
       "      <th>up_Genres_finance</th>\n",
       "      <th>up_Genres_food &amp; drink</th>\n",
       "      <th>up_Genres_health &amp; fitness</th>\n",
       "      <th>up_Genres_house &amp; home</th>\n",
       "      <th>up_Genres_libraries &amp; demo</th>\n",
       "      <th>up_Genres_lifestyle</th>\n",
       "      <th>up_Genres_maps &amp; navigation</th>\n",
       "      <th>up_Genres_medical</th>\n",
       "      <th>up_Genres_music</th>\n",
       "      <th>up_Genres_music &amp; audio</th>\n",
       "      <th>up_Genres_news &amp; magazines</th>\n",
       "      <th>up_Genres_parenting</th>\n",
       "      <th>up_Genres_personalization</th>\n",
       "      <th>up_Genres_photography</th>\n",
       "      <th>up_Genres_productivity</th>\n",
       "      <th>up_Genres_puzzle</th>\n",
       "      <th>up_Genres_racing</th>\n",
       "      <th>up_Genres_role playing</th>\n",
       "      <th>up_Genres_shopping</th>\n",
       "      <th>up_Genres_simulation</th>\n",
       "      <th>up_Genres_social</th>\n",
       "      <th>up_Genres_sports</th>\n",
       "      <th>up_Genres_strategy</th>\n",
       "      <th>up_Genres_tools</th>\n",
       "      <th>up_Genres_travel &amp; local</th>\n",
       "      <th>up_Genres_trivia</th>\n",
       "      <th>up_Genres_video players &amp; editors</th>\n",
       "      <th>up_Genres_weather</th>\n",
       "      <th>up_Genres_word</th>\n",
       "      <th>New_content_rating_A</th>\n",
       "      <th>New_content_rating_B</th>\n",
       "      <th>New_content_rating_C</th>\n",
       "    </tr>\n",
       "  </thead>\n",
       "  <tbody>\n",
       "    <tr>\n",
       "      <th>0</th>\n",
       "      <td>Photo Editor &amp; Candy Camera &amp; Grid &amp; ScrapBook</td>\n",
       "      <td>4.1</td>\n",
       "      <td>159</td>\n",
       "      <td>19.0</td>\n",
       "      <td>10000.0</td>\n",
       "      <td>0</td>\n",
       "      <td>0.0</td>\n",
       "      <td>2018-01-07</td>\n",
       "      <td>0</td>\n",
       "      <td>0</td>\n",
       "      <td>0</td>\n",
       "      <td>1</td>\n",
       "      <td>0</td>\n",
       "      <td>0</td>\n",
       "      <td>0</td>\n",
       "      <td>0</td>\n",
       "      <td>0</td>\n",
       "      <td>0</td>\n",
       "      <td>0</td>\n",
       "      <td>0</td>\n",
       "      <td>0</td>\n",
       "      <td>0</td>\n",
       "      <td>0</td>\n",
       "      <td>0</td>\n",
       "      <td>0</td>\n",
       "      <td>0</td>\n",
       "      <td>0</td>\n",
       "      <td>0</td>\n",
       "      <td>0</td>\n",
       "      <td>0</td>\n",
       "      <td>0</td>\n",
       "      <td>0</td>\n",
       "      <td>0</td>\n",
       "      <td>0</td>\n",
       "      <td>0</td>\n",
       "      <td>0</td>\n",
       "      <td>0</td>\n",
       "      <td>0</td>\n",
       "      <td>0</td>\n",
       "      <td>0</td>\n",
       "      <td>0</td>\n",
       "      <td>0</td>\n",
       "      <td>0</td>\n",
       "      <td>0</td>\n",
       "      <td>0</td>\n",
       "      <td>0</td>\n",
       "      <td>0</td>\n",
       "      <td>0</td>\n",
       "      <td>0</td>\n",
       "      <td>0</td>\n",
       "      <td>0</td>\n",
       "      <td>0</td>\n",
       "      <td>0</td>\n",
       "      <td>0</td>\n",
       "      <td>0</td>\n",
       "      <td>0</td>\n",
       "      <td>1</td>\n",
       "      <td>0</td>\n",
       "      <td>0</td>\n",
       "    </tr>\n",
       "    <tr>\n",
       "      <th>1</th>\n",
       "      <td>Coloring book moana</td>\n",
       "      <td>3.9</td>\n",
       "      <td>967</td>\n",
       "      <td>14.0</td>\n",
       "      <td>500000.0</td>\n",
       "      <td>0</td>\n",
       "      <td>0.0</td>\n",
       "      <td>2018-01-15</td>\n",
       "      <td>0</td>\n",
       "      <td>0</td>\n",
       "      <td>0</td>\n",
       "      <td>1</td>\n",
       "      <td>0</td>\n",
       "      <td>0</td>\n",
       "      <td>0</td>\n",
       "      <td>0</td>\n",
       "      <td>0</td>\n",
       "      <td>0</td>\n",
       "      <td>0</td>\n",
       "      <td>0</td>\n",
       "      <td>0</td>\n",
       "      <td>0</td>\n",
       "      <td>0</td>\n",
       "      <td>0</td>\n",
       "      <td>0</td>\n",
       "      <td>0</td>\n",
       "      <td>0</td>\n",
       "      <td>0</td>\n",
       "      <td>0</td>\n",
       "      <td>0</td>\n",
       "      <td>0</td>\n",
       "      <td>0</td>\n",
       "      <td>0</td>\n",
       "      <td>0</td>\n",
       "      <td>0</td>\n",
       "      <td>0</td>\n",
       "      <td>0</td>\n",
       "      <td>0</td>\n",
       "      <td>0</td>\n",
       "      <td>0</td>\n",
       "      <td>0</td>\n",
       "      <td>0</td>\n",
       "      <td>0</td>\n",
       "      <td>0</td>\n",
       "      <td>0</td>\n",
       "      <td>0</td>\n",
       "      <td>0</td>\n",
       "      <td>0</td>\n",
       "      <td>0</td>\n",
       "      <td>0</td>\n",
       "      <td>0</td>\n",
       "      <td>0</td>\n",
       "      <td>0</td>\n",
       "      <td>0</td>\n",
       "      <td>0</td>\n",
       "      <td>0</td>\n",
       "      <td>1</td>\n",
       "      <td>0</td>\n",
       "      <td>0</td>\n",
       "    </tr>\n",
       "    <tr>\n",
       "      <th>2</th>\n",
       "      <td>U Launcher Lite â FREE Live Cool Themes, Hid...</td>\n",
       "      <td>4.7</td>\n",
       "      <td>87510</td>\n",
       "      <td>8.7</td>\n",
       "      <td>5000000.0</td>\n",
       "      <td>0</td>\n",
       "      <td>0.0</td>\n",
       "      <td>2018-08-01</td>\n",
       "      <td>0</td>\n",
       "      <td>0</td>\n",
       "      <td>0</td>\n",
       "      <td>1</td>\n",
       "      <td>0</td>\n",
       "      <td>0</td>\n",
       "      <td>0</td>\n",
       "      <td>0</td>\n",
       "      <td>0</td>\n",
       "      <td>0</td>\n",
       "      <td>0</td>\n",
       "      <td>0</td>\n",
       "      <td>0</td>\n",
       "      <td>0</td>\n",
       "      <td>0</td>\n",
       "      <td>0</td>\n",
       "      <td>0</td>\n",
       "      <td>0</td>\n",
       "      <td>0</td>\n",
       "      <td>0</td>\n",
       "      <td>0</td>\n",
       "      <td>0</td>\n",
       "      <td>0</td>\n",
       "      <td>0</td>\n",
       "      <td>0</td>\n",
       "      <td>0</td>\n",
       "      <td>0</td>\n",
       "      <td>0</td>\n",
       "      <td>0</td>\n",
       "      <td>0</td>\n",
       "      <td>0</td>\n",
       "      <td>0</td>\n",
       "      <td>0</td>\n",
       "      <td>0</td>\n",
       "      <td>0</td>\n",
       "      <td>0</td>\n",
       "      <td>0</td>\n",
       "      <td>0</td>\n",
       "      <td>0</td>\n",
       "      <td>0</td>\n",
       "      <td>0</td>\n",
       "      <td>0</td>\n",
       "      <td>0</td>\n",
       "      <td>0</td>\n",
       "      <td>0</td>\n",
       "      <td>0</td>\n",
       "      <td>0</td>\n",
       "      <td>0</td>\n",
       "      <td>1</td>\n",
       "      <td>0</td>\n",
       "      <td>0</td>\n",
       "    </tr>\n",
       "  </tbody>\n",
       "</table>\n",
       "</div>"
      ],
      "text/plain": [
       "                                                 App  Rating  Reviews  Size  \\\n",
       "0     Photo Editor & Candy Camera & Grid & ScrapBook     4.1      159  19.0   \n",
       "1                                Coloring book moana     3.9      967  14.0   \n",
       "2  U Launcher Lite â FREE Live Cool Themes, Hid...     4.7    87510   8.7   \n",
       "\n",
       "    Installs  Type  Price Last Updated  up_Genres_action  up_Genres_adventure  \\\n",
       "0    10000.0     0    0.0   2018-01-07                 0                    0   \n",
       "1   500000.0     0    0.0   2018-01-15                 0                    0   \n",
       "2  5000000.0     0    0.0   2018-08-01                 0                    0   \n",
       "\n",
       "   up_Genres_arcade  up_Genres_art & design  up_Genres_auto & vehicles  \\\n",
       "0                 0                       1                          0   \n",
       "1                 0                       1                          0   \n",
       "2                 0                       1                          0   \n",
       "\n",
       "   up_Genres_beauty  up_Genres_board  up_Genres_books & reference  \\\n",
       "0                 0                0                            0   \n",
       "1                 0                0                            0   \n",
       "2                 0                0                            0   \n",
       "\n",
       "   up_Genres_business  up_Genres_card  up_Genres_casino  up_Genres_casual  \\\n",
       "0                   0               0                 0                 0   \n",
       "1                   0               0                 0                 0   \n",
       "2                   0               0                 0                 0   \n",
       "\n",
       "   up_Genres_comics  up_Genres_communication  up_Genres_dating  \\\n",
       "0                 0                        0                 0   \n",
       "1                 0                        0                 0   \n",
       "2                 0                        0                 0   \n",
       "\n",
       "   up_Genres_education  up_Genres_educational  up_Genres_entertainment  \\\n",
       "0                    0                      0                        0   \n",
       "1                    0                      0                        0   \n",
       "2                    0                      0                        0   \n",
       "\n",
       "   up_Genres_events  up_Genres_finance  up_Genres_food & drink  \\\n",
       "0                 0                  0                       0   \n",
       "1                 0                  0                       0   \n",
       "2                 0                  0                       0   \n",
       "\n",
       "   up_Genres_health & fitness  up_Genres_house & home  \\\n",
       "0                           0                       0   \n",
       "1                           0                       0   \n",
       "2                           0                       0   \n",
       "\n",
       "   up_Genres_libraries & demo  up_Genres_lifestyle  \\\n",
       "0                           0                    0   \n",
       "1                           0                    0   \n",
       "2                           0                    0   \n",
       "\n",
       "   up_Genres_maps & navigation  up_Genres_medical  up_Genres_music  \\\n",
       "0                            0                  0                0   \n",
       "1                            0                  0                0   \n",
       "2                            0                  0                0   \n",
       "\n",
       "   up_Genres_music & audio  up_Genres_news & magazines  up_Genres_parenting  \\\n",
       "0                        0                           0                    0   \n",
       "1                        0                           0                    0   \n",
       "2                        0                           0                    0   \n",
       "\n",
       "   up_Genres_personalization  up_Genres_photography  up_Genres_productivity  \\\n",
       "0                          0                      0                       0   \n",
       "1                          0                      0                       0   \n",
       "2                          0                      0                       0   \n",
       "\n",
       "   up_Genres_puzzle  up_Genres_racing  up_Genres_role playing  \\\n",
       "0                 0                 0                       0   \n",
       "1                 0                 0                       0   \n",
       "2                 0                 0                       0   \n",
       "\n",
       "   up_Genres_shopping  up_Genres_simulation  up_Genres_social  \\\n",
       "0                   0                     0                 0   \n",
       "1                   0                     0                 0   \n",
       "2                   0                     0                 0   \n",
       "\n",
       "   up_Genres_sports  up_Genres_strategy  up_Genres_tools  \\\n",
       "0                 0                   0                0   \n",
       "1                 0                   0                0   \n",
       "2                 0                   0                0   \n",
       "\n",
       "   up_Genres_travel & local  up_Genres_trivia  \\\n",
       "0                         0                 0   \n",
       "1                         0                 0   \n",
       "2                         0                 0   \n",
       "\n",
       "   up_Genres_video players & editors  up_Genres_weather  up_Genres_word  \\\n",
       "0                                  0                  0               0   \n",
       "1                                  0                  0               0   \n",
       "2                                  0                  0               0   \n",
       "\n",
       "   New_content_rating_A  New_content_rating_B  New_content_rating_C  \n",
       "0                     1                     0                     0  \n",
       "1                     1                     0                     0  \n",
       "2                     1                     0                     0  "
      ]
     },
     "execution_count": 142,
     "metadata": {},
     "output_type": "execute_result"
    }
   ],
   "source": [
    "train.head(3)"
   ]
  },
  {
   "cell_type": "code",
   "execution_count": 143,
   "metadata": {},
   "outputs": [],
   "source": [
    "train = train.query('Installs < 200000000 and Price < 250 and Reviews < 40000000')"
   ]
  },
  {
   "cell_type": "code",
   "execution_count": 144,
   "metadata": {},
   "outputs": [
    {
     "data": {
      "text/plain": [
       "(5589, 59)"
      ]
     },
     "execution_count": 144,
     "metadata": {},
     "output_type": "execute_result"
    }
   ],
   "source": [
    "train.shape"
   ]
  },
  {
   "cell_type": "code",
   "execution_count": 145,
   "metadata": {},
   "outputs": [],
   "source": [
    "train.drop('App',axis=1,inplace=True)"
   ]
  },
  {
   "cell_type": "markdown",
   "metadata": {},
   "source": [
    "#### last_update변수 처리를 깜박했네요. last update변수의 year정보만 추출한 다음 더미변수화하도록 하겠습니다!!"
   ]
  },
  {
   "cell_type": "code",
   "execution_count": 152,
   "metadata": {},
   "outputs": [],
   "source": [
    "train['Last Updated'] = pd.to_datetime(train['Last Updated'], format='%Y-%m-%d %H:%M:%S', errors='raise')\n",
    "\n",
    "train['update_year'] = train['Last Updated'].dt.year"
   ]
  },
  {
   "cell_type": "code",
   "execution_count": 155,
   "metadata": {},
   "outputs": [
    {
     "data": {
      "text/html": [
       "<div>\n",
       "<style scoped>\n",
       "    .dataframe tbody tr th:only-of-type {\n",
       "        vertical-align: middle;\n",
       "    }\n",
       "\n",
       "    .dataframe tbody tr th {\n",
       "        vertical-align: top;\n",
       "    }\n",
       "\n",
       "    .dataframe thead th {\n",
       "        text-align: right;\n",
       "    }\n",
       "</style>\n",
       "<table border=\"1\" class=\"dataframe\">\n",
       "  <thead>\n",
       "    <tr style=\"text-align: right;\">\n",
       "      <th></th>\n",
       "      <th>Rating</th>\n",
       "      <th>Reviews</th>\n",
       "      <th>Size</th>\n",
       "      <th>Installs</th>\n",
       "      <th>Type</th>\n",
       "      <th>Price</th>\n",
       "      <th>Last Updated</th>\n",
       "      <th>up_Genres_action</th>\n",
       "      <th>up_Genres_adventure</th>\n",
       "      <th>up_Genres_arcade</th>\n",
       "      <th>up_Genres_art &amp; design</th>\n",
       "      <th>up_Genres_auto &amp; vehicles</th>\n",
       "      <th>up_Genres_beauty</th>\n",
       "      <th>up_Genres_board</th>\n",
       "      <th>up_Genres_books &amp; reference</th>\n",
       "      <th>up_Genres_business</th>\n",
       "      <th>up_Genres_card</th>\n",
       "      <th>up_Genres_casino</th>\n",
       "      <th>up_Genres_casual</th>\n",
       "      <th>up_Genres_comics</th>\n",
       "      <th>up_Genres_communication</th>\n",
       "      <th>up_Genres_dating</th>\n",
       "      <th>up_Genres_education</th>\n",
       "      <th>up_Genres_educational</th>\n",
       "      <th>up_Genres_entertainment</th>\n",
       "      <th>up_Genres_events</th>\n",
       "      <th>up_Genres_finance</th>\n",
       "      <th>up_Genres_food &amp; drink</th>\n",
       "      <th>up_Genres_health &amp; fitness</th>\n",
       "      <th>up_Genres_house &amp; home</th>\n",
       "      <th>up_Genres_libraries &amp; demo</th>\n",
       "      <th>up_Genres_lifestyle</th>\n",
       "      <th>up_Genres_maps &amp; navigation</th>\n",
       "      <th>up_Genres_medical</th>\n",
       "      <th>up_Genres_music</th>\n",
       "      <th>up_Genres_music &amp; audio</th>\n",
       "      <th>up_Genres_news &amp; magazines</th>\n",
       "      <th>up_Genres_parenting</th>\n",
       "      <th>up_Genres_personalization</th>\n",
       "      <th>up_Genres_photography</th>\n",
       "      <th>up_Genres_productivity</th>\n",
       "      <th>up_Genres_puzzle</th>\n",
       "      <th>up_Genres_racing</th>\n",
       "      <th>up_Genres_role playing</th>\n",
       "      <th>up_Genres_shopping</th>\n",
       "      <th>up_Genres_simulation</th>\n",
       "      <th>up_Genres_social</th>\n",
       "      <th>up_Genres_sports</th>\n",
       "      <th>up_Genres_strategy</th>\n",
       "      <th>up_Genres_tools</th>\n",
       "      <th>up_Genres_travel &amp; local</th>\n",
       "      <th>up_Genres_trivia</th>\n",
       "      <th>up_Genres_video players &amp; editors</th>\n",
       "      <th>up_Genres_weather</th>\n",
       "      <th>up_Genres_word</th>\n",
       "      <th>New_content_rating_A</th>\n",
       "      <th>New_content_rating_B</th>\n",
       "      <th>New_content_rating_C</th>\n",
       "      <th>update_year</th>\n",
       "    </tr>\n",
       "  </thead>\n",
       "  <tbody>\n",
       "    <tr>\n",
       "      <th>0</th>\n",
       "      <td>4.1</td>\n",
       "      <td>159</td>\n",
       "      <td>19.0</td>\n",
       "      <td>10000.0</td>\n",
       "      <td>0</td>\n",
       "      <td>0.0</td>\n",
       "      <td>2018-01-07</td>\n",
       "      <td>0</td>\n",
       "      <td>0</td>\n",
       "      <td>0</td>\n",
       "      <td>1</td>\n",
       "      <td>0</td>\n",
       "      <td>0</td>\n",
       "      <td>0</td>\n",
       "      <td>0</td>\n",
       "      <td>0</td>\n",
       "      <td>0</td>\n",
       "      <td>0</td>\n",
       "      <td>0</td>\n",
       "      <td>0</td>\n",
       "      <td>0</td>\n",
       "      <td>0</td>\n",
       "      <td>0</td>\n",
       "      <td>0</td>\n",
       "      <td>0</td>\n",
       "      <td>0</td>\n",
       "      <td>0</td>\n",
       "      <td>0</td>\n",
       "      <td>0</td>\n",
       "      <td>0</td>\n",
       "      <td>0</td>\n",
       "      <td>0</td>\n",
       "      <td>0</td>\n",
       "      <td>0</td>\n",
       "      <td>0</td>\n",
       "      <td>0</td>\n",
       "      <td>0</td>\n",
       "      <td>0</td>\n",
       "      <td>0</td>\n",
       "      <td>0</td>\n",
       "      <td>0</td>\n",
       "      <td>0</td>\n",
       "      <td>0</td>\n",
       "      <td>0</td>\n",
       "      <td>0</td>\n",
       "      <td>0</td>\n",
       "      <td>0</td>\n",
       "      <td>0</td>\n",
       "      <td>0</td>\n",
       "      <td>0</td>\n",
       "      <td>0</td>\n",
       "      <td>0</td>\n",
       "      <td>0</td>\n",
       "      <td>0</td>\n",
       "      <td>0</td>\n",
       "      <td>1</td>\n",
       "      <td>0</td>\n",
       "      <td>0</td>\n",
       "      <td>2018</td>\n",
       "    </tr>\n",
       "    <tr>\n",
       "      <th>1</th>\n",
       "      <td>3.9</td>\n",
       "      <td>967</td>\n",
       "      <td>14.0</td>\n",
       "      <td>500000.0</td>\n",
       "      <td>0</td>\n",
       "      <td>0.0</td>\n",
       "      <td>2018-01-15</td>\n",
       "      <td>0</td>\n",
       "      <td>0</td>\n",
       "      <td>0</td>\n",
       "      <td>1</td>\n",
       "      <td>0</td>\n",
       "      <td>0</td>\n",
       "      <td>0</td>\n",
       "      <td>0</td>\n",
       "      <td>0</td>\n",
       "      <td>0</td>\n",
       "      <td>0</td>\n",
       "      <td>0</td>\n",
       "      <td>0</td>\n",
       "      <td>0</td>\n",
       "      <td>0</td>\n",
       "      <td>0</td>\n",
       "      <td>0</td>\n",
       "      <td>0</td>\n",
       "      <td>0</td>\n",
       "      <td>0</td>\n",
       "      <td>0</td>\n",
       "      <td>0</td>\n",
       "      <td>0</td>\n",
       "      <td>0</td>\n",
       "      <td>0</td>\n",
       "      <td>0</td>\n",
       "      <td>0</td>\n",
       "      <td>0</td>\n",
       "      <td>0</td>\n",
       "      <td>0</td>\n",
       "      <td>0</td>\n",
       "      <td>0</td>\n",
       "      <td>0</td>\n",
       "      <td>0</td>\n",
       "      <td>0</td>\n",
       "      <td>0</td>\n",
       "      <td>0</td>\n",
       "      <td>0</td>\n",
       "      <td>0</td>\n",
       "      <td>0</td>\n",
       "      <td>0</td>\n",
       "      <td>0</td>\n",
       "      <td>0</td>\n",
       "      <td>0</td>\n",
       "      <td>0</td>\n",
       "      <td>0</td>\n",
       "      <td>0</td>\n",
       "      <td>0</td>\n",
       "      <td>1</td>\n",
       "      <td>0</td>\n",
       "      <td>0</td>\n",
       "      <td>2018</td>\n",
       "    </tr>\n",
       "    <tr>\n",
       "      <th>2</th>\n",
       "      <td>4.7</td>\n",
       "      <td>87510</td>\n",
       "      <td>8.7</td>\n",
       "      <td>5000000.0</td>\n",
       "      <td>0</td>\n",
       "      <td>0.0</td>\n",
       "      <td>2018-08-01</td>\n",
       "      <td>0</td>\n",
       "      <td>0</td>\n",
       "      <td>0</td>\n",
       "      <td>1</td>\n",
       "      <td>0</td>\n",
       "      <td>0</td>\n",
       "      <td>0</td>\n",
       "      <td>0</td>\n",
       "      <td>0</td>\n",
       "      <td>0</td>\n",
       "      <td>0</td>\n",
       "      <td>0</td>\n",
       "      <td>0</td>\n",
       "      <td>0</td>\n",
       "      <td>0</td>\n",
       "      <td>0</td>\n",
       "      <td>0</td>\n",
       "      <td>0</td>\n",
       "      <td>0</td>\n",
       "      <td>0</td>\n",
       "      <td>0</td>\n",
       "      <td>0</td>\n",
       "      <td>0</td>\n",
       "      <td>0</td>\n",
       "      <td>0</td>\n",
       "      <td>0</td>\n",
       "      <td>0</td>\n",
       "      <td>0</td>\n",
       "      <td>0</td>\n",
       "      <td>0</td>\n",
       "      <td>0</td>\n",
       "      <td>0</td>\n",
       "      <td>0</td>\n",
       "      <td>0</td>\n",
       "      <td>0</td>\n",
       "      <td>0</td>\n",
       "      <td>0</td>\n",
       "      <td>0</td>\n",
       "      <td>0</td>\n",
       "      <td>0</td>\n",
       "      <td>0</td>\n",
       "      <td>0</td>\n",
       "      <td>0</td>\n",
       "      <td>0</td>\n",
       "      <td>0</td>\n",
       "      <td>0</td>\n",
       "      <td>0</td>\n",
       "      <td>0</td>\n",
       "      <td>1</td>\n",
       "      <td>0</td>\n",
       "      <td>0</td>\n",
       "      <td>2018</td>\n",
       "    </tr>\n",
       "  </tbody>\n",
       "</table>\n",
       "</div>"
      ],
      "text/plain": [
       "   Rating  Reviews  Size   Installs  Type  Price Last Updated  \\\n",
       "0     4.1      159  19.0    10000.0     0    0.0   2018-01-07   \n",
       "1     3.9      967  14.0   500000.0     0    0.0   2018-01-15   \n",
       "2     4.7    87510   8.7  5000000.0     0    0.0   2018-08-01   \n",
       "\n",
       "   up_Genres_action  up_Genres_adventure  up_Genres_arcade  \\\n",
       "0                 0                    0                 0   \n",
       "1                 0                    0                 0   \n",
       "2                 0                    0                 0   \n",
       "\n",
       "   up_Genres_art & design  up_Genres_auto & vehicles  up_Genres_beauty  \\\n",
       "0                       1                          0                 0   \n",
       "1                       1                          0                 0   \n",
       "2                       1                          0                 0   \n",
       "\n",
       "   up_Genres_board  up_Genres_books & reference  up_Genres_business  \\\n",
       "0                0                            0                   0   \n",
       "1                0                            0                   0   \n",
       "2                0                            0                   0   \n",
       "\n",
       "   up_Genres_card  up_Genres_casino  up_Genres_casual  up_Genres_comics  \\\n",
       "0               0                 0                 0                 0   \n",
       "1               0                 0                 0                 0   \n",
       "2               0                 0                 0                 0   \n",
       "\n",
       "   up_Genres_communication  up_Genres_dating  up_Genres_education  \\\n",
       "0                        0                 0                    0   \n",
       "1                        0                 0                    0   \n",
       "2                        0                 0                    0   \n",
       "\n",
       "   up_Genres_educational  up_Genres_entertainment  up_Genres_events  \\\n",
       "0                      0                        0                 0   \n",
       "1                      0                        0                 0   \n",
       "2                      0                        0                 0   \n",
       "\n",
       "   up_Genres_finance  up_Genres_food & drink  up_Genres_health & fitness  \\\n",
       "0                  0                       0                           0   \n",
       "1                  0                       0                           0   \n",
       "2                  0                       0                           0   \n",
       "\n",
       "   up_Genres_house & home  up_Genres_libraries & demo  up_Genres_lifestyle  \\\n",
       "0                       0                           0                    0   \n",
       "1                       0                           0                    0   \n",
       "2                       0                           0                    0   \n",
       "\n",
       "   up_Genres_maps & navigation  up_Genres_medical  up_Genres_music  \\\n",
       "0                            0                  0                0   \n",
       "1                            0                  0                0   \n",
       "2                            0                  0                0   \n",
       "\n",
       "   up_Genres_music & audio  up_Genres_news & magazines  up_Genres_parenting  \\\n",
       "0                        0                           0                    0   \n",
       "1                        0                           0                    0   \n",
       "2                        0                           0                    0   \n",
       "\n",
       "   up_Genres_personalization  up_Genres_photography  up_Genres_productivity  \\\n",
       "0                          0                      0                       0   \n",
       "1                          0                      0                       0   \n",
       "2                          0                      0                       0   \n",
       "\n",
       "   up_Genres_puzzle  up_Genres_racing  up_Genres_role playing  \\\n",
       "0                 0                 0                       0   \n",
       "1                 0                 0                       0   \n",
       "2                 0                 0                       0   \n",
       "\n",
       "   up_Genres_shopping  up_Genres_simulation  up_Genres_social  \\\n",
       "0                   0                     0                 0   \n",
       "1                   0                     0                 0   \n",
       "2                   0                     0                 0   \n",
       "\n",
       "   up_Genres_sports  up_Genres_strategy  up_Genres_tools  \\\n",
       "0                 0                   0                0   \n",
       "1                 0                   0                0   \n",
       "2                 0                   0                0   \n",
       "\n",
       "   up_Genres_travel & local  up_Genres_trivia  \\\n",
       "0                         0                 0   \n",
       "1                         0                 0   \n",
       "2                         0                 0   \n",
       "\n",
       "   up_Genres_video players & editors  up_Genres_weather  up_Genres_word  \\\n",
       "0                                  0                  0               0   \n",
       "1                                  0                  0               0   \n",
       "2                                  0                  0               0   \n",
       "\n",
       "   New_content_rating_A  New_content_rating_B  New_content_rating_C  \\\n",
       "0                     1                     0                     0   \n",
       "1                     1                     0                     0   \n",
       "2                     1                     0                     0   \n",
       "\n",
       "   update_year  \n",
       "0         2018  \n",
       "1         2018  \n",
       "2         2018  "
      ]
     },
     "execution_count": 155,
     "metadata": {},
     "output_type": "execute_result"
    }
   ],
   "source": [
    "train.head(3)"
   ]
  },
  {
   "cell_type": "code",
   "execution_count": null,
   "metadata": {},
   "outputs": [],
   "source": [
    "train.drop('Last Updated', axis=1, inplace=True)"
   ]
  },
  {
   "cell_type": "code",
   "execution_count": 158,
   "metadata": {},
   "outputs": [],
   "source": [
    "train = pd.get_dummies(train, columns=['update_year'])"
   ]
  },
  {
   "cell_type": "code",
   "execution_count": 160,
   "metadata": {},
   "outputs": [
    {
     "data": {
      "text/html": [
       "<div>\n",
       "<style scoped>\n",
       "    .dataframe tbody tr th:only-of-type {\n",
       "        vertical-align: middle;\n",
       "    }\n",
       "\n",
       "    .dataframe tbody tr th {\n",
       "        vertical-align: top;\n",
       "    }\n",
       "\n",
       "    .dataframe thead th {\n",
       "        text-align: right;\n",
       "    }\n",
       "</style>\n",
       "<table border=\"1\" class=\"dataframe\">\n",
       "  <thead>\n",
       "    <tr style=\"text-align: right;\">\n",
       "      <th></th>\n",
       "      <th>Rating</th>\n",
       "      <th>Reviews</th>\n",
       "      <th>Size</th>\n",
       "      <th>Installs</th>\n",
       "      <th>Type</th>\n",
       "      <th>Price</th>\n",
       "      <th>up_Genres_action</th>\n",
       "      <th>up_Genres_adventure</th>\n",
       "      <th>up_Genres_arcade</th>\n",
       "      <th>up_Genres_art &amp; design</th>\n",
       "      <th>up_Genres_auto &amp; vehicles</th>\n",
       "      <th>up_Genres_beauty</th>\n",
       "      <th>up_Genres_board</th>\n",
       "      <th>up_Genres_books &amp; reference</th>\n",
       "      <th>up_Genres_business</th>\n",
       "      <th>up_Genres_card</th>\n",
       "      <th>up_Genres_casino</th>\n",
       "      <th>up_Genres_casual</th>\n",
       "      <th>up_Genres_comics</th>\n",
       "      <th>up_Genres_communication</th>\n",
       "      <th>up_Genres_dating</th>\n",
       "      <th>up_Genres_education</th>\n",
       "      <th>up_Genres_educational</th>\n",
       "      <th>up_Genres_entertainment</th>\n",
       "      <th>up_Genres_events</th>\n",
       "      <th>up_Genres_finance</th>\n",
       "      <th>up_Genres_food &amp; drink</th>\n",
       "      <th>up_Genres_health &amp; fitness</th>\n",
       "      <th>up_Genres_house &amp; home</th>\n",
       "      <th>up_Genres_libraries &amp; demo</th>\n",
       "      <th>up_Genres_lifestyle</th>\n",
       "      <th>up_Genres_maps &amp; navigation</th>\n",
       "      <th>up_Genres_medical</th>\n",
       "      <th>up_Genres_music</th>\n",
       "      <th>up_Genres_music &amp; audio</th>\n",
       "      <th>up_Genres_news &amp; magazines</th>\n",
       "      <th>up_Genres_parenting</th>\n",
       "      <th>up_Genres_personalization</th>\n",
       "      <th>up_Genres_photography</th>\n",
       "      <th>up_Genres_productivity</th>\n",
       "      <th>up_Genres_puzzle</th>\n",
       "      <th>up_Genres_racing</th>\n",
       "      <th>up_Genres_role playing</th>\n",
       "      <th>up_Genres_shopping</th>\n",
       "      <th>up_Genres_simulation</th>\n",
       "      <th>up_Genres_social</th>\n",
       "      <th>up_Genres_sports</th>\n",
       "      <th>up_Genres_strategy</th>\n",
       "      <th>up_Genres_tools</th>\n",
       "      <th>up_Genres_travel &amp; local</th>\n",
       "      <th>up_Genres_trivia</th>\n",
       "      <th>up_Genres_video players &amp; editors</th>\n",
       "      <th>up_Genres_weather</th>\n",
       "      <th>up_Genres_word</th>\n",
       "      <th>New_content_rating_A</th>\n",
       "      <th>New_content_rating_B</th>\n",
       "      <th>New_content_rating_C</th>\n",
       "      <th>update_year_2010</th>\n",
       "      <th>update_year_2011</th>\n",
       "      <th>update_year_2012</th>\n",
       "      <th>update_year_2013</th>\n",
       "      <th>update_year_2014</th>\n",
       "      <th>update_year_2015</th>\n",
       "      <th>update_year_2016</th>\n",
       "      <th>update_year_2017</th>\n",
       "      <th>update_year_2018</th>\n",
       "    </tr>\n",
       "  </thead>\n",
       "  <tbody>\n",
       "    <tr>\n",
       "      <th>0</th>\n",
       "      <td>4.1</td>\n",
       "      <td>159</td>\n",
       "      <td>19.0</td>\n",
       "      <td>10000.0</td>\n",
       "      <td>0</td>\n",
       "      <td>0.0</td>\n",
       "      <td>0</td>\n",
       "      <td>0</td>\n",
       "      <td>0</td>\n",
       "      <td>1</td>\n",
       "      <td>0</td>\n",
       "      <td>0</td>\n",
       "      <td>0</td>\n",
       "      <td>0</td>\n",
       "      <td>0</td>\n",
       "      <td>0</td>\n",
       "      <td>0</td>\n",
       "      <td>0</td>\n",
       "      <td>0</td>\n",
       "      <td>0</td>\n",
       "      <td>0</td>\n",
       "      <td>0</td>\n",
       "      <td>0</td>\n",
       "      <td>0</td>\n",
       "      <td>0</td>\n",
       "      <td>0</td>\n",
       "      <td>0</td>\n",
       "      <td>0</td>\n",
       "      <td>0</td>\n",
       "      <td>0</td>\n",
       "      <td>0</td>\n",
       "      <td>0</td>\n",
       "      <td>0</td>\n",
       "      <td>0</td>\n",
       "      <td>0</td>\n",
       "      <td>0</td>\n",
       "      <td>0</td>\n",
       "      <td>0</td>\n",
       "      <td>0</td>\n",
       "      <td>0</td>\n",
       "      <td>0</td>\n",
       "      <td>0</td>\n",
       "      <td>0</td>\n",
       "      <td>0</td>\n",
       "      <td>0</td>\n",
       "      <td>0</td>\n",
       "      <td>0</td>\n",
       "      <td>0</td>\n",
       "      <td>0</td>\n",
       "      <td>0</td>\n",
       "      <td>0</td>\n",
       "      <td>0</td>\n",
       "      <td>0</td>\n",
       "      <td>0</td>\n",
       "      <td>1</td>\n",
       "      <td>0</td>\n",
       "      <td>0</td>\n",
       "      <td>0</td>\n",
       "      <td>0</td>\n",
       "      <td>0</td>\n",
       "      <td>0</td>\n",
       "      <td>0</td>\n",
       "      <td>0</td>\n",
       "      <td>0</td>\n",
       "      <td>0</td>\n",
       "      <td>1</td>\n",
       "    </tr>\n",
       "    <tr>\n",
       "      <th>1</th>\n",
       "      <td>3.9</td>\n",
       "      <td>967</td>\n",
       "      <td>14.0</td>\n",
       "      <td>500000.0</td>\n",
       "      <td>0</td>\n",
       "      <td>0.0</td>\n",
       "      <td>0</td>\n",
       "      <td>0</td>\n",
       "      <td>0</td>\n",
       "      <td>1</td>\n",
       "      <td>0</td>\n",
       "      <td>0</td>\n",
       "      <td>0</td>\n",
       "      <td>0</td>\n",
       "      <td>0</td>\n",
       "      <td>0</td>\n",
       "      <td>0</td>\n",
       "      <td>0</td>\n",
       "      <td>0</td>\n",
       "      <td>0</td>\n",
       "      <td>0</td>\n",
       "      <td>0</td>\n",
       "      <td>0</td>\n",
       "      <td>0</td>\n",
       "      <td>0</td>\n",
       "      <td>0</td>\n",
       "      <td>0</td>\n",
       "      <td>0</td>\n",
       "      <td>0</td>\n",
       "      <td>0</td>\n",
       "      <td>0</td>\n",
       "      <td>0</td>\n",
       "      <td>0</td>\n",
       "      <td>0</td>\n",
       "      <td>0</td>\n",
       "      <td>0</td>\n",
       "      <td>0</td>\n",
       "      <td>0</td>\n",
       "      <td>0</td>\n",
       "      <td>0</td>\n",
       "      <td>0</td>\n",
       "      <td>0</td>\n",
       "      <td>0</td>\n",
       "      <td>0</td>\n",
       "      <td>0</td>\n",
       "      <td>0</td>\n",
       "      <td>0</td>\n",
       "      <td>0</td>\n",
       "      <td>0</td>\n",
       "      <td>0</td>\n",
       "      <td>0</td>\n",
       "      <td>0</td>\n",
       "      <td>0</td>\n",
       "      <td>0</td>\n",
       "      <td>1</td>\n",
       "      <td>0</td>\n",
       "      <td>0</td>\n",
       "      <td>0</td>\n",
       "      <td>0</td>\n",
       "      <td>0</td>\n",
       "      <td>0</td>\n",
       "      <td>0</td>\n",
       "      <td>0</td>\n",
       "      <td>0</td>\n",
       "      <td>0</td>\n",
       "      <td>1</td>\n",
       "    </tr>\n",
       "    <tr>\n",
       "      <th>2</th>\n",
       "      <td>4.7</td>\n",
       "      <td>87510</td>\n",
       "      <td>8.7</td>\n",
       "      <td>5000000.0</td>\n",
       "      <td>0</td>\n",
       "      <td>0.0</td>\n",
       "      <td>0</td>\n",
       "      <td>0</td>\n",
       "      <td>0</td>\n",
       "      <td>1</td>\n",
       "      <td>0</td>\n",
       "      <td>0</td>\n",
       "      <td>0</td>\n",
       "      <td>0</td>\n",
       "      <td>0</td>\n",
       "      <td>0</td>\n",
       "      <td>0</td>\n",
       "      <td>0</td>\n",
       "      <td>0</td>\n",
       "      <td>0</td>\n",
       "      <td>0</td>\n",
       "      <td>0</td>\n",
       "      <td>0</td>\n",
       "      <td>0</td>\n",
       "      <td>0</td>\n",
       "      <td>0</td>\n",
       "      <td>0</td>\n",
       "      <td>0</td>\n",
       "      <td>0</td>\n",
       "      <td>0</td>\n",
       "      <td>0</td>\n",
       "      <td>0</td>\n",
       "      <td>0</td>\n",
       "      <td>0</td>\n",
       "      <td>0</td>\n",
       "      <td>0</td>\n",
       "      <td>0</td>\n",
       "      <td>0</td>\n",
       "      <td>0</td>\n",
       "      <td>0</td>\n",
       "      <td>0</td>\n",
       "      <td>0</td>\n",
       "      <td>0</td>\n",
       "      <td>0</td>\n",
       "      <td>0</td>\n",
       "      <td>0</td>\n",
       "      <td>0</td>\n",
       "      <td>0</td>\n",
       "      <td>0</td>\n",
       "      <td>0</td>\n",
       "      <td>0</td>\n",
       "      <td>0</td>\n",
       "      <td>0</td>\n",
       "      <td>0</td>\n",
       "      <td>1</td>\n",
       "      <td>0</td>\n",
       "      <td>0</td>\n",
       "      <td>0</td>\n",
       "      <td>0</td>\n",
       "      <td>0</td>\n",
       "      <td>0</td>\n",
       "      <td>0</td>\n",
       "      <td>0</td>\n",
       "      <td>0</td>\n",
       "      <td>0</td>\n",
       "      <td>1</td>\n",
       "    </tr>\n",
       "  </tbody>\n",
       "</table>\n",
       "</div>"
      ],
      "text/plain": [
       "   Rating  Reviews  Size   Installs  Type  Price  up_Genres_action  \\\n",
       "0     4.1      159  19.0    10000.0     0    0.0                 0   \n",
       "1     3.9      967  14.0   500000.0     0    0.0                 0   \n",
       "2     4.7    87510   8.7  5000000.0     0    0.0                 0   \n",
       "\n",
       "   up_Genres_adventure  up_Genres_arcade  up_Genres_art & design  \\\n",
       "0                    0                 0                       1   \n",
       "1                    0                 0                       1   \n",
       "2                    0                 0                       1   \n",
       "\n",
       "   up_Genres_auto & vehicles  up_Genres_beauty  up_Genres_board  \\\n",
       "0                          0                 0                0   \n",
       "1                          0                 0                0   \n",
       "2                          0                 0                0   \n",
       "\n",
       "   up_Genres_books & reference  up_Genres_business  up_Genres_card  \\\n",
       "0                            0                   0               0   \n",
       "1                            0                   0               0   \n",
       "2                            0                   0               0   \n",
       "\n",
       "   up_Genres_casino  up_Genres_casual  up_Genres_comics  \\\n",
       "0                 0                 0                 0   \n",
       "1                 0                 0                 0   \n",
       "2                 0                 0                 0   \n",
       "\n",
       "   up_Genres_communication  up_Genres_dating  up_Genres_education  \\\n",
       "0                        0                 0                    0   \n",
       "1                        0                 0                    0   \n",
       "2                        0                 0                    0   \n",
       "\n",
       "   up_Genres_educational  up_Genres_entertainment  up_Genres_events  \\\n",
       "0                      0                        0                 0   \n",
       "1                      0                        0                 0   \n",
       "2                      0                        0                 0   \n",
       "\n",
       "   up_Genres_finance  up_Genres_food & drink  up_Genres_health & fitness  \\\n",
       "0                  0                       0                           0   \n",
       "1                  0                       0                           0   \n",
       "2                  0                       0                           0   \n",
       "\n",
       "   up_Genres_house & home  up_Genres_libraries & demo  up_Genres_lifestyle  \\\n",
       "0                       0                           0                    0   \n",
       "1                       0                           0                    0   \n",
       "2                       0                           0                    0   \n",
       "\n",
       "   up_Genres_maps & navigation  up_Genres_medical  up_Genres_music  \\\n",
       "0                            0                  0                0   \n",
       "1                            0                  0                0   \n",
       "2                            0                  0                0   \n",
       "\n",
       "   up_Genres_music & audio  up_Genres_news & magazines  up_Genres_parenting  \\\n",
       "0                        0                           0                    0   \n",
       "1                        0                           0                    0   \n",
       "2                        0                           0                    0   \n",
       "\n",
       "   up_Genres_personalization  up_Genres_photography  up_Genres_productivity  \\\n",
       "0                          0                      0                       0   \n",
       "1                          0                      0                       0   \n",
       "2                          0                      0                       0   \n",
       "\n",
       "   up_Genres_puzzle  up_Genres_racing  up_Genres_role playing  \\\n",
       "0                 0                 0                       0   \n",
       "1                 0                 0                       0   \n",
       "2                 0                 0                       0   \n",
       "\n",
       "   up_Genres_shopping  up_Genres_simulation  up_Genres_social  \\\n",
       "0                   0                     0                 0   \n",
       "1                   0                     0                 0   \n",
       "2                   0                     0                 0   \n",
       "\n",
       "   up_Genres_sports  up_Genres_strategy  up_Genres_tools  \\\n",
       "0                 0                   0                0   \n",
       "1                 0                   0                0   \n",
       "2                 0                   0                0   \n",
       "\n",
       "   up_Genres_travel & local  up_Genres_trivia  \\\n",
       "0                         0                 0   \n",
       "1                         0                 0   \n",
       "2                         0                 0   \n",
       "\n",
       "   up_Genres_video players & editors  up_Genres_weather  up_Genres_word  \\\n",
       "0                                  0                  0               0   \n",
       "1                                  0                  0               0   \n",
       "2                                  0                  0               0   \n",
       "\n",
       "   New_content_rating_A  New_content_rating_B  New_content_rating_C  \\\n",
       "0                     1                     0                     0   \n",
       "1                     1                     0                     0   \n",
       "2                     1                     0                     0   \n",
       "\n",
       "   update_year_2010  update_year_2011  update_year_2012  update_year_2013  \\\n",
       "0                 0                 0                 0                 0   \n",
       "1                 0                 0                 0                 0   \n",
       "2                 0                 0                 0                 0   \n",
       "\n",
       "   update_year_2014  update_year_2015  update_year_2016  update_year_2017  \\\n",
       "0                 0                 0                 0                 0   \n",
       "1                 0                 0                 0                 0   \n",
       "2                 0                 0                 0                 0   \n",
       "\n",
       "   update_year_2018  \n",
       "0                 1  \n",
       "1                 1  \n",
       "2                 1  "
      ]
     },
     "execution_count": 160,
     "metadata": {},
     "output_type": "execute_result"
    }
   ],
   "source": [
    "train.head(3)"
   ]
  },
  {
   "cell_type": "code",
   "execution_count": 176,
   "metadata": {},
   "outputs": [],
   "source": [
    "train = pd.get_dummies(train, columns=['Type'])"
   ]
  },
  {
   "cell_type": "code",
   "execution_count": 177,
   "metadata": {},
   "outputs": [],
   "source": [
    "train.to_csv('all_completed.csv', index=False)"
   ]
  },
  {
   "cell_type": "code",
   "execution_count": 179,
   "metadata": {},
   "outputs": [
    {
     "data": {
      "text/html": [
       "<div>\n",
       "<style scoped>\n",
       "    .dataframe tbody tr th:only-of-type {\n",
       "        vertical-align: middle;\n",
       "    }\n",
       "\n",
       "    .dataframe tbody tr th {\n",
       "        vertical-align: top;\n",
       "    }\n",
       "\n",
       "    .dataframe thead th {\n",
       "        text-align: right;\n",
       "    }\n",
       "</style>\n",
       "<table border=\"1\" class=\"dataframe\">\n",
       "  <thead>\n",
       "    <tr style=\"text-align: right;\">\n",
       "      <th></th>\n",
       "      <th>Rating</th>\n",
       "      <th>Reviews</th>\n",
       "      <th>Size</th>\n",
       "      <th>Installs</th>\n",
       "      <th>Price</th>\n",
       "      <th>up_Genres_action</th>\n",
       "      <th>up_Genres_adventure</th>\n",
       "      <th>up_Genres_arcade</th>\n",
       "      <th>up_Genres_art &amp; design</th>\n",
       "      <th>up_Genres_auto &amp; vehicles</th>\n",
       "      <th>up_Genres_beauty</th>\n",
       "      <th>up_Genres_board</th>\n",
       "      <th>up_Genres_books &amp; reference</th>\n",
       "      <th>up_Genres_business</th>\n",
       "      <th>up_Genres_card</th>\n",
       "      <th>up_Genres_casino</th>\n",
       "      <th>up_Genres_casual</th>\n",
       "      <th>up_Genres_comics</th>\n",
       "      <th>up_Genres_communication</th>\n",
       "      <th>up_Genres_dating</th>\n",
       "      <th>up_Genres_education</th>\n",
       "      <th>up_Genres_educational</th>\n",
       "      <th>up_Genres_entertainment</th>\n",
       "      <th>up_Genres_events</th>\n",
       "      <th>up_Genres_finance</th>\n",
       "      <th>up_Genres_food &amp; drink</th>\n",
       "      <th>up_Genres_health &amp; fitness</th>\n",
       "      <th>up_Genres_house &amp; home</th>\n",
       "      <th>up_Genres_libraries &amp; demo</th>\n",
       "      <th>up_Genres_lifestyle</th>\n",
       "      <th>up_Genres_maps &amp; navigation</th>\n",
       "      <th>up_Genres_medical</th>\n",
       "      <th>up_Genres_music</th>\n",
       "      <th>up_Genres_music &amp; audio</th>\n",
       "      <th>up_Genres_news &amp; magazines</th>\n",
       "      <th>up_Genres_parenting</th>\n",
       "      <th>up_Genres_personalization</th>\n",
       "      <th>up_Genres_photography</th>\n",
       "      <th>up_Genres_productivity</th>\n",
       "      <th>up_Genres_puzzle</th>\n",
       "      <th>up_Genres_racing</th>\n",
       "      <th>up_Genres_role playing</th>\n",
       "      <th>up_Genres_shopping</th>\n",
       "      <th>up_Genres_simulation</th>\n",
       "      <th>up_Genres_social</th>\n",
       "      <th>up_Genres_sports</th>\n",
       "      <th>up_Genres_strategy</th>\n",
       "      <th>up_Genres_tools</th>\n",
       "      <th>up_Genres_travel &amp; local</th>\n",
       "      <th>up_Genres_trivia</th>\n",
       "      <th>up_Genres_video players &amp; editors</th>\n",
       "      <th>up_Genres_weather</th>\n",
       "      <th>up_Genres_word</th>\n",
       "      <th>New_content_rating_A</th>\n",
       "      <th>New_content_rating_B</th>\n",
       "      <th>New_content_rating_C</th>\n",
       "      <th>update_year_2010</th>\n",
       "      <th>update_year_2011</th>\n",
       "      <th>update_year_2012</th>\n",
       "      <th>update_year_2013</th>\n",
       "      <th>update_year_2014</th>\n",
       "      <th>update_year_2015</th>\n",
       "      <th>update_year_2016</th>\n",
       "      <th>update_year_2017</th>\n",
       "      <th>update_year_2018</th>\n",
       "      <th>Type_0</th>\n",
       "      <th>Type_1</th>\n",
       "    </tr>\n",
       "  </thead>\n",
       "  <tbody>\n",
       "    <tr>\n",
       "      <th>0</th>\n",
       "      <td>4.1</td>\n",
       "      <td>159</td>\n",
       "      <td>19.0</td>\n",
       "      <td>10000.0</td>\n",
       "      <td>0.0</td>\n",
       "      <td>0</td>\n",
       "      <td>0</td>\n",
       "      <td>0</td>\n",
       "      <td>1</td>\n",
       "      <td>0</td>\n",
       "      <td>0</td>\n",
       "      <td>0</td>\n",
       "      <td>0</td>\n",
       "      <td>0</td>\n",
       "      <td>0</td>\n",
       "      <td>0</td>\n",
       "      <td>0</td>\n",
       "      <td>0</td>\n",
       "      <td>0</td>\n",
       "      <td>0</td>\n",
       "      <td>0</td>\n",
       "      <td>0</td>\n",
       "      <td>0</td>\n",
       "      <td>0</td>\n",
       "      <td>0</td>\n",
       "      <td>0</td>\n",
       "      <td>0</td>\n",
       "      <td>0</td>\n",
       "      <td>0</td>\n",
       "      <td>0</td>\n",
       "      <td>0</td>\n",
       "      <td>0</td>\n",
       "      <td>0</td>\n",
       "      <td>0</td>\n",
       "      <td>0</td>\n",
       "      <td>0</td>\n",
       "      <td>0</td>\n",
       "      <td>0</td>\n",
       "      <td>0</td>\n",
       "      <td>0</td>\n",
       "      <td>0</td>\n",
       "      <td>0</td>\n",
       "      <td>0</td>\n",
       "      <td>0</td>\n",
       "      <td>0</td>\n",
       "      <td>0</td>\n",
       "      <td>0</td>\n",
       "      <td>0</td>\n",
       "      <td>0</td>\n",
       "      <td>0</td>\n",
       "      <td>0</td>\n",
       "      <td>0</td>\n",
       "      <td>0</td>\n",
       "      <td>1</td>\n",
       "      <td>0</td>\n",
       "      <td>0</td>\n",
       "      <td>0</td>\n",
       "      <td>0</td>\n",
       "      <td>0</td>\n",
       "      <td>0</td>\n",
       "      <td>0</td>\n",
       "      <td>0</td>\n",
       "      <td>0</td>\n",
       "      <td>0</td>\n",
       "      <td>1</td>\n",
       "      <td>1</td>\n",
       "      <td>0</td>\n",
       "    </tr>\n",
       "    <tr>\n",
       "      <th>1</th>\n",
       "      <td>3.9</td>\n",
       "      <td>967</td>\n",
       "      <td>14.0</td>\n",
       "      <td>500000.0</td>\n",
       "      <td>0.0</td>\n",
       "      <td>0</td>\n",
       "      <td>0</td>\n",
       "      <td>0</td>\n",
       "      <td>1</td>\n",
       "      <td>0</td>\n",
       "      <td>0</td>\n",
       "      <td>0</td>\n",
       "      <td>0</td>\n",
       "      <td>0</td>\n",
       "      <td>0</td>\n",
       "      <td>0</td>\n",
       "      <td>0</td>\n",
       "      <td>0</td>\n",
       "      <td>0</td>\n",
       "      <td>0</td>\n",
       "      <td>0</td>\n",
       "      <td>0</td>\n",
       "      <td>0</td>\n",
       "      <td>0</td>\n",
       "      <td>0</td>\n",
       "      <td>0</td>\n",
       "      <td>0</td>\n",
       "      <td>0</td>\n",
       "      <td>0</td>\n",
       "      <td>0</td>\n",
       "      <td>0</td>\n",
       "      <td>0</td>\n",
       "      <td>0</td>\n",
       "      <td>0</td>\n",
       "      <td>0</td>\n",
       "      <td>0</td>\n",
       "      <td>0</td>\n",
       "      <td>0</td>\n",
       "      <td>0</td>\n",
       "      <td>0</td>\n",
       "      <td>0</td>\n",
       "      <td>0</td>\n",
       "      <td>0</td>\n",
       "      <td>0</td>\n",
       "      <td>0</td>\n",
       "      <td>0</td>\n",
       "      <td>0</td>\n",
       "      <td>0</td>\n",
       "      <td>0</td>\n",
       "      <td>0</td>\n",
       "      <td>0</td>\n",
       "      <td>0</td>\n",
       "      <td>0</td>\n",
       "      <td>1</td>\n",
       "      <td>0</td>\n",
       "      <td>0</td>\n",
       "      <td>0</td>\n",
       "      <td>0</td>\n",
       "      <td>0</td>\n",
       "      <td>0</td>\n",
       "      <td>0</td>\n",
       "      <td>0</td>\n",
       "      <td>0</td>\n",
       "      <td>0</td>\n",
       "      <td>1</td>\n",
       "      <td>1</td>\n",
       "      <td>0</td>\n",
       "    </tr>\n",
       "    <tr>\n",
       "      <th>2</th>\n",
       "      <td>4.7</td>\n",
       "      <td>87510</td>\n",
       "      <td>8.7</td>\n",
       "      <td>5000000.0</td>\n",
       "      <td>0.0</td>\n",
       "      <td>0</td>\n",
       "      <td>0</td>\n",
       "      <td>0</td>\n",
       "      <td>1</td>\n",
       "      <td>0</td>\n",
       "      <td>0</td>\n",
       "      <td>0</td>\n",
       "      <td>0</td>\n",
       "      <td>0</td>\n",
       "      <td>0</td>\n",
       "      <td>0</td>\n",
       "      <td>0</td>\n",
       "      <td>0</td>\n",
       "      <td>0</td>\n",
       "      <td>0</td>\n",
       "      <td>0</td>\n",
       "      <td>0</td>\n",
       "      <td>0</td>\n",
       "      <td>0</td>\n",
       "      <td>0</td>\n",
       "      <td>0</td>\n",
       "      <td>0</td>\n",
       "      <td>0</td>\n",
       "      <td>0</td>\n",
       "      <td>0</td>\n",
       "      <td>0</td>\n",
       "      <td>0</td>\n",
       "      <td>0</td>\n",
       "      <td>0</td>\n",
       "      <td>0</td>\n",
       "      <td>0</td>\n",
       "      <td>0</td>\n",
       "      <td>0</td>\n",
       "      <td>0</td>\n",
       "      <td>0</td>\n",
       "      <td>0</td>\n",
       "      <td>0</td>\n",
       "      <td>0</td>\n",
       "      <td>0</td>\n",
       "      <td>0</td>\n",
       "      <td>0</td>\n",
       "      <td>0</td>\n",
       "      <td>0</td>\n",
       "      <td>0</td>\n",
       "      <td>0</td>\n",
       "      <td>0</td>\n",
       "      <td>0</td>\n",
       "      <td>0</td>\n",
       "      <td>1</td>\n",
       "      <td>0</td>\n",
       "      <td>0</td>\n",
       "      <td>0</td>\n",
       "      <td>0</td>\n",
       "      <td>0</td>\n",
       "      <td>0</td>\n",
       "      <td>0</td>\n",
       "      <td>0</td>\n",
       "      <td>0</td>\n",
       "      <td>0</td>\n",
       "      <td>1</td>\n",
       "      <td>1</td>\n",
       "      <td>0</td>\n",
       "    </tr>\n",
       "  </tbody>\n",
       "</table>\n",
       "</div>"
      ],
      "text/plain": [
       "   Rating  Reviews  Size   Installs  Price  up_Genres_action  \\\n",
       "0     4.1      159  19.0    10000.0    0.0                 0   \n",
       "1     3.9      967  14.0   500000.0    0.0                 0   \n",
       "2     4.7    87510   8.7  5000000.0    0.0                 0   \n",
       "\n",
       "   up_Genres_adventure  up_Genres_arcade  up_Genres_art & design  \\\n",
       "0                    0                 0                       1   \n",
       "1                    0                 0                       1   \n",
       "2                    0                 0                       1   \n",
       "\n",
       "   up_Genres_auto & vehicles  up_Genres_beauty  up_Genres_board  \\\n",
       "0                          0                 0                0   \n",
       "1                          0                 0                0   \n",
       "2                          0                 0                0   \n",
       "\n",
       "   up_Genres_books & reference  up_Genres_business  up_Genres_card  \\\n",
       "0                            0                   0               0   \n",
       "1                            0                   0               0   \n",
       "2                            0                   0               0   \n",
       "\n",
       "   up_Genres_casino  up_Genres_casual  up_Genres_comics  \\\n",
       "0                 0                 0                 0   \n",
       "1                 0                 0                 0   \n",
       "2                 0                 0                 0   \n",
       "\n",
       "   up_Genres_communication  up_Genres_dating  up_Genres_education  \\\n",
       "0                        0                 0                    0   \n",
       "1                        0                 0                    0   \n",
       "2                        0                 0                    0   \n",
       "\n",
       "   up_Genres_educational  up_Genres_entertainment  up_Genres_events  \\\n",
       "0                      0                        0                 0   \n",
       "1                      0                        0                 0   \n",
       "2                      0                        0                 0   \n",
       "\n",
       "   up_Genres_finance  up_Genres_food & drink  up_Genres_health & fitness  \\\n",
       "0                  0                       0                           0   \n",
       "1                  0                       0                           0   \n",
       "2                  0                       0                           0   \n",
       "\n",
       "   up_Genres_house & home  up_Genres_libraries & demo  up_Genres_lifestyle  \\\n",
       "0                       0                           0                    0   \n",
       "1                       0                           0                    0   \n",
       "2                       0                           0                    0   \n",
       "\n",
       "   up_Genres_maps & navigation  up_Genres_medical  up_Genres_music  \\\n",
       "0                            0                  0                0   \n",
       "1                            0                  0                0   \n",
       "2                            0                  0                0   \n",
       "\n",
       "   up_Genres_music & audio  up_Genres_news & magazines  up_Genres_parenting  \\\n",
       "0                        0                           0                    0   \n",
       "1                        0                           0                    0   \n",
       "2                        0                           0                    0   \n",
       "\n",
       "   up_Genres_personalization  up_Genres_photography  up_Genres_productivity  \\\n",
       "0                          0                      0                       0   \n",
       "1                          0                      0                       0   \n",
       "2                          0                      0                       0   \n",
       "\n",
       "   up_Genres_puzzle  up_Genres_racing  up_Genres_role playing  \\\n",
       "0                 0                 0                       0   \n",
       "1                 0                 0                       0   \n",
       "2                 0                 0                       0   \n",
       "\n",
       "   up_Genres_shopping  up_Genres_simulation  up_Genres_social  \\\n",
       "0                   0                     0                 0   \n",
       "1                   0                     0                 0   \n",
       "2                   0                     0                 0   \n",
       "\n",
       "   up_Genres_sports  up_Genres_strategy  up_Genres_tools  \\\n",
       "0                 0                   0                0   \n",
       "1                 0                   0                0   \n",
       "2                 0                   0                0   \n",
       "\n",
       "   up_Genres_travel & local  up_Genres_trivia  \\\n",
       "0                         0                 0   \n",
       "1                         0                 0   \n",
       "2                         0                 0   \n",
       "\n",
       "   up_Genres_video players & editors  up_Genres_weather  up_Genres_word  \\\n",
       "0                                  0                  0               0   \n",
       "1                                  0                  0               0   \n",
       "2                                  0                  0               0   \n",
       "\n",
       "   New_content_rating_A  New_content_rating_B  New_content_rating_C  \\\n",
       "0                     1                     0                     0   \n",
       "1                     1                     0                     0   \n",
       "2                     1                     0                     0   \n",
       "\n",
       "   update_year_2010  update_year_2011  update_year_2012  update_year_2013  \\\n",
       "0                 0                 0                 0                 0   \n",
       "1                 0                 0                 0                 0   \n",
       "2                 0                 0                 0                 0   \n",
       "\n",
       "   update_year_2014  update_year_2015  update_year_2016  update_year_2017  \\\n",
       "0                 0                 0                 0                 0   \n",
       "1                 0                 0                 0                 0   \n",
       "2                 0                 0                 0                 0   \n",
       "\n",
       "   update_year_2018  Type_0  Type_1  \n",
       "0                 1       1       0  \n",
       "1                 1       1       0  \n",
       "2                 1       1       0  "
      ]
     },
     "execution_count": 179,
     "metadata": {},
     "output_type": "execute_result"
    }
   ],
   "source": [
    "train.head(3)"
   ]
  },
  {
   "cell_type": "markdown",
   "metadata": {},
   "source": [
    "train 데이터는 전처리가 완료되었으니 저장해두겠습니다"
   ]
  },
  {
   "cell_type": "markdown",
   "metadata": {},
   "source": [
    "#### test 데이터도 1. genre의 상위 장르 추출, 2. content rating 3단계로 재분류 3. Last Updated의 year추출 후 더미변수화를 진행하겠습니다."
   ]
  },
  {
   "cell_type": "code",
   "execution_count": 206,
   "metadata": {},
   "outputs": [],
   "source": [
    "test.drop(['Id','App','Category'], axis=1, inplace=True)"
   ]
  },
  {
   "cell_type": "code",
   "execution_count": 207,
   "metadata": {},
   "outputs": [
    {
     "data": {
      "text/html": [
       "<div>\n",
       "<style scoped>\n",
       "    .dataframe tbody tr th:only-of-type {\n",
       "        vertical-align: middle;\n",
       "    }\n",
       "\n",
       "    .dataframe tbody tr th {\n",
       "        vertical-align: top;\n",
       "    }\n",
       "\n",
       "    .dataframe thead th {\n",
       "        text-align: right;\n",
       "    }\n",
       "</style>\n",
       "<table border=\"1\" class=\"dataframe\">\n",
       "  <thead>\n",
       "    <tr style=\"text-align: right;\">\n",
       "      <th></th>\n",
       "      <th>Reviews</th>\n",
       "      <th>Size</th>\n",
       "      <th>Installs</th>\n",
       "      <th>Type</th>\n",
       "      <th>Price</th>\n",
       "      <th>Content Rating</th>\n",
       "      <th>Genres</th>\n",
       "      <th>Last Updated</th>\n",
       "    </tr>\n",
       "  </thead>\n",
       "  <tbody>\n",
       "    <tr>\n",
       "      <th>0</th>\n",
       "      <td>1205</td>\n",
       "      <td>4.3</td>\n",
       "      <td>100000.0</td>\n",
       "      <td>0</td>\n",
       "      <td>0.0</td>\n",
       "      <td>Everyone</td>\n",
       "      <td>Productivity</td>\n",
       "      <td>2018-06-10</td>\n",
       "    </tr>\n",
       "    <tr>\n",
       "      <th>1</th>\n",
       "      <td>267</td>\n",
       "      <td>1.5</td>\n",
       "      <td>10000.0</td>\n",
       "      <td>0</td>\n",
       "      <td>0.0</td>\n",
       "      <td>Everyone</td>\n",
       "      <td>Entertainment</td>\n",
       "      <td>2017-03-08</td>\n",
       "    </tr>\n",
       "  </tbody>\n",
       "</table>\n",
       "</div>"
      ],
      "text/plain": [
       "   Reviews  Size  Installs  Type  Price Content Rating         Genres  \\\n",
       "0     1205   4.3  100000.0     0    0.0       Everyone   Productivity   \n",
       "1      267   1.5   10000.0     0    0.0       Everyone  Entertainment   \n",
       "\n",
       "  Last Updated  \n",
       "0   2018-06-10  \n",
       "1   2017-03-08  "
      ]
     },
     "execution_count": 207,
     "metadata": {},
     "output_type": "execute_result"
    }
   ],
   "source": [
    "test.head(2)"
   ]
  },
  {
   "cell_type": "code",
   "execution_count": 208,
   "metadata": {},
   "outputs": [],
   "source": [
    "#  1. genre의 상위 장르 추출\n",
    "test['Genres']  = test['Genres'].str.strip()\n",
    "\n",
    "test['Genres']  = test['Genres'].str.lower()\n",
    "\n",
    "test[['up_Genres', 'low_Genres']] = test['Genres'].str.split(';', n=1, expand=True)"
   ]
  },
  {
   "cell_type": "code",
   "execution_count": 209,
   "metadata": {},
   "outputs": [],
   "source": [
    "test.drop(['low_Genres', 'Genres'], axis=1, inplace=True)"
   ]
  },
  {
   "cell_type": "code",
   "execution_count": 211,
   "metadata": {},
   "outputs": [
    {
     "data": {
      "text/html": [
       "<div>\n",
       "<style scoped>\n",
       "    .dataframe tbody tr th:only-of-type {\n",
       "        vertical-align: middle;\n",
       "    }\n",
       "\n",
       "    .dataframe tbody tr th {\n",
       "        vertical-align: top;\n",
       "    }\n",
       "\n",
       "    .dataframe thead th {\n",
       "        text-align: right;\n",
       "    }\n",
       "</style>\n",
       "<table border=\"1\" class=\"dataframe\">\n",
       "  <thead>\n",
       "    <tr style=\"text-align: right;\">\n",
       "      <th></th>\n",
       "      <th>Reviews</th>\n",
       "      <th>Size</th>\n",
       "      <th>Installs</th>\n",
       "      <th>Type</th>\n",
       "      <th>Price</th>\n",
       "      <th>Content Rating</th>\n",
       "      <th>Last Updated</th>\n",
       "      <th>up_Genres</th>\n",
       "    </tr>\n",
       "  </thead>\n",
       "  <tbody>\n",
       "    <tr>\n",
       "      <th>0</th>\n",
       "      <td>1205</td>\n",
       "      <td>4.3</td>\n",
       "      <td>100000.0</td>\n",
       "      <td>0</td>\n",
       "      <td>0.0</td>\n",
       "      <td>Everyone</td>\n",
       "      <td>2018-06-10</td>\n",
       "      <td>productivity</td>\n",
       "    </tr>\n",
       "    <tr>\n",
       "      <th>1</th>\n",
       "      <td>267</td>\n",
       "      <td>1.5</td>\n",
       "      <td>10000.0</td>\n",
       "      <td>0</td>\n",
       "      <td>0.0</td>\n",
       "      <td>Everyone</td>\n",
       "      <td>2017-03-08</td>\n",
       "      <td>entertainment</td>\n",
       "    </tr>\n",
       "  </tbody>\n",
       "</table>\n",
       "</div>"
      ],
      "text/plain": [
       "   Reviews  Size  Installs  Type  Price Content Rating Last Updated  \\\n",
       "0     1205   4.3  100000.0     0    0.0       Everyone   2018-06-10   \n",
       "1      267   1.5   10000.0     0    0.0       Everyone   2017-03-08   \n",
       "\n",
       "       up_Genres  \n",
       "0   productivity  \n",
       "1  entertainment  "
      ]
     },
     "execution_count": 211,
     "metadata": {},
     "output_type": "execute_result"
    }
   ],
   "source": [
    "test.head(2)"
   ]
  },
  {
   "cell_type": "code",
   "execution_count": 210,
   "metadata": {},
   "outputs": [
    {
     "data": {
      "text/plain": [
       "0"
      ]
     },
     "execution_count": 210,
     "metadata": {},
     "output_type": "execute_result"
    }
   ],
   "source": [
    "# 2. content rating 3단계로 재분류\n",
    "len(test[test['Content Rating']=='Unrated']) # test data에 unrated가 없네요 다행입니다ㅋㅋ"
   ]
  },
  {
   "cell_type": "code",
   "execution_count": 212,
   "metadata": {},
   "outputs": [],
   "source": [
    "def custom(COL) :\n",
    "    if COL=='Everyone':\n",
    "        return 'A'\n",
    "    elif COL=='Everyone 10+' or COL=='Teen':\n",
    "        return 'B'\n",
    "    else :\n",
    "        return 'C'\n",
    "    \n",
    "test[\"New_content_rating\"] = test.apply(lambda x : custom(x[\"Content Rating\"]) , axis = 1 )"
   ]
  },
  {
   "cell_type": "code",
   "execution_count": 213,
   "metadata": {},
   "outputs": [],
   "source": [
    "test.drop('Content Rating', axis=1, inplace=True)"
   ]
  },
  {
   "cell_type": "code",
   "execution_count": 214,
   "metadata": {},
   "outputs": [
    {
     "data": {
      "text/html": [
       "<div>\n",
       "<style scoped>\n",
       "    .dataframe tbody tr th:only-of-type {\n",
       "        vertical-align: middle;\n",
       "    }\n",
       "\n",
       "    .dataframe tbody tr th {\n",
       "        vertical-align: top;\n",
       "    }\n",
       "\n",
       "    .dataframe thead th {\n",
       "        text-align: right;\n",
       "    }\n",
       "</style>\n",
       "<table border=\"1\" class=\"dataframe\">\n",
       "  <thead>\n",
       "    <tr style=\"text-align: right;\">\n",
       "      <th></th>\n",
       "      <th>Reviews</th>\n",
       "      <th>Size</th>\n",
       "      <th>Installs</th>\n",
       "      <th>Type</th>\n",
       "      <th>Price</th>\n",
       "      <th>Last Updated</th>\n",
       "      <th>up_Genres</th>\n",
       "      <th>New_content_rating</th>\n",
       "    </tr>\n",
       "  </thead>\n",
       "  <tbody>\n",
       "    <tr>\n",
       "      <th>0</th>\n",
       "      <td>1205</td>\n",
       "      <td>4.3</td>\n",
       "      <td>100000.0</td>\n",
       "      <td>0</td>\n",
       "      <td>0.0</td>\n",
       "      <td>2018-06-10</td>\n",
       "      <td>productivity</td>\n",
       "      <td>A</td>\n",
       "    </tr>\n",
       "    <tr>\n",
       "      <th>1</th>\n",
       "      <td>267</td>\n",
       "      <td>1.5</td>\n",
       "      <td>10000.0</td>\n",
       "      <td>0</td>\n",
       "      <td>0.0</td>\n",
       "      <td>2017-03-08</td>\n",
       "      <td>entertainment</td>\n",
       "      <td>A</td>\n",
       "    </tr>\n",
       "  </tbody>\n",
       "</table>\n",
       "</div>"
      ],
      "text/plain": [
       "   Reviews  Size  Installs  Type  Price Last Updated      up_Genres  \\\n",
       "0     1205   4.3  100000.0     0    0.0   2018-06-10   productivity   \n",
       "1      267   1.5   10000.0     0    0.0   2017-03-08  entertainment   \n",
       "\n",
       "  New_content_rating  \n",
       "0                  A  \n",
       "1                  A  "
      ]
     },
     "execution_count": 214,
     "metadata": {},
     "output_type": "execute_result"
    }
   ],
   "source": [
    "test.head(2)"
   ]
  },
  {
   "cell_type": "code",
   "execution_count": 215,
   "metadata": {},
   "outputs": [],
   "source": [
    "# 3. Last Updated의 year추출\n",
    "test['Last Updated'] = pd.to_datetime(test['Last Updated'], format='%Y-%m-%d %H:%M:%S', errors='raise')\n",
    "\n",
    "test['update_year'] = test['Last Updated'].dt.year\n",
    "\n",
    "test.drop('Last Updated', axis=1, inplace=True)"
   ]
  },
  {
   "cell_type": "code",
   "execution_count": 216,
   "metadata": {},
   "outputs": [
    {
     "data": {
      "text/html": [
       "<div>\n",
       "<style scoped>\n",
       "    .dataframe tbody tr th:only-of-type {\n",
       "        vertical-align: middle;\n",
       "    }\n",
       "\n",
       "    .dataframe tbody tr th {\n",
       "        vertical-align: top;\n",
       "    }\n",
       "\n",
       "    .dataframe thead th {\n",
       "        text-align: right;\n",
       "    }\n",
       "</style>\n",
       "<table border=\"1\" class=\"dataframe\">\n",
       "  <thead>\n",
       "    <tr style=\"text-align: right;\">\n",
       "      <th></th>\n",
       "      <th>Reviews</th>\n",
       "      <th>Size</th>\n",
       "      <th>Installs</th>\n",
       "      <th>Type</th>\n",
       "      <th>Price</th>\n",
       "      <th>up_Genres</th>\n",
       "      <th>New_content_rating</th>\n",
       "      <th>update_year</th>\n",
       "    </tr>\n",
       "  </thead>\n",
       "  <tbody>\n",
       "    <tr>\n",
       "      <th>0</th>\n",
       "      <td>1205</td>\n",
       "      <td>4.3</td>\n",
       "      <td>100000.0</td>\n",
       "      <td>0</td>\n",
       "      <td>0.0</td>\n",
       "      <td>productivity</td>\n",
       "      <td>A</td>\n",
       "      <td>2018</td>\n",
       "    </tr>\n",
       "    <tr>\n",
       "      <th>1</th>\n",
       "      <td>267</td>\n",
       "      <td>1.5</td>\n",
       "      <td>10000.0</td>\n",
       "      <td>0</td>\n",
       "      <td>0.0</td>\n",
       "      <td>entertainment</td>\n",
       "      <td>A</td>\n",
       "      <td>2017</td>\n",
       "    </tr>\n",
       "  </tbody>\n",
       "</table>\n",
       "</div>"
      ],
      "text/plain": [
       "   Reviews  Size  Installs  Type  Price      up_Genres New_content_rating  \\\n",
       "0     1205   4.3  100000.0     0    0.0   productivity                  A   \n",
       "1      267   1.5   10000.0     0    0.0  entertainment                  A   \n",
       "\n",
       "   update_year  \n",
       "0         2018  \n",
       "1         2017  "
      ]
     },
     "execution_count": 216,
     "metadata": {},
     "output_type": "execute_result"
    }
   ],
   "source": [
    "test.head(2)"
   ]
  },
  {
   "cell_type": "code",
   "execution_count": 217,
   "metadata": {},
   "outputs": [],
   "source": [
    "cat_col = ['Type', 'up_Genres','New_content_rating','update_year']\n",
    "test = pd.get_dummies(test, columns=cat_col)"
   ]
  },
  {
   "cell_type": "code",
   "execution_count": 218,
   "metadata": {},
   "outputs": [
    {
     "data": {
      "text/html": [
       "<div>\n",
       "<style scoped>\n",
       "    .dataframe tbody tr th:only-of-type {\n",
       "        vertical-align: middle;\n",
       "    }\n",
       "\n",
       "    .dataframe tbody tr th {\n",
       "        vertical-align: top;\n",
       "    }\n",
       "\n",
       "    .dataframe thead th {\n",
       "        text-align: right;\n",
       "    }\n",
       "</style>\n",
       "<table border=\"1\" class=\"dataframe\">\n",
       "  <thead>\n",
       "    <tr style=\"text-align: right;\">\n",
       "      <th></th>\n",
       "      <th>Reviews</th>\n",
       "      <th>Size</th>\n",
       "      <th>Installs</th>\n",
       "      <th>Price</th>\n",
       "      <th>Type_0</th>\n",
       "      <th>Type_1</th>\n",
       "      <th>up_Genres_action</th>\n",
       "      <th>up_Genres_adventure</th>\n",
       "      <th>up_Genres_arcade</th>\n",
       "      <th>up_Genres_art &amp; design</th>\n",
       "      <th>up_Genres_auto &amp; vehicles</th>\n",
       "      <th>up_Genres_beauty</th>\n",
       "      <th>up_Genres_board</th>\n",
       "      <th>up_Genres_books &amp; reference</th>\n",
       "      <th>up_Genres_business</th>\n",
       "      <th>up_Genres_card</th>\n",
       "      <th>up_Genres_casino</th>\n",
       "      <th>up_Genres_casual</th>\n",
       "      <th>up_Genres_comics</th>\n",
       "      <th>up_Genres_communication</th>\n",
       "      <th>up_Genres_dating</th>\n",
       "      <th>up_Genres_education</th>\n",
       "      <th>up_Genres_educational</th>\n",
       "      <th>up_Genres_entertainment</th>\n",
       "      <th>up_Genres_events</th>\n",
       "      <th>up_Genres_finance</th>\n",
       "      <th>up_Genres_food &amp; drink</th>\n",
       "      <th>up_Genres_health &amp; fitness</th>\n",
       "      <th>up_Genres_house &amp; home</th>\n",
       "      <th>up_Genres_libraries &amp; demo</th>\n",
       "      <th>up_Genres_lifestyle</th>\n",
       "      <th>up_Genres_maps &amp; navigation</th>\n",
       "      <th>up_Genres_medical</th>\n",
       "      <th>up_Genres_music</th>\n",
       "      <th>up_Genres_news &amp; magazines</th>\n",
       "      <th>up_Genres_parenting</th>\n",
       "      <th>up_Genres_personalization</th>\n",
       "      <th>up_Genres_photography</th>\n",
       "      <th>up_Genres_productivity</th>\n",
       "      <th>up_Genres_puzzle</th>\n",
       "      <th>up_Genres_racing</th>\n",
       "      <th>up_Genres_role playing</th>\n",
       "      <th>up_Genres_shopping</th>\n",
       "      <th>up_Genres_simulation</th>\n",
       "      <th>up_Genres_social</th>\n",
       "      <th>up_Genres_sports</th>\n",
       "      <th>up_Genres_strategy</th>\n",
       "      <th>up_Genres_tools</th>\n",
       "      <th>up_Genres_travel &amp; local</th>\n",
       "      <th>up_Genres_trivia</th>\n",
       "      <th>up_Genres_video players &amp; editors</th>\n",
       "      <th>up_Genres_weather</th>\n",
       "      <th>up_Genres_word</th>\n",
       "      <th>New_content_rating_A</th>\n",
       "      <th>New_content_rating_B</th>\n",
       "      <th>New_content_rating_C</th>\n",
       "      <th>update_year_2011</th>\n",
       "      <th>update_year_2012</th>\n",
       "      <th>update_year_2013</th>\n",
       "      <th>update_year_2014</th>\n",
       "      <th>update_year_2015</th>\n",
       "      <th>update_year_2016</th>\n",
       "      <th>update_year_2017</th>\n",
       "      <th>update_year_2018</th>\n",
       "    </tr>\n",
       "  </thead>\n",
       "  <tbody>\n",
       "    <tr>\n",
       "      <th>0</th>\n",
       "      <td>1205</td>\n",
       "      <td>4.3</td>\n",
       "      <td>100000.0</td>\n",
       "      <td>0.0</td>\n",
       "      <td>1</td>\n",
       "      <td>0</td>\n",
       "      <td>0</td>\n",
       "      <td>0</td>\n",
       "      <td>0</td>\n",
       "      <td>0</td>\n",
       "      <td>0</td>\n",
       "      <td>0</td>\n",
       "      <td>0</td>\n",
       "      <td>0</td>\n",
       "      <td>0</td>\n",
       "      <td>0</td>\n",
       "      <td>0</td>\n",
       "      <td>0</td>\n",
       "      <td>0</td>\n",
       "      <td>0</td>\n",
       "      <td>0</td>\n",
       "      <td>0</td>\n",
       "      <td>0</td>\n",
       "      <td>0</td>\n",
       "      <td>0</td>\n",
       "      <td>0</td>\n",
       "      <td>0</td>\n",
       "      <td>0</td>\n",
       "      <td>0</td>\n",
       "      <td>0</td>\n",
       "      <td>0</td>\n",
       "      <td>0</td>\n",
       "      <td>0</td>\n",
       "      <td>0</td>\n",
       "      <td>0</td>\n",
       "      <td>0</td>\n",
       "      <td>0</td>\n",
       "      <td>0</td>\n",
       "      <td>1</td>\n",
       "      <td>0</td>\n",
       "      <td>0</td>\n",
       "      <td>0</td>\n",
       "      <td>0</td>\n",
       "      <td>0</td>\n",
       "      <td>0</td>\n",
       "      <td>0</td>\n",
       "      <td>0</td>\n",
       "      <td>0</td>\n",
       "      <td>0</td>\n",
       "      <td>0</td>\n",
       "      <td>0</td>\n",
       "      <td>0</td>\n",
       "      <td>0</td>\n",
       "      <td>1</td>\n",
       "      <td>0</td>\n",
       "      <td>0</td>\n",
       "      <td>0</td>\n",
       "      <td>0</td>\n",
       "      <td>0</td>\n",
       "      <td>0</td>\n",
       "      <td>0</td>\n",
       "      <td>0</td>\n",
       "      <td>0</td>\n",
       "      <td>1</td>\n",
       "    </tr>\n",
       "    <tr>\n",
       "      <th>1</th>\n",
       "      <td>267</td>\n",
       "      <td>1.5</td>\n",
       "      <td>10000.0</td>\n",
       "      <td>0.0</td>\n",
       "      <td>1</td>\n",
       "      <td>0</td>\n",
       "      <td>0</td>\n",
       "      <td>0</td>\n",
       "      <td>0</td>\n",
       "      <td>0</td>\n",
       "      <td>0</td>\n",
       "      <td>0</td>\n",
       "      <td>0</td>\n",
       "      <td>0</td>\n",
       "      <td>0</td>\n",
       "      <td>0</td>\n",
       "      <td>0</td>\n",
       "      <td>0</td>\n",
       "      <td>0</td>\n",
       "      <td>0</td>\n",
       "      <td>0</td>\n",
       "      <td>0</td>\n",
       "      <td>0</td>\n",
       "      <td>1</td>\n",
       "      <td>0</td>\n",
       "      <td>0</td>\n",
       "      <td>0</td>\n",
       "      <td>0</td>\n",
       "      <td>0</td>\n",
       "      <td>0</td>\n",
       "      <td>0</td>\n",
       "      <td>0</td>\n",
       "      <td>0</td>\n",
       "      <td>0</td>\n",
       "      <td>0</td>\n",
       "      <td>0</td>\n",
       "      <td>0</td>\n",
       "      <td>0</td>\n",
       "      <td>0</td>\n",
       "      <td>0</td>\n",
       "      <td>0</td>\n",
       "      <td>0</td>\n",
       "      <td>0</td>\n",
       "      <td>0</td>\n",
       "      <td>0</td>\n",
       "      <td>0</td>\n",
       "      <td>0</td>\n",
       "      <td>0</td>\n",
       "      <td>0</td>\n",
       "      <td>0</td>\n",
       "      <td>0</td>\n",
       "      <td>0</td>\n",
       "      <td>0</td>\n",
       "      <td>1</td>\n",
       "      <td>0</td>\n",
       "      <td>0</td>\n",
       "      <td>0</td>\n",
       "      <td>0</td>\n",
       "      <td>0</td>\n",
       "      <td>0</td>\n",
       "      <td>0</td>\n",
       "      <td>0</td>\n",
       "      <td>1</td>\n",
       "      <td>0</td>\n",
       "    </tr>\n",
       "  </tbody>\n",
       "</table>\n",
       "</div>"
      ],
      "text/plain": [
       "   Reviews  Size  Installs  Price  Type_0  Type_1  up_Genres_action  \\\n",
       "0     1205   4.3  100000.0    0.0       1       0                 0   \n",
       "1      267   1.5   10000.0    0.0       1       0                 0   \n",
       "\n",
       "   up_Genres_adventure  up_Genres_arcade  up_Genres_art & design  \\\n",
       "0                    0                 0                       0   \n",
       "1                    0                 0                       0   \n",
       "\n",
       "   up_Genres_auto & vehicles  up_Genres_beauty  up_Genres_board  \\\n",
       "0                          0                 0                0   \n",
       "1                          0                 0                0   \n",
       "\n",
       "   up_Genres_books & reference  up_Genres_business  up_Genres_card  \\\n",
       "0                            0                   0               0   \n",
       "1                            0                   0               0   \n",
       "\n",
       "   up_Genres_casino  up_Genres_casual  up_Genres_comics  \\\n",
       "0                 0                 0                 0   \n",
       "1                 0                 0                 0   \n",
       "\n",
       "   up_Genres_communication  up_Genres_dating  up_Genres_education  \\\n",
       "0                        0                 0                    0   \n",
       "1                        0                 0                    0   \n",
       "\n",
       "   up_Genres_educational  up_Genres_entertainment  up_Genres_events  \\\n",
       "0                      0                        0                 0   \n",
       "1                      0                        1                 0   \n",
       "\n",
       "   up_Genres_finance  up_Genres_food & drink  up_Genres_health & fitness  \\\n",
       "0                  0                       0                           0   \n",
       "1                  0                       0                           0   \n",
       "\n",
       "   up_Genres_house & home  up_Genres_libraries & demo  up_Genres_lifestyle  \\\n",
       "0                       0                           0                    0   \n",
       "1                       0                           0                    0   \n",
       "\n",
       "   up_Genres_maps & navigation  up_Genres_medical  up_Genres_music  \\\n",
       "0                            0                  0                0   \n",
       "1                            0                  0                0   \n",
       "\n",
       "   up_Genres_news & magazines  up_Genres_parenting  up_Genres_personalization  \\\n",
       "0                           0                    0                          0   \n",
       "1                           0                    0                          0   \n",
       "\n",
       "   up_Genres_photography  up_Genres_productivity  up_Genres_puzzle  \\\n",
       "0                      0                       1                 0   \n",
       "1                      0                       0                 0   \n",
       "\n",
       "   up_Genres_racing  up_Genres_role playing  up_Genres_shopping  \\\n",
       "0                 0                       0                   0   \n",
       "1                 0                       0                   0   \n",
       "\n",
       "   up_Genres_simulation  up_Genres_social  up_Genres_sports  \\\n",
       "0                     0                 0                 0   \n",
       "1                     0                 0                 0   \n",
       "\n",
       "   up_Genres_strategy  up_Genres_tools  up_Genres_travel & local  \\\n",
       "0                   0                0                         0   \n",
       "1                   0                0                         0   \n",
       "\n",
       "   up_Genres_trivia  up_Genres_video players & editors  up_Genres_weather  \\\n",
       "0                 0                                  0                  0   \n",
       "1                 0                                  0                  0   \n",
       "\n",
       "   up_Genres_word  New_content_rating_A  New_content_rating_B  \\\n",
       "0               0                     1                     0   \n",
       "1               0                     1                     0   \n",
       "\n",
       "   New_content_rating_C  update_year_2011  update_year_2012  update_year_2013  \\\n",
       "0                     0                 0                 0                 0   \n",
       "1                     0                 0                 0                 0   \n",
       "\n",
       "   update_year_2014  update_year_2015  update_year_2016  update_year_2017  \\\n",
       "0                 0                 0                 0                 0   \n",
       "1                 0                 0                 0                 1   \n",
       "\n",
       "   update_year_2018  \n",
       "0                 1  \n",
       "1                 0  "
      ]
     },
     "execution_count": 218,
     "metadata": {},
     "output_type": "execute_result"
    }
   ],
   "source": [
    "test.head(2)"
   ]
  },
  {
   "cell_type": "code",
   "execution_count": 222,
   "metadata": {},
   "outputs": [
    {
     "name": "stdout",
     "output_type": "stream",
     "text": [
      "67 64\n"
     ]
    },
    {
     "data": {
      "text/plain": [
       "{'Rating', 'up_Genres_music & audio', 'update_year_2010'}"
      ]
     },
     "execution_count": 222,
     "metadata": {},
     "output_type": "execute_result"
    }
   ],
   "source": [
    "print(len(train.columns),len(test.columns))\n",
    "set(train.columns) - set(test.columns) # train에만 있는 항목들"
   ]
  },
  {
   "cell_type": "code",
   "execution_count": 223,
   "metadata": {},
   "outputs": [],
   "source": [
    "test.to_csv('all_completed_test.csv', index=False)"
   ]
  },
  {
   "cell_type": "code",
   "execution_count": 6,
   "metadata": {},
   "outputs": [],
   "source": [
    "train = pd.read_csv('all_completed.csv')\n",
    "test = pd.read_csv('all_completed_test.csv')"
   ]
  },
  {
   "cell_type": "markdown",
   "metadata": {
    "id": "MFbt54emN67y"
   },
   "source": [
    "## 2. Regression Modeling  "
   ]
  },
  {
   "cell_type": "code",
   "execution_count": 29,
   "metadata": {
    "id": "1tmPfpHXEzy_"
   },
   "outputs": [],
   "source": [
    "train = pd.read_csv('/content/drive/MyDrive/tobigs/all_completed.csv') \r\n",
    "test = pd.read_csv('/content/drive/MyDrive/tobigs/completed_test.csv') "
   ]
  },
  {
   "cell_type": "code",
   "execution_count": 30,
   "metadata": {
    "id": "CyQWjevTRxCX"
   },
   "outputs": [],
   "source": [
    "# sklearn \n",
    "from sklearn.linear_model import LinearRegression\n",
    "from sklearn.tree import DecisionTreeRegressor\n",
    "from sklearn.linear_model import Lasso\n",
    "#from sklearn.naive_bayes import GaussianNB\n",
    "from sklearn.neighbors import KNeighborsRegressor\n",
    "from sklearn.svm import SVR,LinearSVC\n",
    "from sklearn.ensemble import RandomForestRegressor, GradientBoostingRegressor\n",
    "import xgboost\n",
    "import lightgbm\n",
    "\n",
    "from sklearn.pipeline import make_pipeline\n",
    "from sklearn.pipeline import Pipeline\n",
    "from sklearn.preprocessing import RobustScaler\n",
    "from sklearn.base import BaseEstimator, TransformerMixin, RegressorMixin, clone\n",
    "from sklearn.model_selection import KFold, cross_val_score, train_test_split,GridSearchCV\n",
    "from sklearn.metrics import mean_squared_error\n",
    "from sklearn.metrics import accuracy_score\n",
    "\n",
    "from sklearn.feature_selection import SelectFromModel\n",
    "from sklearn.feature_selection import SelectKBest, f_regression"
   ]
  },
  {
   "cell_type": "code",
   "execution_count": 31,
   "metadata": {
    "id": "DmIuwnfEuaih"
   },
   "outputs": [],
   "source": [
    "# target 분리, data split\n",
    "y = train['Rating']\n",
    "X = train.drop('Rating',axis=1,inplace=False)\n",
    "\n",
    "X_train, X_test, y_train, y_test = train_test_split(X,y, train_size = 0.7, random_state=318)"
   ]
  },
  {
   "cell_type": "code",
   "execution_count": 32,
   "metadata": {
    "id": "kqpkAGz1jeCZ"
   },
   "outputs": [],
   "source": [
    "# Update test data\n",
    "origin_test = pd.read_csv('/content/drive/MyDrive/tobigs/ggstore_test.csv')\n",
    "test_ID = origin_test['Id']"
   ]
  },
  {
   "cell_type": "markdown",
   "metadata": {
    "id": "GjXRKYCqSkix"
   },
   "source": [
    "* validation function"
   ]
  },
  {
   "cell_type": "code",
   "execution_count": 33,
   "metadata": {
    "id": "fTBQh9nBSjz8"
   },
   "outputs": [],
   "source": [
    "n_folds = 5\n",
    "train = X\n",
    "def rmse_cv(model):\n",
    "  kf = KFold(n_folds, shuffle=True, random_state=42).get_n_splits(X_train.values)\n",
    "  rmse = np.sqrt(-cross_val_score(model, X_train.values, y_train, scoring='neg_mean_squared_error', cv=kf))\n",
    "  return (rmse)"
   ]
  },
  {
   "cell_type": "code",
   "execution_count": 34,
   "metadata": {
    "id": "TGxiTowID6xF"
   },
   "outputs": [],
   "source": [
    "def new_rmse_cv(model):\r\n",
    "    rmse = np.sqrt(-cross_val_score(model, X_train.values, y_train, scoring='neg_mean_squared_error', cv=5))\r\n",
    "    return (rmse)"
   ]
  },
  {
   "cell_type": "code",
   "execution_count": 35,
   "metadata": {
    "id": "nE2C0xbwd6cB"
   },
   "outputs": [],
   "source": [
    "def rmse(y,y_pred):\n",
    "  return np.sqrt(mean_squared_error(y,y_pred))"
   ]
  },
  {
   "cell_type": "markdown",
   "metadata": {
    "id": "8zTJqSQqjTvt"
   },
   "source": [
    "- 참고\r\n",
    "\r\n",
    "scoring='neg_mean_squared_error'를 쓰는 이유는 scoring 매개변수에 클수록 좋은 함수를 기대하기 때문에 -mse를 쓰고 나서 나중에 다시 -를 곱해줍니다."
   ]
  },
  {
   "cell_type": "markdown",
   "metadata": {
    "id": "cFEg3jO7TLa5"
   },
   "source": [
    "### Base models  \n"
   ]
  },
  {
   "cell_type": "code",
   "execution_count": 36,
   "metadata": {
    "colab": {
     "base_uri": "https://localhost:8080/"
    },
    "id": "28_L6PXDRMZO",
    "outputId": "60dd2d77-eace-48d3-8f35-f09440e1c2e2"
   },
   "outputs": [
    {
     "name": "stdout",
     "output_type": "stream",
     "text": [
      "lr 0.523192 0.025393 \n",
      "dt 0.698918 0.051530 \n",
      "knn 0.574472 0.022619 \n",
      "svm 0.527130 0.026181 \n",
      "rf 0.545707 0.026694 \n",
      "gbm 0.523073 0.024395 \n",
      "xgb 0.510467 0.021647 \n",
      "lgb 0.505661 0.023874 \n"
     ]
    }
   ],
   "source": [
    "#evaluation - baselines\r\n",
    "num_folds = 5\r\n",
    "seed = 7\r\n",
    "scoring = 'neg_mean_squared_error'\r\n",
    "models = []\r\n",
    "models.append(('lr', make_pipeline(RobustScaler(), SelectKBest(f_regression, k=20),LinearRegression())))\r\n",
    "models.append(('dt', make_pipeline(SelectKBest(f_regression, k=20), DecisionTreeRegressor())))\r\n",
    "models.append(('knn', make_pipeline(RobustScaler(),SelectKBest(f_regression, k=20),KNeighborsRegressor(n_neighbors = 3))))\r\n",
    "models.append(('svm', make_pipeline(RobustScaler(),SelectKBest(f_regression, k=20),SVR())))\r\n",
    "models.append(('rf', make_pipeline(SelectKBest(f_regression, k=20),SVR())))\r\n",
    "models.append(('gbm', make_pipeline(SelectKBest(f_regression, k=20),RandomForestRegressor())))\r\n",
    "models.append(('xgb', make_pipeline(SelectKBest(f_regression, k=20),GradientBoostingRegressor(n_estimators = 3000, learning_rate=0.05,\r\n",
    "                                              max_depth=4, max_features='sqrt',\r\n",
    "                                              min_samples_leaf=15, min_samples_split=10,\r\n",
    "                                              loss = 'huber', random_state=1004))))\r\n",
    "models.append(('lgb', make_pipeline(SelectKBest(f_regression, k=20),lightgbm.LGBMRegressor(objective='regression', num_leaves=31, learning_rate=0.05, n_estimators=20))))\r\n",
    "\r\n",
    "results = []\r\n",
    "names = []\r\n",
    "for name, model in models:\r\n",
    "    # kfold = KFold(n_splits=num_folds, random_state=seed)\r\n",
    "    cv_results = np.sqrt(-cross_val_score(model, X_train.values, y_train, scoring='neg_mean_squared_error', cv=5))\r\n",
    "    results.append(cv_results)\r\n",
    "    names.append(name)\r\n",
    "    msg = \"%s %f %f \" % (name, cv_results.mean(), cv_results.std())\r\n",
    "    print(msg)"
   ]
  },
  {
   "cell_type": "markdown",
   "metadata": {
    "id": "d2MqizVLcC-T"
   },
   "source": [
    "가장 적은 rmse를 보이는 것은 lgb모델입니다. 이를 튜닝해보겠습니다."
   ]
  },
  {
   "cell_type": "markdown",
   "metadata": {
    "id": "HKyhD0LtR9U-"
   },
   "source": [
    "### 베이스 모델 튜닝\r\n",
    "* Grid search, optuna , random Search 등을 이용해서 파라미터를 튜닝해주세요~!"
   ]
  },
  {
   "cell_type": "code",
   "execution_count": null,
   "metadata": {
    "id": "KefpUBjSR9fi"
   },
   "outputs": [],
   "source": [
    "num_folds = 5\n",
    "seed = 7\n",
    "scoring = 'neg_mean_squared_error'\n",
    "param_grid = {\n",
    "    \"lgbm__n_estimators\" : [10, 20, 30, 50, 100, 200, 300],\n",
    "    \"lgbm__learning_rate\" : [i for i in np.linspace(0.1,1, 10)],\n",
    "    \"lgbm__num_iteration\" : range(100, 1100, 200)\n",
    "    }\n",
    "step1 = ('select', SelectKBest(f_regression, k=20))    \n",
    "step2 = ('lgbm', lightgbm.LGBMRegressor(objective='regression'))              \n",
    "model = Pipeline([step1, step2])\n",
    "kfold = KFold(n_splits=num_folds, random_state=seed)\n",
    "grid = GridSearchCV(estimator=model, param_grid=param_grid, scoring=scoring, cv=kfold, verbose=3)\n",
    "grid_result = grid.fit(X_train, y_train)\n",
    "print(\"Best: %f using %s\" % (grid_result.best_score_, grid_result.best_params_))\n",
    "means = grid_result.cv_results_['mean_test_score']\n",
    "stds = grid_result.cv_results_['std_test_score']\n",
    "params = grid_result.cv_results_['params']\n",
    "for mean, stdev, param in zip(means, stds, params):\n",
    "    print(\"%f (%f) with: %r\" % (mean, stdev, param))"
   ]
  },
  {
   "cell_type": "code",
   "execution_count": 24,
   "metadata": {
    "id": "Nh_F2sdqNNVi"
   },
   "outputs": [],
   "source": [
    "test.drop('Unnamed: 0',axis=1,inplace=True)"
   ]
  },
  {
   "cell_type": "code",
   "execution_count": 26,
   "metadata": {
    "colab": {
     "base_uri": "https://localhost:8080/"
    },
    "id": "OMnG-tgWNZ1-",
    "outputId": "e16720e8-c8e2-4799-c1f4-f18a93ea6c1c"
   },
   "outputs": [
    {
     "name": "stdout",
     "output_type": "stream",
     "text": [
      "(5589, 66) (1404, 66)\n"
     ]
    }
   ],
   "source": [
    "print(train.shape, test.shape)"
   ]
  },
  {
   "cell_type": "code",
   "execution_count": 18,
   "metadata": {
    "id": "_01rCZ3JDCw7"
   },
   "outputs": [],
   "source": [
    "# 모델 저장\r\n",
    "import pickle\r\n",
    "# Best XGB model that was found based on the metric score you specify\r\n",
    "best_pars = grid.best_params_\r\n",
    "best_model = grid.best_estimator_\r\n",
    "\r\n",
    "# Save model\r\n",
    "pickle.dump(grid.best_estimator_, open(\"xgb_log_reg_selection.pickle\", \"wb\"))\r\n",
    "model = grid.best_estimator_\r\n",
    "lgb_pred = model.predict(new_X_test)\r\n",
    "\r\n",
    "# 최종 test 예측\r\n",
    "lgb_pred = model.predict(test.values)\r\n",
    "sub = pd.DataFrame()\r\n",
    "sub['Id'] = test_ID\r\n",
    "sub['Rating'] = lgb_pred\r\n",
    "sub.to_csv('submission_2.csv',index=False)"
   ]
  },
  {
   "cell_type": "code",
   "execution_count": null,
   "metadata": {
    "colab": {
     "base_uri": "https://localhost:8080/",
     "height": 199
    },
    "id": "yqKXr2iRMmHz",
    "outputId": "6815a0c6-be77-4749-f647-29cd6fb09bcf"
   },
   "outputs": [
    {
     "data": {
      "text/html": [
       "<div>\n",
       "<style scoped>\n",
       "    .dataframe tbody tr th:only-of-type {\n",
       "        vertical-align: middle;\n",
       "    }\n",
       "\n",
       "    .dataframe tbody tr th {\n",
       "        vertical-align: top;\n",
       "    }\n",
       "\n",
       "    .dataframe thead th {\n",
       "        text-align: right;\n",
       "    }\n",
       "</style>\n",
       "<table border=\"1\" class=\"dataframe\">\n",
       "  <thead>\n",
       "    <tr style=\"text-align: right;\">\n",
       "      <th></th>\n",
       "      <th>Id</th>\n",
       "      <th>Rating</th>\n",
       "    </tr>\n",
       "  </thead>\n",
       "  <tbody>\n",
       "    <tr>\n",
       "      <th>0</th>\n",
       "      <td>5617</td>\n",
       "      <td>4.366667</td>\n",
       "    </tr>\n",
       "    <tr>\n",
       "      <th>1</th>\n",
       "      <td>5618</td>\n",
       "      <td>4.166667</td>\n",
       "    </tr>\n",
       "    <tr>\n",
       "      <th>2</th>\n",
       "      <td>5619</td>\n",
       "      <td>4.133333</td>\n",
       "    </tr>\n",
       "    <tr>\n",
       "      <th>3</th>\n",
       "      <td>5620</td>\n",
       "      <td>4.566667</td>\n",
       "    </tr>\n",
       "    <tr>\n",
       "      <th>4</th>\n",
       "      <td>5621</td>\n",
       "      <td>4.400000</td>\n",
       "    </tr>\n",
       "  </tbody>\n",
       "</table>\n",
       "</div>"
      ],
      "text/plain": [
       "     Id    Rating\n",
       "0  5617  4.366667\n",
       "1  5618  4.166667\n",
       "2  5619  4.133333\n",
       "3  5620  4.566667\n",
       "4  5621  4.400000"
      ]
     },
     "execution_count": 35,
     "metadata": {
      "tags": []
     },
     "output_type": "execute_result"
    }
   ],
   "source": [
    "sub.head()"
   ]
  },
  {
   "cell_type": "markdown",
   "metadata": {
    "id": "czeAtMD1vHnq"
   },
   "source": [
    "submission2의 정확도가 베이스라인보다도 좋지 않습니다. 범주형 변수의 범주가 많아서 변수가 너무 많아진 것이 이유인 것 같습니다. \r\n",
    "\r\n",
    "train할때 selectkbest를 사용할 수 있었지만 이는 타겟과 다른 피쳐들의 상관관계를 파악해서 feature selection을 하는 것이라 아예 모르는 테스트 데이터에 적용할 수 없습니다. \r\n",
    "\r\n",
    "따라서, selectkbest를 이용하여 처음부터 feature selection을 해준 후에 모델 학습을 해보겠습니다."
   ]
  },
  {
   "cell_type": "code",
   "execution_count": 40,
   "metadata": {
    "colab": {
     "base_uri": "https://localhost:8080/"
    },
    "id": "Hcf150X_v-g2",
    "outputId": "5d9fd9f6-dc17-478a-de45-611a2fa3610f"
   },
   "outputs": [
    {
     "data": {
      "text/plain": [
       "((3912, 20), (1677, 20))"
      ]
     },
     "execution_count": 40,
     "metadata": {
      "tags": []
     },
     "output_type": "execute_result"
    }
   ],
   "source": [
    "# target(Price)와 가장 correlated 된 features 를 k개 고르기.\r\n",
    "## f_regresison, SelectKBest 불러오기.\r\n",
    "from sklearn.feature_selection import f_regression, SelectKBest\r\n",
    "\r\n",
    "## selctor 정의하기.\r\n",
    "selector = SelectKBest(score_func=f_regression, k=20)\r\n",
    "\r\n",
    "## 학습데이터에 fit_transform \r\n",
    "X_train_selected = selector.fit_transform(X_train, y_train)\r\n",
    "\r\n",
    "## 테스트 데이터는 transform\r\n",
    "X_test_selected = selector.transform(X_test)\r\n",
    "X_train_selected.shape, X_test_selected.shape"
   ]
  },
  {
   "cell_type": "code",
   "execution_count": 41,
   "metadata": {
    "colab": {
     "base_uri": "https://localhost:8080/"
    },
    "id": "-LCOcAuNv9pT",
    "outputId": "14296a0b-dcc4-49c1-d3a7-3434e34e22d9"
   },
   "outputs": [
    {
     "name": "stdout",
     "output_type": "stream",
     "text": [
      "Selected names:  Index(['Reviews', 'Size', 'Installs', 'up_Genres_art & design',\n",
      "       'up_Genres_books & reference', 'up_Genres_dating',\n",
      "       'up_Genres_education', 'up_Genres_entertainment', 'up_Genres_events',\n",
      "       'up_Genres_personalization', 'up_Genres_puzzle', 'up_Genres_tools',\n",
      "       'up_Genres_travel & local', 'up_Genres_trivia', 'update_year_2015',\n",
      "       'update_year_2016', 'update_year_2017', 'update_year_2018', 'Type_0',\n",
      "       'Type_1'],\n",
      "      dtype='object')\n",
      "Unselected names:  Index(['Price', 'up_Genres_action', 'up_Genres_adventure', 'up_Genres_arcade',\n",
      "       'up_Genres_auto & vehicles', 'up_Genres_beauty', 'up_Genres_board',\n",
      "       'up_Genres_business', 'up_Genres_card', 'up_Genres_casino',\n",
      "       'up_Genres_casual', 'up_Genres_comics', 'up_Genres_communication',\n",
      "       'up_Genres_educational', 'up_Genres_finance', 'up_Genres_food & drink',\n",
      "       'up_Genres_health & fitness', 'up_Genres_house & home',\n",
      "       'up_Genres_libraries & demo', 'up_Genres_lifestyle',\n",
      "       'up_Genres_maps & navigation', 'up_Genres_medical', 'up_Genres_music',\n",
      "       'up_Genres_music & audio', 'up_Genres_news & magazines',\n",
      "       'up_Genres_parenting', 'up_Genres_photography',\n",
      "       'up_Genres_productivity', 'up_Genres_racing', 'up_Genres_role playing',\n",
      "       'up_Genres_shopping', 'up_Genres_simulation', 'up_Genres_social',\n",
      "       'up_Genres_sports', 'up_Genres_strategy',\n",
      "       'up_Genres_video players & editors', 'up_Genres_weather',\n",
      "       'up_Genres_word', 'New_content_rating_A', 'New_content_rating_B',\n",
      "       'New_content_rating_C', 'update_year_2010', 'update_year_2011',\n",
      "       'update_year_2012', 'update_year_2013', 'update_year_2014'],\n",
      "      dtype='object')\n"
     ]
    }
   ],
   "source": [
    "all_names = X_train.columns\r\n",
    "\r\n",
    "## selector.get_support()\r\n",
    "selected_mask = selector.get_support()\r\n",
    "\r\n",
    "## 선택된 특성(변수)들\r\n",
    "selected_names = all_names[selected_mask]\r\n",
    "\r\n",
    "## 선택되지 않은 특성(변수)들\r\n",
    "unselected_names = all_names[~selected_mask]\r\n",
    "\r\n",
    "print('Selected names: ', selected_names)\r\n",
    "print('Unselected names: ', unselected_names)"
   ]
  },
  {
   "cell_type": "code",
   "execution_count": 43,
   "metadata": {
    "colab": {
     "base_uri": "https://localhost:8080/",
     "height": 236
    },
    "id": "vEpMH8bewKZp",
    "outputId": "4539953f-1484-48a4-8d05-5de9cf4258cc"
   },
   "outputs": [
    {
     "data": {
      "text/html": [
       "<div>\n",
       "<style scoped>\n",
       "    .dataframe tbody tr th:only-of-type {\n",
       "        vertical-align: middle;\n",
       "    }\n",
       "\n",
       "    .dataframe tbody tr th {\n",
       "        vertical-align: top;\n",
       "    }\n",
       "\n",
       "    .dataframe thead th {\n",
       "        text-align: right;\n",
       "    }\n",
       "</style>\n",
       "<table border=\"1\" class=\"dataframe\">\n",
       "  <thead>\n",
       "    <tr style=\"text-align: right;\">\n",
       "      <th></th>\n",
       "      <th>Reviews</th>\n",
       "      <th>Size</th>\n",
       "      <th>Installs</th>\n",
       "      <th>up_Genres_art &amp; design</th>\n",
       "      <th>up_Genres_books &amp; reference</th>\n",
       "      <th>up_Genres_dating</th>\n",
       "      <th>up_Genres_education</th>\n",
       "      <th>up_Genres_entertainment</th>\n",
       "      <th>up_Genres_events</th>\n",
       "      <th>up_Genres_personalization</th>\n",
       "      <th>up_Genres_puzzle</th>\n",
       "      <th>up_Genres_tools</th>\n",
       "      <th>up_Genres_travel &amp; local</th>\n",
       "      <th>up_Genres_trivia</th>\n",
       "      <th>update_year_2015</th>\n",
       "      <th>update_year_2016</th>\n",
       "      <th>update_year_2017</th>\n",
       "      <th>update_year_2018</th>\n",
       "      <th>Type_0</th>\n",
       "      <th>Type_1</th>\n",
       "    </tr>\n",
       "  </thead>\n",
       "  <tbody>\n",
       "    <tr>\n",
       "      <th>4590</th>\n",
       "      <td>1995</td>\n",
       "      <td>92.0</td>\n",
       "      <td>500000.0</td>\n",
       "      <td>0</td>\n",
       "      <td>0</td>\n",
       "      <td>0</td>\n",
       "      <td>0</td>\n",
       "      <td>0</td>\n",
       "      <td>0</td>\n",
       "      <td>0</td>\n",
       "      <td>0</td>\n",
       "      <td>0</td>\n",
       "      <td>0</td>\n",
       "      <td>0</td>\n",
       "      <td>0</td>\n",
       "      <td>0</td>\n",
       "      <td>0</td>\n",
       "      <td>1</td>\n",
       "      <td>1</td>\n",
       "      <td>0</td>\n",
       "    </tr>\n",
       "    <tr>\n",
       "      <th>5284</th>\n",
       "      <td>10786</td>\n",
       "      <td>21.0</td>\n",
       "      <td>1000000.0</td>\n",
       "      <td>0</td>\n",
       "      <td>0</td>\n",
       "      <td>0</td>\n",
       "      <td>0</td>\n",
       "      <td>0</td>\n",
       "      <td>0</td>\n",
       "      <td>0</td>\n",
       "      <td>0</td>\n",
       "      <td>0</td>\n",
       "      <td>0</td>\n",
       "      <td>0</td>\n",
       "      <td>0</td>\n",
       "      <td>0</td>\n",
       "      <td>1</td>\n",
       "      <td>0</td>\n",
       "      <td>1</td>\n",
       "      <td>0</td>\n",
       "    </tr>\n",
       "    <tr>\n",
       "      <th>1091</th>\n",
       "      <td>4230886</td>\n",
       "      <td>60.0</td>\n",
       "      <td>100000000.0</td>\n",
       "      <td>0</td>\n",
       "      <td>0</td>\n",
       "      <td>0</td>\n",
       "      <td>0</td>\n",
       "      <td>0</td>\n",
       "      <td>0</td>\n",
       "      <td>0</td>\n",
       "      <td>0</td>\n",
       "      <td>0</td>\n",
       "      <td>0</td>\n",
       "      <td>0</td>\n",
       "      <td>0</td>\n",
       "      <td>0</td>\n",
       "      <td>0</td>\n",
       "      <td>1</td>\n",
       "      <td>1</td>\n",
       "      <td>0</td>\n",
       "    </tr>\n",
       "    <tr>\n",
       "      <th>4937</th>\n",
       "      <td>6</td>\n",
       "      <td>7.8</td>\n",
       "      <td>1000.0</td>\n",
       "      <td>0</td>\n",
       "      <td>0</td>\n",
       "      <td>0</td>\n",
       "      <td>1</td>\n",
       "      <td>0</td>\n",
       "      <td>0</td>\n",
       "      <td>0</td>\n",
       "      <td>0</td>\n",
       "      <td>0</td>\n",
       "      <td>0</td>\n",
       "      <td>0</td>\n",
       "      <td>0</td>\n",
       "      <td>0</td>\n",
       "      <td>0</td>\n",
       "      <td>1</td>\n",
       "      <td>1</td>\n",
       "      <td>0</td>\n",
       "    </tr>\n",
       "    <tr>\n",
       "      <th>624</th>\n",
       "      <td>8662</td>\n",
       "      <td>38.0</td>\n",
       "      <td>100000.0</td>\n",
       "      <td>0</td>\n",
       "      <td>0</td>\n",
       "      <td>0</td>\n",
       "      <td>0</td>\n",
       "      <td>0</td>\n",
       "      <td>0</td>\n",
       "      <td>0</td>\n",
       "      <td>0</td>\n",
       "      <td>0</td>\n",
       "      <td>0</td>\n",
       "      <td>0</td>\n",
       "      <td>0</td>\n",
       "      <td>0</td>\n",
       "      <td>0</td>\n",
       "      <td>1</td>\n",
       "      <td>1</td>\n",
       "      <td>0</td>\n",
       "    </tr>\n",
       "  </tbody>\n",
       "</table>\n",
       "</div>"
      ],
      "text/plain": [
       "      Reviews  Size     Installs  up_Genres_art & design  \\\n",
       "4590     1995  92.0     500000.0                       0   \n",
       "5284    10786  21.0    1000000.0                       0   \n",
       "1091  4230886  60.0  100000000.0                       0   \n",
       "4937        6   7.8       1000.0                       0   \n",
       "624      8662  38.0     100000.0                       0   \n",
       "\n",
       "      up_Genres_books & reference  up_Genres_dating  up_Genres_education  \\\n",
       "4590                            0                 0                    0   \n",
       "5284                            0                 0                    0   \n",
       "1091                            0                 0                    0   \n",
       "4937                            0                 0                    1   \n",
       "624                             0                 0                    0   \n",
       "\n",
       "      up_Genres_entertainment  up_Genres_events  up_Genres_personalization  \\\n",
       "4590                        0                 0                          0   \n",
       "5284                        0                 0                          0   \n",
       "1091                        0                 0                          0   \n",
       "4937                        0                 0                          0   \n",
       "624                         0                 0                          0   \n",
       "\n",
       "      up_Genres_puzzle  up_Genres_tools  up_Genres_travel & local  \\\n",
       "4590                 0                0                         0   \n",
       "5284                 0                0                         0   \n",
       "1091                 0                0                         0   \n",
       "4937                 0                0                         0   \n",
       "624                  0                0                         0   \n",
       "\n",
       "      up_Genres_trivia  update_year_2015  update_year_2016  update_year_2017  \\\n",
       "4590                 0                 0                 0                 0   \n",
       "5284                 0                 0                 0                 1   \n",
       "1091                 0                 0                 0                 0   \n",
       "4937                 0                 0                 0                 0   \n",
       "624                  0                 0                 0                 0   \n",
       "\n",
       "      update_year_2018  Type_0  Type_1  \n",
       "4590                 1       1       0  \n",
       "5284                 0       1       0  \n",
       "1091                 1       1       0  \n",
       "4937                 1       1       0  \n",
       "624                  1       1       0  "
      ]
     },
     "execution_count": 43,
     "metadata": {
      "tags": []
     },
     "output_type": "execute_result"
    }
   ],
   "source": [
    "# 선정된 feature 20개 변수에 담기.\r\n",
    "features_20 = ['Reviews', 'Size', 'Installs', 'up_Genres_art & design',\r\n",
    "       'up_Genres_books & reference', 'up_Genres_dating',\r\n",
    "       'up_Genres_education', 'up_Genres_entertainment', 'up_Genres_events',\r\n",
    "       'up_Genres_personalization', 'up_Genres_puzzle', 'up_Genres_tools',\r\n",
    "       'up_Genres_travel & local', 'up_Genres_trivia', 'update_year_2015',\r\n",
    "       'update_year_2016', 'update_year_2017', 'update_year_2018', 'Type_0',\r\n",
    "       'Type_1']\r\n",
    "\r\n",
    "new_X_train = X_train[features_20]\r\n",
    "new_X_test = X_test[features_20]\r\n",
    "\r\n",
    "new_X_train.head()"
   ]
  },
  {
   "cell_type": "code",
   "execution_count": null,
   "metadata": {
    "colab": {
     "base_uri": "https://localhost:8080/"
    },
    "id": "tDnaZjVVzDHg",
    "outputId": "ddcc49ac-121a-4ef1-9226-6284ce9baeb0"
   },
   "outputs": [],
   "source": [
    "num_folds = 5\r\n",
    "seed = 7\r\n",
    "scoring = 'neg_mean_squared_error'\r\n",
    "param_grid = {\r\n",
    "    \"lgbm__n_estimators\" : [10, 20, 30, 50, 100, 200, 300],\r\n",
    "    \"lgbm__learning_rate\" : [i for i in np.linspace(0.1,1, 10)],\r\n",
    "    \"lgbm__num_iteration\" : range(100, 1100, 200)\r\n",
    "    }\r\n",
    "         \r\n",
    "model = lightgbm.LGBMRegressor(objective='regression')\r\n",
    "kfold = KFold(n_splits=num_folds, random_state=seed)\r\n",
    "grid = GridSearchCV(estimator=model, param_grid=param_grid, scoring=scoring, cv=kfold, verbose=3)\r\n",
    "grid_result = grid.fit(new_X_train, y_train)\r\n",
    "print(\"Best: %f using %s\" % (grid_result.best_score_, grid_result.best_params_))\r\n",
    "means = grid_result.cv_results_['mean_test_score']\r\n",
    "stds = grid_result.cv_results_['std_test_score']\r\n",
    "params = grid_result.cv_results_['params']\r\n",
    "for mean, stdev, param in zip(means, stds, params):\r\n",
    "    print(\"%f (%f) with: %r\" % (mean, stdev, param))"
   ]
  },
  {
   "cell_type": "code",
   "execution_count": 48,
   "metadata": {
    "id": "OxFuj-PvzVX5"
   },
   "outputs": [],
   "source": [
    "# 모델 저장\r\n",
    "import pickle\r\n",
    "# Best XGB model that was found based on the metric score you specify\r\n",
    "best_pars = grid.best_params_\r\n",
    "best_model = grid.best_estimator_\r\n",
    "\r\n",
    "# Save model\r\n",
    "pickle.dump(grid.best_estimator_, open(\"xgb_log_reg_selection.pickle\", \"wb\"))\r\n",
    "model = grid.best_estimator_\r\n",
    "\r\n",
    "new_test = test[features_20]\r\n",
    "# 최종 test 예측\r\n",
    "lgb_pred = model.predict(new_test)\r\n",
    "sub = pd.DataFrame()\r\n",
    "sub['Id'] = test_ID\r\n",
    "sub['Rating'] = lgb_pred\r\n",
    "sub.to_csv('submission_3.csv',index=False)"
   ]
  },
  {
   "cell_type": "code",
   "execution_count": 57,
   "metadata": {
    "colab": {
     "base_uri": "https://localhost:8080/"
    },
    "id": "Wh3fJFAt6Xpe",
    "outputId": "661bd672-4b67-4786-bf1b-638c75d19639"
   },
   "outputs": [
    {
     "data": {
      "text/plain": [
       "{'lgbm__learning_rate': 0.1,\n",
       " 'lgbm__n_estimators': 10,\n",
       " 'lgbm__num_iteration': 100}"
      ]
     },
     "execution_count": 57,
     "metadata": {
      "tags": []
     },
     "output_type": "execute_result"
    }
   ],
   "source": [
    "best_pars"
   ]
  },
  {
   "cell_type": "code",
   "execution_count": 73,
   "metadata": {
    "colab": {
     "base_uri": "https://localhost:8080/"
    },
    "id": "7oTXeajd-QR3",
    "outputId": "c6e359b4-1dc5-453f-dd09-3ce9e155a964"
   },
   "outputs": [
    {
     "name": "stdout",
     "output_type": "stream",
     "text": [
      "Averaged base models score: 0.5059 (0.0199)\n"
     ]
    }
   ],
   "source": [
    "results = new_rmse_cv(grid.best_estimator_)\r\n",
    "print(\"Averaged base models score: %.4f (%.4f)\" % (results.mean(), results.std()))"
   ]
  },
  {
   "cell_type": "markdown",
   "metadata": {
    "id": "r7oaD9AX3H1t"
   },
   "source": [
    "베이스라인보다는 우수한 성능을 보여주는 모델이 완성되었습니다.~~\r\n",
    "submission3의 rmse는 \"0.60493\"입니다. 스태킹 모델을 사용하면 더 좋아질 수 있을까요??!"
   ]
  },
  {
   "cell_type": "markdown",
   "metadata": {
    "id": "pGA8MQ1rbDqG"
   },
   "source": [
    "# 3. Stacking models   \n",
    "basic & cv 기반"
   ]
  },
  {
   "cell_type": "code",
   "execution_count": 65,
   "metadata": {
    "id": "s1YXDk0c5qmW"
   },
   "outputs": [],
   "source": [
    "features_20 = ['Reviews', 'Size', 'Installs', 'up_Genres_art & design',\r\n",
    "       'up_Genres_books & reference', 'up_Genres_dating',\r\n",
    "       'up_Genres_education', 'up_Genres_entertainment', 'up_Genres_events',\r\n",
    "       'up_Genres_personalization', 'up_Genres_puzzle', 'up_Genres_tools',\r\n",
    "       'up_Genres_travel & local', 'up_Genres_trivia', 'update_year_2015',\r\n",
    "       'update_year_2016', 'update_year_2017', 'update_year_2018', 'Type_0',\r\n",
    "       'Type_1']\r\n",
    "\r\n",
    "X_train = X_train[features_20]\r\n",
    "X_test = X_test[features_20]\r\n",
    "\r\n",
    "test = test[features_20]"
   ]
  },
  {
   "cell_type": "markdown",
   "metadata": {
    "id": "q2H12DIhbgFM"
   },
   "source": [
    "* Averaged base models class"
   ]
  },
  {
   "cell_type": "code",
   "execution_count": 66,
   "metadata": {
    "id": "areDHI-rbgbA"
   },
   "outputs": [],
   "source": [
    "class AveragingModels(BaseEstimator, RegressorMixin, TransformerMixin):\n",
    "    def __init__(self, models):\n",
    "        self.models = models\n",
    "        \n",
    "    # we define clones of the original models to fit the data in\n",
    "    def fit(self, X_train, y_train):\n",
    "        self.models_ = [clone(x) for x in self.models]\n",
    "        \n",
    "        # Train cloned base models\n",
    "        for model in self.models_:\n",
    "            model.fit(X, y)\n",
    "\n",
    "        return self\n",
    "    \n",
    "    #Now we do the predictions for cloned models and average them\n",
    "    def predict(self, X_test):\n",
    "        predictions = np.column_stack([\n",
    "            model.predict(X_test) for model in self.models_\n",
    "        ])\n",
    "        return np.mean(predictions, axis=1)   "
   ]
  },
  {
   "cell_type": "markdown",
   "metadata": {
    "id": "91xBnO_ybghn"
   },
   "source": [
    "* Averaged base models score  \n",
    "위의 base model score 에서 loss와 분산을 고려해서 lgb, svm, lr, rf를 사용해보겠습니다."
   ]
  },
  {
   "cell_type": "code",
   "execution_count": null,
   "metadata": {
    "id": "3D4KlZEebgqA"
   },
   "outputs": [],
   "source": [
    "# def new_rmse_cv(model):\n",
    "#     rmse = np.sqrt(-cross_val_score(model, X_train.values, y_train, scoring='neg_mean_squared_error', cv=5))\n",
    "#     return (rmse)\n",
    "\n",
    "lr = make_pipeline(RobustScaler(), Lasso())\n",
    "svm = make_pipeline(RobustScaler(),SVR())\n",
    "rf = make_pipeline(RandomForestRegressor())\n",
    "lgb = lightgbm.LGBMRegressor(objective='regression', learning_rate=0.1, n_estimators=10,lgbm__num_iteration=100) \n",
    "\n",
    "averaged_models = AveragingModels(models = (lr, svm, rf, lgb))"
   ]
  },
  {
   "cell_type": "code",
   "execution_count": 71,
   "metadata": {
    "colab": {
     "base_uri": "https://localhost:8080/"
    },
    "id": "09ndkKab916P",
    "outputId": "1154c3d1-a62c-4b68-b5cd-dfd592b943fc"
   },
   "outputs": [
    {
     "name": "stdout",
     "output_type": "stream",
     "text": [
      "Averaged base models score: 0.5059 (0.0199)\n"
     ]
    }
   ],
   "source": [
    "results = np.sqrt(-cross_val_score(model, X_train.values, y_train, scoring='neg_mean_squared_error', cv=5))\n",
    "print(\"Averaged base models score: %.4f (%.4f)\" % (results.mean(), results.std()))"
   ]
  },
  {
   "cell_type": "markdown",
   "metadata": {
    "id": "PsS_UGAd_C7o"
   },
   "source": [
    "성능의 개선이 없습니다."
   ]
  },
  {
   "cell_type": "markdown",
   "metadata": {
    "id": "75aoBVBW5-ga"
   },
   "source": [
    "### Less simple Stacking : Adding a Meta-model  \n",
    "단순 평균 합산이 아닌 meta model 을 학습시켜주는 stacking 방법입니다!  \n",
    "다른 방법을 쓰시거나 직접 구현하셔도 되고 아래의 코드를 쓰셔도 됩니다  \n",
    "사이킷런 라이브러리로는 vecstack 이 있고, keras 를 이용한 방법도 구글링하면 많이 나옵니다!"
   ]
  },
  {
   "cell_type": "code",
   "execution_count": 83,
   "metadata": {
    "id": "J3sFk5Y88ate"
   },
   "outputs": [],
   "source": [
    "from sklearn.ensemble import StackingRegressor"
   ]
  },
  {
   "cell_type": "code",
   "execution_count": 84,
   "metadata": {
    "colab": {
     "base_uri": "https://localhost:8080/"
    },
    "id": "MYe6rMY78nBy",
    "outputId": "111d83ae-83d4-473a-cbf2-2148584de7e9"
   },
   "outputs": [
    {
     "data": {
      "text/plain": [
       "StackingRegressor(cv=10,\n",
       "                  estimators=[('lr',\n",
       "                               Pipeline(memory=None,\n",
       "                                        steps=[('robustscaler',\n",
       "                                                RobustScaler(copy=True,\n",
       "                                                             quantile_range=(25.0,\n",
       "                                                                             75.0),\n",
       "                                                             with_centering=True,\n",
       "                                                             with_scaling=True)),\n",
       "                                               ('lasso',\n",
       "                                                Lasso(alpha=1.0, copy_X=True,\n",
       "                                                      fit_intercept=True,\n",
       "                                                      max_iter=1000,\n",
       "                                                      normalize=False,\n",
       "                                                      positive=False,\n",
       "                                                      precompute=False,\n",
       "                                                      random_state=None,\n",
       "                                                      selection='cyclic',\n",
       "                                                      tol=0.0001,\n",
       "                                                      warm_sta...\n",
       "                                                importance_type='split',\n",
       "                                                learning_rate=0.1,\n",
       "                                                lgbm__num_iteration=100,\n",
       "                                                max_depth=-1,\n",
       "                                                min_child_samples=20,\n",
       "                                                min_child_weight=0.001,\n",
       "                                                min_split_gain=0.0,\n",
       "                                                n_estimators=10, n_jobs=-1,\n",
       "                                                num_leaves=31,\n",
       "                                                objective='regression',\n",
       "                                                random_state=None,\n",
       "                                                reg_alpha=0.0, reg_lambda=0.0,\n",
       "                                                silent=True, subsample=1.0,\n",
       "                                                subsample_for_bin=200000,\n",
       "                                                subsample_freq=0),\n",
       "                  n_jobs=3, passthrough=False, verbose=3)"
      ]
     },
     "execution_count": 84,
     "metadata": {
      "tags": []
     },
     "output_type": "execute_result"
    }
   ],
   "source": [
    "# 파라미터 설정\n",
    "estimators = [\n",
    "              ('lr',lr),\n",
    "              ('svm',svm),\n",
    "              ('rf',rf)\n",
    "]\n",
    "              \n",
    "# Stacking\n",
    "reg = StackingRegressor(\n",
    "    estimators = estimators,\n",
    "    final_estimator = lgb,\n",
    "    cv = 10,\n",
    "    n_jobs=3,\n",
    "    verbose=3\n",
    "    )\n",
    "\n",
    "# fit\n",
    "reg.fit(X_train, y_train)"
   ]
  },
  {
   "cell_type": "code",
   "execution_count": 85,
   "metadata": {
    "colab": {
     "base_uri": "https://localhost:8080/"
    },
    "id": "8lp4HUeo_tV2",
    "outputId": "d54e84b9-c5b7-46de-a6b4-cc1663680de0"
   },
   "outputs": [
    {
     "data": {
      "text/plain": [
       "0.5287580041049396"
      ]
     },
     "execution_count": 85,
     "metadata": {
      "tags": []
     },
     "output_type": "execute_result"
    }
   ],
   "source": [
    "# rmse\n",
    "rmse(y_test,reg.predict(X_test))"
   ]
  },
  {
   "cell_type": "markdown",
   "metadata": {
    "id": "m6BumBpd807W"
   },
   "source": [
    "### Final Training and Prediction  \n"
   ]
  },
  {
   "cell_type": "markdown",
   "metadata": {
    "id": "YZ0WATEsfwOc"
   },
   "source": [
    "* Ensemble prediction"
   ]
  },
  {
   "cell_type": "code",
   "execution_count": 86,
   "metadata": {
    "id": "3PBVY2z6xA4h"
   },
   "outputs": [],
   "source": [
    "ensemble = reg.predict(test.values)"
   ]
  },
  {
   "cell_type": "markdown",
   "metadata": {
    "id": "qYorws6y89V6"
   },
   "source": [
    "* Submission"
   ]
  },
  {
   "cell_type": "code",
   "execution_count": 87,
   "metadata": {
    "id": "TcdolW8grs3r"
   },
   "outputs": [],
   "source": [
    "sub = pd.DataFrame()\n",
    "sub['Id'] = test_ID\n",
    "sub['Rating'] = ensemble\n",
    "sub.to_csv('submission_4.csv',index=False)"
   ]
  },
  {
   "cell_type": "code",
   "execution_count": 88,
   "metadata": {
    "colab": {
     "base_uri": "https://localhost:8080/",
     "height": 199
    },
    "id": "UjzYE1oRqzID",
    "outputId": "2590c4ee-61d4-431e-93a6-df04888fc6f4"
   },
   "outputs": [
    {
     "data": {
      "text/html": [
       "<div>\n",
       "<style scoped>\n",
       "    .dataframe tbody tr th:only-of-type {\n",
       "        vertical-align: middle;\n",
       "    }\n",
       "\n",
       "    .dataframe tbody tr th {\n",
       "        vertical-align: top;\n",
       "    }\n",
       "\n",
       "    .dataframe thead th {\n",
       "        text-align: right;\n",
       "    }\n",
       "</style>\n",
       "<table border=\"1\" class=\"dataframe\">\n",
       "  <thead>\n",
       "    <tr style=\"text-align: right;\">\n",
       "      <th></th>\n",
       "      <th>Id</th>\n",
       "      <th>Rating</th>\n",
       "    </tr>\n",
       "  </thead>\n",
       "  <tbody>\n",
       "    <tr>\n",
       "      <th>0</th>\n",
       "      <td>5617</td>\n",
       "      <td>4.123411</td>\n",
       "    </tr>\n",
       "    <tr>\n",
       "      <th>1</th>\n",
       "      <td>5618</td>\n",
       "      <td>4.136010</td>\n",
       "    </tr>\n",
       "    <tr>\n",
       "      <th>2</th>\n",
       "      <td>5619</td>\n",
       "      <td>4.008722</td>\n",
       "    </tr>\n",
       "    <tr>\n",
       "      <th>3</th>\n",
       "      <td>5620</td>\n",
       "      <td>4.183862</td>\n",
       "    </tr>\n",
       "    <tr>\n",
       "      <th>4</th>\n",
       "      <td>5621</td>\n",
       "      <td>4.357912</td>\n",
       "    </tr>\n",
       "  </tbody>\n",
       "</table>\n",
       "</div>"
      ],
      "text/plain": [
       "     Id    Rating\n",
       "0  5617  4.123411\n",
       "1  5618  4.136010\n",
       "2  5619  4.008722\n",
       "3  5620  4.183862\n",
       "4  5621  4.357912"
      ]
     },
     "execution_count": 88,
     "metadata": {
      "tags": []
     },
     "output_type": "execute_result"
    }
   ],
   "source": [
    "sub.head()"
   ]
  },
  {
   "cell_type": "markdown",
   "metadata": {},
   "source": [
    "sklearn의 StackingRegressor를 이용해서 예측한 결과, \"0.59689\"의 오차를 보였습니다. \n",
    "성능이 향상한 것을 볼 수 있습니다. "
   ]
  },
  {
   "cell_type": "markdown",
   "metadata": {
    "id": "LOD_NBS_Wv5F"
   },
   "source": [
    "* KFold 기반 Stacking"
   ]
  },
  {
   "cell_type": "code",
   "execution_count": 74,
   "metadata": {
    "id": "ab5OYUtdWwIY"
   },
   "outputs": [],
   "source": [
    "def get_stacking_data(model, X_train, y_train, X_test, n_folds=10):\n",
    "  kfold = KFold(n_splits = n_folds, random_state = 1004)\n",
    "  \n",
    "  # 최종 모델에서 사용할 데이터 셋 세팅 (0 값으로)\n",
    "  # 만약 shape가 (100,10)이었으면 폴드의 검증 과정 중 저장할 데이터는 (100,1)으로 한다.\n",
    "  train_fold_predict = np.zeros((X_train.shape[0],1))\n",
    "  # test 는 X_test 값을 이용해서 매 폴드마다 예측을 하기 때문에 (100, fold갯수) 모양이다.\n",
    "  # 해당 폴드마다 X_test의 예측 값을 fold 에 넣는다! meta model 이 쓸꺼임\n",
    "  test_predict = np.zeros((X_test.shape[0], n_folds))\n",
    "  print('model : ',model.__class__.__name__)\n",
    "  \n",
    "  for cnt, (train_index, valid_index) in enumerate(kfold.split(X_train)):\n",
    "    X_train_ = X_train.iloc[train_index]\n",
    "    y_train_ = y_train.iloc[train_index]\n",
    "    X_valid = X_train.iloc[valid_index]\n",
    "\n",
    "    # 학습\n",
    "    model.fit(X_train_,y_train_)\n",
    "    # 해당 폴드에서 학습된 모델에다가 검증 데이터 (X_valid)로 예측 후 저장\n",
    "    train_fold_predict[valid_index,:] = model.predict(X_valid).reshape(-1,1)\n",
    "    # 해당 폴드에서 생성된 모델에게 원본 테스트 데이터 (X_test)를 이용해서 예측하고 저장\n",
    "    test_predict[:,cnt] = model.predict(X_test)\n",
    "  \n",
    "  # for 문이 끝나면 test_pred는 평균을 내서 하나로 합친다.\n",
    "  test_predict_mean = np.mean(test_predict, axis=1).reshape(-1,1)\n",
    "  \n",
    "  return train_fold_predict, test_predict_mean"
   ]
  },
  {
   "cell_type": "code",
   "execution_count": 75,
   "metadata": {
    "colab": {
     "base_uri": "https://localhost:8080/"
    },
    "id": "on-MwJWgZnde",
    "outputId": "85d092bb-fc12-4b2a-db11-688db87fa468"
   },
   "outputs": [
    {
     "name": "stdout",
     "output_type": "stream",
     "text": [
      "model :  Pipeline\n",
      "model :  Pipeline\n",
      "model :  Pipeline\n"
     ]
    }
   ],
   "source": [
    "# 앙상블 수행 lr, svm, rf ->  lgb\n",
    "dt_train, dt_test = get_stacking_data(rf, X_train, y_train, X_test)\n",
    "svm_train, svm_test = get_stacking_data(svm, X_train, y_train, X_test)\n",
    "lr_train, lr_test = get_stacking_data(lr, X_train, y_train, X_test)"
   ]
  },
  {
   "cell_type": "code",
   "execution_count": 76,
   "metadata": {
    "colab": {
     "base_uri": "https://localhost:8080/"
    },
    "id": "TJNKko0ZcMeU",
    "outputId": "7e9a0bdc-83fc-4363-e150-f1f6d4f5eb58"
   },
   "outputs": [
    {
     "name": "stdout",
     "output_type": "stream",
     "text": [
      "원본 :  (3912, 20) (1677, 20)\n",
      "새로운 :  (3912, 3) (1677, 3)\n"
     ]
    }
   ],
   "source": [
    "# return 된 kfold 결과와 X_test 결과를 skacking\n",
    "new_X_train = np.concatenate((dt_train,svm_train,lr_train), axis=1)\n",
    "new_X_test = np.concatenate((dt_test,svm_test,lr_test), axis=1)\n",
    "\n",
    "print('원본 : ', X_train.shape, X_test.shape)\n",
    "print('새로운 : ', new_X_train.shape, new_X_test.shape)"
   ]
  },
  {
   "cell_type": "code",
   "execution_count": 78,
   "metadata": {
    "colab": {
     "base_uri": "https://localhost:8080/"
    },
    "id": "bDQTa3A_cMu-",
    "outputId": "1c7c8011-fb0b-475d-8f26-a67f49403814"
   },
   "outputs": [
    {
     "name": "stdout",
     "output_type": "stream",
     "text": [
      "\n",
      " Final score: 0.5312\n"
     ]
    }
   ],
   "source": [
    "# 최종 모델 훈련\n",
    "lgb.fit(new_X_train,y_train)\n",
    "stack_pred = lgb.predict(new_X_test)\n",
    "\n",
    "print(\"\\n Final score: {:.4f}\".format(rmse(y_test,stack_pred)))"
   ]
  },
  {
   "cell_type": "code",
   "execution_count": null,
   "metadata": {
    "id": "A8DveQpLCs6h"
   },
   "outputs": [],
   "source": [
    "ensemble = reg.predict(test.values)\r\n",
    "sub = pd.DataFrame()\r\n",
    "sub['Id'] = test_ID\r\n",
    "sub['Rating'] = ensemble\r\n",
    "sub.to_csv('submission_4.csv',index=False)"
   ]
  },
  {
   "cell_type": "code",
   "execution_count": null,
   "metadata": {
    "id": "D0fvKDvDEK6g"
   },
   "outputs": [],
   "source": [
    "###########################################################################################"
   ]
  }
 ],
 "metadata": {
  "accelerator": "GPU",
  "colab": {
   "collapsed_sections": [],
   "name": "[15기_week4]Assignment_Ensemble_Kaggle_Competition.ipynb",
   "provenance": []
  },
  "kernelspec": {
   "display_name": "Python 3",
   "language": "python",
   "name": "python3"
  },
  "language_info": {
   "codemirror_mode": {
    "name": "ipython",
    "version": 3
   },
   "file_extension": ".py",
   "mimetype": "text/x-python",
   "name": "python",
   "nbconvert_exporter": "python",
   "pygments_lexer": "ipython3",
   "version": "3.7.4"
  }
 },
 "nbformat": 4,
 "nbformat_minor": 4
}
