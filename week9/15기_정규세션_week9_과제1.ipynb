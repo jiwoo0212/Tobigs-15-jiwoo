{
 "cells": [
  {
   "cell_type": "markdown",
   "metadata": {
    "id": "ytaWF9tLFQ0T"
   },
   "source": [
    "# Week 9 과제 1"
   ]
  },
  {
   "cell_type": "markdown",
   "metadata": {
    "id": "Btozx60gSkCX"
   },
   "source": [
    "**잎 사진을 통한 질병 분류**\n",
    "\n",
    "*   데이터: 21개의 클래스로 구분된 약 20000장의 이미지\n",
    "><img src=\"https://drive.google.com/uc?id=1YQkxnNy61Gyi3Gp6ylCKeS72BVruJXr_\" width=\"700\" height=\"500\"> \n",
    "*   데이터 전처리\n",
    "    *   전체 데이터를 train,validation,test로 분할해주세요\n",
    "    *   저는 6:2:2로 분할했는데, 비율은 바꾸셔도 무방합니다.\n",
    "   \n",
    "    \n",
    "*   학습 진행 방향\n",
    "    *   Baseline 모델(pre-trained model 사용X) 구축\n",
    "    *   Pre-trained 모델 사용\n",
    "    *   Baseline과 ResNet50 모델의 성능을 비교해주세요 ~!"
   ]
  },
  {
   "cell_type": "code",
   "execution_count": 2,
   "metadata": {
    "colab": {
     "base_uri": "https://localhost:8080/"
    },
    "id": "LSXsUPLeJYmh",
    "outputId": "d4c66aee-a2a8-4a91-b4ab-cdd0d29e1002"
   },
   "outputs": [],
   "source": [
    "# # gdrive에 mount\n",
    "# from google.colab import drive\n",
    "# drive.mount('/content/gdrive')\n",
    "# # 경로 설정\n",
    "# import os\n",
    "# os.chdir('/content/gdrive/My Drive/')"
   ]
  },
  {
   "cell_type": "markdown",
   "metadata": {
    "id": "IchWiK1ZFQ0X"
   },
   "source": [
    "## 0. 데이터 분할"
   ]
  },
  {
   "cell_type": "markdown",
   "metadata": {
    "id": "9jEtmXkaFQ0Z"
   },
   "source": [
    "* 데이터 분할을 위한 디렉토리 생성"
   ]
  },
  {
   "cell_type": "code",
   "execution_count": 4,
   "metadata": {
    "id": "8fG-dk2dFQ0Z"
   },
   "outputs": [],
   "source": [
    "import os\n",
    "import shutil\n",
    " \n",
    "original_dataset_dir = './dataset'   \n",
    "classes_list = os.listdir(original_dataset_dir) \n",
    " \n",
    "base_dir = './splitted' \n",
    "os.mkdir(base_dir)\n",
    " \n",
    "train_dir = os.path.join(base_dir, 'train') \n",
    "os.mkdir(train_dir)\n",
    "validation_dir = os.path.join(base_dir, 'val')\n",
    "os.mkdir(validation_dir)\n",
    "test_dir = os.path.join(base_dir, 'test')\n",
    "os.mkdir(test_dir)\n",
    "\n",
    "for cls in classes_list:     \n",
    "    os.mkdir(os.path.join(train_dir, cls))\n",
    "    os.mkdir(os.path.join(validation_dir, cls))\n",
    "    os.mkdir(os.path.join(test_dir, cls))"
   ]
  },
  {
   "cell_type": "markdown",
   "metadata": {
    "id": "4oQyurQ6FQ0a"
   },
   "source": [
    "* 데이터 분할과 클래스별 데이터 수 확인"
   ]
  },
  {
   "cell_type": "code",
   "execution_count": 5,
   "metadata": {
    "id": "g1nrkw0nFQ0b"
   },
   "outputs": [
    {
     "name": "stdout",
     "output_type": "stream",
     "text": [
      "Train size( Apple___Apple_scab ):  378\n",
      "Validation size( Apple___Apple_scab ):  126\n",
      "Test size( Apple___Apple_scab ):  126\n",
      "Train size( Apple___Black_rot ):  372\n",
      "Validation size( Apple___Black_rot ):  124\n",
      "Test size( Apple___Black_rot ):  124\n",
      "Train size( Apple___Cedar_apple_rust ):  165\n",
      "Validation size( Apple___Cedar_apple_rust ):  55\n",
      "Test size( Apple___Cedar_apple_rust ):  55\n",
      "Train size( Apple___healthy ):  987\n",
      "Validation size( Apple___healthy ):  329\n",
      "Test size( Apple___healthy ):  329\n",
      "Train size( Cherry___healthy ):  512\n",
      "Validation size( Cherry___healthy ):  170\n",
      "Test size( Cherry___healthy ):  170\n",
      "Train size( Cherry___Powdery_mildew ):  631\n",
      "Validation size( Cherry___Powdery_mildew ):  210\n",
      "Test size( Cherry___Powdery_mildew ):  210\n",
      "Train size( Corn___Cercospora_leaf_spot Gray_leaf_spot ):  307\n",
      "Validation size( Corn___Cercospora_leaf_spot Gray_leaf_spot ):  102\n",
      "Test size( Corn___Cercospora_leaf_spot Gray_leaf_spot ):  102\n",
      "Train size( Corn___Common_rust ):  715\n",
      "Validation size( Corn___Common_rust ):  238\n",
      "Test size( Corn___Common_rust ):  238\n",
      "Train size( Corn___healthy ):  697\n",
      "Validation size( Corn___healthy ):  232\n",
      "Test size( Corn___healthy ):  232\n",
      "Train size( Corn___Northern_Leaf_Blight ):  591\n",
      "Validation size( Corn___Northern_Leaf_Blight ):  197\n",
      "Test size( Corn___Northern_Leaf_Blight ):  197\n",
      "Train size( Grape___Black_rot ):  708\n",
      "Validation size( Grape___Black_rot ):  236\n",
      "Test size( Grape___Black_rot ):  236\n",
      "Train size( Grape___Esca_(Black_Measles) ):  829\n",
      "Validation size( Grape___Esca_(Black_Measles) ):  276\n",
      "Test size( Grape___Esca_(Black_Measles) ):  276\n",
      "Train size( Grape___healthy ):  253\n",
      "Validation size( Grape___healthy ):  84\n",
      "Test size( Grape___healthy ):  84\n",
      "Train size( Grape___Leaf_blight_(Isariopsis_Leaf_Spot) ):  645\n",
      "Validation size( Grape___Leaf_blight_(Isariopsis_Leaf_Spot) ):  215\n",
      "Test size( Grape___Leaf_blight_(Isariopsis_Leaf_Spot) ):  215\n",
      "Train size( Pepper,_bell___Bacterial_spot ):  598\n",
      "Validation size( Pepper,_bell___Bacterial_spot ):  199\n",
      "Test size( Pepper,_bell___Bacterial_spot ):  199\n",
      "Train size( Pepper,_bell___healthy ):  886\n",
      "Validation size( Pepper,_bell___healthy ):  295\n",
      "Test size( Pepper,_bell___healthy ):  295\n",
      "Train size( Potato___Early_blight ):  600\n",
      "Validation size( Potato___Early_blight ):  200\n",
      "Test size( Potato___Early_blight ):  200\n",
      "Train size( Potato___healthy ):  91\n",
      "Validation size( Potato___healthy ):  30\n",
      "Test size( Potato___healthy ):  30\n",
      "Train size( Potato___Late_blight ):  600\n",
      "Validation size( Potato___Late_blight ):  200\n",
      "Test size( Potato___Late_blight ):  200\n",
      "Train size( Strawberry___healthy ):  273\n",
      "Validation size( Strawberry___healthy ):  91\n",
      "Test size( Strawberry___healthy ):  91\n",
      "Train size( Strawberry___Leaf_scorch ):  665\n",
      "Validation size( Strawberry___Leaf_scorch ):  221\n",
      "Test size( Strawberry___Leaf_scorch ):  221\n"
     ]
    }
   ],
   "source": [
    "import math\n",
    " \n",
    "for cls in classes_list:\n",
    "    path = os.path.join(original_dataset_dir, cls)\n",
    "    fnames = os.listdir(path)\n",
    " \n",
    "    train_size = math.floor(len(fnames) * 0.6)\n",
    "    validation_size = math.floor(len(fnames) * 0.2)\n",
    "    test_size = math.floor(len(fnames) * 0.2)\n",
    "    \n",
    "    train_fnames = fnames[:train_size]\n",
    "    print(\"Train size(\",cls,\"): \", len(train_fnames))\n",
    "    for fname in train_fnames:\n",
    "        src = os.path.join(path, fname)\n",
    "        dst = os.path.join(os.path.join(train_dir, cls), fname)\n",
    "        shutil.copyfile(src, dst)\n",
    "        \n",
    "    validation_fnames = fnames[train_size:(validation_size + train_size)]\n",
    "    print(\"Validation size(\",cls,\"): \", len(validation_fnames))\n",
    "    for fname in validation_fnames:\n",
    "        src = os.path.join(path, fname)\n",
    "        dst = os.path.join(os.path.join(validation_dir, cls), fname)\n",
    "        shutil.copyfile(src, dst)\n",
    "        \n",
    "    test_fnames = fnames[(train_size+validation_size):(validation_size + train_size +test_size)]\n",
    "\n",
    "    print(\"Test size(\",cls,\"): \", len(test_fnames))\n",
    "    for fname in test_fnames:\n",
    "        src = os.path.join(path, fname)\n",
    "        dst = os.path.join(os.path.join(test_dir, cls), fname)\n",
    "        shutil.copyfile(src, dst)\n"
   ]
  },
  {
   "cell_type": "markdown",
   "metadata": {
    "id": "PZDnksn0FQ0c"
   },
   "source": [
    "## 1. 베이스라인 모델을 구축해 주세요\n",
    "* Pre-Trained Model을 사용하지 않고 직접 모델을 구축해 주세요 !\n"
   ]
  },
  {
   "cell_type": "code",
   "execution_count": 6,
   "metadata": {
    "id": "Cm7kPbfsFQ0d"
   },
   "outputs": [],
   "source": [
    "import torch\n",
    "import os\n",
    " \n",
    "USE_CUDA = torch.cuda.is_available()\n",
    "DEVICE = torch.device(\"cuda\" if USE_CUDA else \"cpu\")\n",
    "BATCH_SIZE = 256 \n",
    "EPOCH = 30 "
   ]
  },
  {
   "cell_type": "code",
   "execution_count": 8,
   "metadata": {
    "id": "Hl_j5EzoFQ0d"
   },
   "outputs": [],
   "source": [
    "import torchvision.transforms as transforms\n",
    "from torchvision.datasets import ImageFolder \n",
    " \n",
    "transform_base = transforms.Compose([transforms.Resize((64,64)),transforms.ToTensor()]) \n",
    "train_dataset = ImageFolder(root='./splitted/train', transform=transform_base) \n",
    "val_dataset = ImageFolder(root='./splitted/val', transform=transform_base)"
   ]
  },
  {
   "cell_type": "code",
   "execution_count": 9,
   "metadata": {
    "id": "djFeShktFQ0d"
   },
   "outputs": [],
   "source": [
    "from torch.utils.data import DataLoader\n",
    "\n",
    "train_loader = torch.utils.data.DataLoader(train_dataset, batch_size=BATCH_SIZE, shuffle=True, num_workers=4)\n",
    "val_loader = torch.utils.data.DataLoader(val_dataset,batch_size=BATCH_SIZE, shuffle=True, num_workers=4)"
   ]
  },
  {
   "cell_type": "markdown",
   "metadata": {
    "id": "ZDEhzqZRFQ0e"
   },
   "source": [
    "* 베이스라인 모델 설계하기"
   ]
  },
  {
   "cell_type": "code",
   "execution_count": null,
   "metadata": {
    "id": "KJE-jG9UFQ0e"
   },
   "outputs": [],
   "source": [
    "import torch.nn as nn\n",
    "import torch.nn.functional as F\n",
    "import torch.optim as optim\n",
    " \n",
    "class Net(nn.Module): \n",
    "  \n",
    "    def __init__(self): \n",
    "    \n",
    "        super(Net, self).__init__() \n",
    "\n",
    "        \"코드 작성해주세요\"\n",
    "    \n",
    "    def forward(self, x):  \n",
    "\n",
    "        \"코드 작성해주세요\"\n",
    "\n",
    "        return F.log_softmax(x, dim=1)  \n",
    "\n",
    "model_base = Net().to(DEVICE)  \n",
    "optimizer = optim.Adam(model_base.parameters(), lr=0.001) "
   ]
  },
  {
   "cell_type": "markdown",
   "metadata": {
    "id": "LowbXUGKFQ0e"
   },
   "source": [
    "* 모델 학습을 위한 함수\n",
    "* 모델 학습, 평가를 위한 가이드라인 코드입니다. 꼭 이 코드를 사용하지는 않으셔도 됩니다 !!"
   ]
  },
  {
   "cell_type": "code",
   "execution_count": null,
   "metadata": {
    "id": "2GL1mNqzFQ0f"
   },
   "outputs": [],
   "source": [
    "def train(model, train_loader, optimizer):\n",
    "    model.\"코드 작성해주세요\"  \n",
    "    for batch_idx, (data, target) in enumerate(train_loader):\n",
    "        data, target = data.to(DEVICE), target.to(DEVICE) \n",
    "        optimizer.\"코드 작성해주세요\" \n",
    "        output = \"코드 작성해주세요\"  \n",
    "        loss = \"코드 작성해주세요\"  #Cross Entropy Loss 사용했습니다\n",
    "        \"코드 작성해주세요\"\n",
    "        \"코드 작성해주세요\" "
   ]
  },
  {
   "cell_type": "markdown",
   "metadata": {
    "id": "eqvOveaxFQ0f"
   },
   "source": [
    "* 모델 평가를 위한 함수"
   ]
  },
  {
   "cell_type": "code",
   "execution_count": null,
   "metadata": {
    "id": "Ncm8J6v4FQ0f"
   },
   "outputs": [],
   "source": [
    "def evaluate(model, test_loader):\n",
    "    model.\"코드 작성해주세요\" \n",
    "    test_loss = 0 \n",
    "    correct = 0   \n",
    "    \n",
    "    with torch.no_grad(): \n",
    "        for data, target in test_loader:  \n",
    "            data, target = data.to(DEVICE), target.to(DEVICE)  \n",
    "            output = \"코드 작성해주세요\" \n",
    "            \n",
    "            test_loss += F.cross_entropy(output,target, reduction='sum').item() \n",
    " \n",
    "            \n",
    "            pred = output.max(1, keepdim=True)[1]\n",
    "            correct += pred.eq(target.view_as(pred)).sum().item() \n",
    "   \n",
    "    test_loss /= len(test_loader.dataset) \n",
    "    test_accuracy = 100. * correct / len(test_loader.dataset) \n",
    "    return test_loss, test_accuracy  "
   ]
  },
  {
   "cell_type": "markdown",
   "metadata": {
    "id": "us-wigmEFQ0g"
   },
   "source": [
    "* 모델 학습을 실행하기"
   ]
  },
  {
   "cell_type": "code",
   "execution_count": null,
   "metadata": {
    "id": "J_hvkStsFQ0g"
   },
   "outputs": [],
   "source": [
    "import time\n",
    "import copy\n",
    " \n",
    "def train_baseline(model ,train_loader, val_loader, optimizer,num_epochs = 30):\n",
    "    best_acc = 0.0  \n",
    "    best_model_wts = copy.deepcopy(model.state_dict()) \n",
    " \n",
    "    for epoch in range(1, num_epochs + 1):\n",
    "        since = time.time()  \n",
    "        train(\"코드 작성해주세요\")\n",
    "        train_loss, train_acc = \"코드 작성해주세요\"\n",
    "        val_loss, val_acc = \"코드 작성해주세요\"\n",
    "        \n",
    "        if \"코드 작성해주세요\": \n",
    "            best_acc = val_acc \n",
    "            best_model_wts = copy.deepcopy(model.state_dict())\n",
    "        \n",
    "        time_elapsed = time.time() - since \n",
    "        print('-------------- epoch {} ----------------'.format(epoch))\n",
    "        print('train Loss: {:.4f}, Accuracy: {:.2f}%'.format(train_loss, train_acc))   \n",
    "        print('val Loss: {:.4f}, Accuracy: {:.2f}%'.format(val_loss, val_acc))\n",
    "        print('Completed in {:.0f}m {:.0f}s'.format(time_elapsed // 60, time_elapsed % 60)) \n",
    "\n",
    "    model.load_state_dict(best_model_wts)  \n",
    "    return model\n",
    " \n",
    "\n",
    "base = train_baseline(\"코드 작성해주세요\")  \t\n",
    "torch.save(base,'baseline.pt')"
   ]
  },
  {
   "cell_type": "markdown",
   "metadata": {
    "id": "8mV-CQwZFQ0h"
   },
   "source": [
    "## 2. Transfer Learning 모델 학습"
   ]
  },
  {
   "cell_type": "markdown",
   "metadata": {
    "id": "IDoeutltFQ0h"
   },
   "source": [
    "* Transfer Learning을 위한 준비\n",
    "* Transfer Learning이 익숙하지 않으신 분들은 PyTorch에서 제공하는 https://9bow.github.io/PyTorch-tutorials-kr-0.3.1/beginner/transfer_learning_tutorial.html 을 참고하세요 :)"
   ]
  },
  {
   "cell_type": "code",
   "execution_count": null,
   "metadata": {
    "id": "so4pOWIqFQ0i"
   },
   "outputs": [],
   "source": [
    "data_transforms = {\n",
    "    'train': transforms.Compose([transforms.Resize([64,64]), \n",
    "        '이 부분에   #Data Augmentation도 진행해주세요 !!'\n",
    "    \n",
    "        transforms.Normalize([0.485, 0.456, 0.406], [0.229, 0.224, 0.225]) ]),\n",
    "    \n",
    "    'val': transforms.Compose([transforms.Resize([64,64]),  \n",
    "        'validation 데이터는 Test 데이터와 동일한 조건이어야 합니다.'\n",
    "        'validation에 맞는 전처리를 수행해 주세요',\n",
    "        transforms.Normalize([0.485, 0.456, 0.406], [0.229, 0.224, 0.225]) ])\n",
    "}"
   ]
  },
  {
   "cell_type": "markdown",
   "metadata": {
    "id": "c6Tbg8YzFQ0j"
   },
   "source": [
    "### Pre-Trained Model 불러오기\n",
    "- 저는 ResNet50을 사용했는데, 코랩 기준으로 다른 ResNet계열이나 DenseNet 정도까지는 큰 무리 없이 훈련할 수 있습니다. Unfreeze layer 수가 적으면 다른 모델도 사용할 수 있을 것입니다.\n",
    "- 한 가지 모델을 선택해서 Transfer Learning을 해 주세요 !!"
   ]
  },
  {
   "cell_type": "code",
   "execution_count": null,
   "metadata": {
    "id": "E3CwSwMWFQ0j"
   },
   "outputs": [],
   "source": [
    "from torchvision import models\n",
    " \n",
    "resnet = models.resnet50(pretrained=True)  \n",
    "num_ftrs = resnet.fc.in_features   \n",
    "resnet.fc = nn.Linear(\"코드 작성해주세요\", \"코드 작성해주세요\") \n",
    "resnet = resnet.to(DEVICE)\n",
    " \n",
    "criterion = nn.CrossEntropyLoss() \n",
    "optimizer_ft = optim.Adam(filter(lambda p: p.requires_grad, resnet.parameters()), lr=0.001)\n",
    " \n",
    "from torch.optim import lr_scheduler  #scheduler는 사용하지 않으셔도 됩니다 (선택사항)\n",
    "exp_lr_scheduler = lr_scheduler.StepLR(optimizer_ft, step_size=7, gamma=0.1)  #7에폭마다 learning rate를 조절하는 역할을 합니다"
   ]
  },
  {
   "cell_type": "markdown",
   "metadata": {
    "id": "aQoS058cFQ0k"
   },
   "source": [
    "* Pre-Trained Model의 일부 Layer Freeze하기 (resnet 기준입니다 !!)"
   ]
  },
  {
   "cell_type": "code",
   "execution_count": null,
   "metadata": {
    "id": "TXzgnWxkFQ0k"
   },
   "outputs": [],
   "source": [
    "ct = 0 \n",
    "for child in resnet.children():  \n",
    "    ct+= 1  \n",
    "    if ct < 6: \n",
    "        for param in child.parameters():\n",
    "            param.requires_grad = False"
   ]
  },
  {
   "cell_type": "markdown",
   "metadata": {
    "id": "NWdXTYBaFQ0l"
   },
   "source": [
    "* Fine Tuning을 진행해주세요 ~!"
   ]
  },
  {
   "cell_type": "code",
   "execution_count": null,
   "metadata": {
    "id": "q80q_1MYRdZk"
   },
   "outputs": [],
   "source": []
  },
  {
   "cell_type": "code",
   "execution_count": null,
   "metadata": {
    "id": "YKNH31LuRdi2"
   },
   "outputs": [],
   "source": []
  },
  {
   "cell_type": "code",
   "execution_count": null,
   "metadata": {
    "id": "kZ9FK199Rdyd"
   },
   "outputs": [],
   "source": []
  },
  {
   "cell_type": "markdown",
   "metadata": {
    "id": "5ZXgc0G_FQ0m"
   },
   "source": [
    "## 모델 평가"
   ]
  },
  {
   "cell_type": "markdown",
   "metadata": {
    "id": "_Q42vR5_FQ0n"
   },
   "source": [
    "* 모델 평가를 위해서는 평가 데이터 또한 전처리를 해주어야 합니다.\n",
    "* validation 데이터와 동일하게 전처리를 해 주세요 ~!!"
   ]
  },
  {
   "cell_type": "markdown",
   "metadata": {
    "id": "lr5LkMzMRxVk"
   },
   "source": [
    "* 베이스라인 모델 평가를 위한 전처리하기"
   ]
  },
  {
   "cell_type": "code",
   "execution_count": null,
   "metadata": {
    "id": "3EfLf3GOFQ0n"
   },
   "outputs": [],
   "source": [
    "transform_base = transforms.Compose([\"채워주세요\"])\n",
    "test_base = ImageFolder(root='./splitted/test',transform=transform_base)  \n",
    "test_loader_base = torch.utils.data.DataLoader(test_base, batch_size=BATCH_SIZE, shuffle=True, num_workers=4)"
   ]
  },
  {
   "cell_type": "markdown",
   "metadata": {
    "id": "KISksPR3FQ0n"
   },
   "source": [
    "* Transfer Learning모델 평가를 위한 전처리하기"
   ]
  },
  {
   "cell_type": "code",
   "execution_count": null,
   "metadata": {
    "id": "8BTGBjTzFQ0n"
   },
   "outputs": [],
   "source": [
    "transform_resNet = transforms.Compose([\n",
    "        transforms.Resize([64,64]),  \n",
    "        \"채워주세요\"\n",
    "        transforms.Normalize([0.485, 0.456, 0.406], [0.229, 0.224, 0.225]) \n",
    "    ])\n",
    "    \n",
    "test_resNet = ImageFolder(root='./splitted/test', transform=transform_resNet) \n",
    "test_loader_resNet = torch.utils.data.DataLoader(test_resNet,batch_size=BATCH_SIZE, shuffle=True, num_workers=4)"
   ]
  },
  {
   "cell_type": "markdown",
   "metadata": {
    "id": "-J4OJRfCSrrM"
   },
   "source": [
    "### 성능 평가하기\n",
    "* 저는 여기서 accuracy만을 평가했지만, 분류 모델이기에 다양한 방법의 평가가 가능합니다.\n",
    "* Confusion Matrix를 이용한 비교도 가능하고, 한 작물에 해당하는 클래스가 여러개인 다중 분류에서 F1-score를 계산하는것도 의미가 있을 것입니다. \n",
    "* 다양한 시도를 하시는 분께 가산점 드리겠습니다 :):)"
   ]
  },
  {
   "cell_type": "markdown",
   "metadata": {
    "id": "wGFNIsYfFQ0o"
   },
   "source": [
    "* 베이스라인 모델 성능 평가하기"
   ]
  },
  {
   "cell_type": "code",
   "execution_count": null,
   "metadata": {
    "id": "zsJCTvboFQ0o"
   },
   "outputs": [],
   "source": [
    "baseline=torch.load('baseline.pt') \n",
    "baseline.eval()  \n",
    "test_loss, test_accuracy = evaluate(baseline, test_loader)\n",
    "\n",
    "print('test acc:  ', test_accuracy)"
   ]
  },
  {
   "cell_type": "markdown",
   "metadata": {
    "id": "Guqq1ZHiFQ0o"
   },
   "source": [
    "* Transfer Learning 모델 성능 평가하기"
   ]
  },
  {
   "cell_type": "code",
   "execution_count": null,
   "metadata": {
    "id": "nxfqIEkeFQ0o"
   },
   "outputs": [],
   "source": [
    "resnet50=torch.load('resnet50.pt') \n",
    "resnet50.eval()  \n",
    "test_loss, test_accuracy = evaluate(resnet50, test_loader_resNet)\n",
    "\n",
    "print('test acc:  ', test_accuracy)"
   ]
  },
  {
   "cell_type": "markdown",
   "metadata": {
    "id": "y8wZSpB6R7c1"
   },
   "source": [
    "* 두 모델의 성능을 비교 평가하는 설명을 작성해주세요 ~!!"
   ]
  },
  {
   "cell_type": "code",
   "execution_count": null,
   "metadata": {
    "id": "H4MLZitKR_Y7"
   },
   "outputs": [],
   "source": []
  }
 ],
 "metadata": {
  "colab": {
   "collapsed_sections": [
    "IchWiK1ZFQ0X"
   ],
   "name": "15기_정규세션_week9.ipynb",
   "provenance": []
  },
  "kernelspec": {
   "display_name": "Python 3",
   "language": "python",
   "name": "python3"
  },
  "language_info": {
   "codemirror_mode": {
    "name": "ipython",
    "version": 3
   },
   "file_extension": ".py",
   "mimetype": "text/x-python",
   "name": "python",
   "nbconvert_exporter": "python",
   "pygments_lexer": "ipython3",
   "version": "3.7.4"
  }
 },
 "nbformat": 4,
 "nbformat_minor": 4
}
