{
 "cells": [
  {
   "cell_type": "markdown",
   "metadata": {},
   "source": [
    "시계열 모형 및 이론을 배워야한다고 생각합니다. \n",
    "\n",
    "A comparison or ARIMA and LSTM in Forecasting Time 논문에서는 \n",
    "\n",
    "LSTM모델과 ARIMA모델을 이용해 주식 데이터를 예측하고, 성능을 비교했습니다."
   ]
  },
  {
   "cell_type": "markdown",
   "metadata": {},
   "source": [
    "![nn](논문.png)"
   ]
  },
  {
   "cell_type": "markdown",
   "metadata": {},
   "source": [
    "성능지표인 RMSE가 LSTM이 거의 대부분 훨씬 높은 것을 볼 수 있습니다. \n",
    "\n",
    "상품의 판매량 시계열 데이터를 예측하는 ARIMA vs LSTM vs PROPHET 세가지 모델을 비교한 글도 있었는데요. \n",
    "\n",
    "한번도 학습에 사용된 적이 없는 미래의 데이터를 예측한 결과는 아래와 같았습니다. 관심을 둔 부분은 1월의 판매량이 급증하는 것을 잘 예측하느냐였습니다."
   ]
  },
  {
   "cell_type": "markdown",
   "metadata": {},
   "source": [
    "![nn](ARIMA.png)"
   ]
  },
  {
   "cell_type": "markdown",
   "metadata": {},
   "source": [
    "위와 같이 ARIMA는 평소 경향보다 낮게 예측하며, 1월의 판매량 급증을 잡아내지 못했습니다."
   ]
  },
  {
   "cell_type": "markdown",
   "metadata": {},
   "source": [
    "![nn](LSTM.png)"
   ]
  },
  {
   "cell_type": "markdown",
   "metadata": {},
   "source": [
    "LSTM 모델은 앞의 두 년도의 흐름과 비슷하게 1월의 판매량이 급격하게 증가하는 패턴으로 예측하는 것을 볼 수 있습니다."
   ]
  },
  {
   "cell_type": "markdown",
   "metadata": {},
   "source": [
    "![nn](PROPHET.png)"
   ]
  },
  {
   "cell_type": "markdown",
   "metadata": {},
   "source": [
    "Prophet 모델은 lstm 모델보다는 보수적으로 예측하는 경향을 보였습니다. 1월에 판매량이 증가하는 패턴이나, 급격한 흐름새를 보이진 않습니다. \n",
    "\n",
    "결론적으로 대부분 lstm 모델이 전통적인 시계열 모델보다 좋은 성능을 보이긴 하나, \n",
    "\n",
    "예측하려는 도메인에 따라서 매우 다른 성능을 보일 수 있기때문에 꼭 딥러닝 모델이 정답은 아니며, 여러 모델을 시도한 후 비교하는 것이 좋을 것입니다."
   ]
  },
  {
   "cell_type": "markdown",
   "metadata": {},
   "source": [
    "참고 논문: A comparison or ARIMA and LSTM in Forecasting Time Series_Sima Siami-Namini,Neda Tavakoli,Akbar Siami Namin\n",
    "참고글: https://medium.com/analytics-vidhya/time-series-forecasting-arima-vs-lstm-vs-prophet-62241c203a3b, \n",
    "https://www.kaggle.com/questions-and-answers/168789"
   ]
  }
 ],
 "metadata": {
  "kernelspec": {
   "display_name": "Python 3",
   "language": "python",
   "name": "python3"
  },
  "language_info": {
   "codemirror_mode": {
    "name": "ipython",
    "version": 3
   },
   "file_extension": ".py",
   "mimetype": "text/x-python",
   "name": "python",
   "nbconvert_exporter": "python",
   "pygments_lexer": "ipython3",
   "version": "3.7.4"
  }
 },
 "nbformat": 4,
 "nbformat_minor": 4
}
