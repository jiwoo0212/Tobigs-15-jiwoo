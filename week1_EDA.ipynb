{
 "cells": [
  {
   "cell_type": "markdown",
   "metadata": {},
   "source": [
    "# 투빅스 15기 정규세션 Week1 EDA - 15기 강지우"
   ]
  },
  {
   "cell_type": "code",
   "execution_count": null,
   "metadata": {},
   "outputs": [],
   "source": [
    "import pandas as pd\n",
    "import numpy as np\n",
    "import seaborn as sns\n",
    "import matplotlib.pyplot as plt\n",
    "import warnings\n",
    "\n",
    "warnings.filterwarnings(action='ignore')\n",
    "%matplotlib inline\n",
    "\n",
    "plt.style.use('seaborn')\n",
    "plt.rc('font', family='Malgun Gothic')\n",
    "plt.rc('axes', unicode_minus=False)"
   ]
  },
  {
   "cell_type": "markdown",
   "metadata": {},
   "source": [
    "## 1. 데이터 불러오기"
   ]
  },
  {
   "cell_type": "markdown",
   "metadata": {},
   "source": [
    "#### 데이터 설명\n",
    "##### datetime:\n",
    "hourly date + timestamp 날짜+시간\n",
    "\n",
    "##### season:\n",
    "1 = spring, 2 = summer, 3 = fall, 4 = winter 봄/여름/가을/겨울\n",
    "\n",
    "##### holiday:\n",
    "whether the day is considered a holiday 공휴일\n",
    "\n",
    "##### workingday:\n",
    "whether the day is neither a weekend nor holiday 주중&공휴일x \n",
    "\n",
    "##### weather:\n",
    "1: Clear, Few clouds, Partly cloudy, Partly cloudy 맑음\n",
    "\n",
    "2: Mist + Cloudy, Mist + Broken clouds, Mist + Few clouds, Mist 안개\n",
    "\n",
    "3: Light Snow, Light Rain + Thunderstorm + Scattered clouds, Light Rain + Scattered \n",
    "clouds 적은 강수량\n",
    "\n",
    "4: Heavy Rain + Ice Pallets + Thunderstorm + Mist, Snow + Fog 높은 강수량\n",
    "\n",
    "##### temp:\n",
    "temperature in Celsius 온도\n",
    "\n",
    "##### atemp:\n",
    "--\"feels like\" temperature in Celsius 체감온도\n",
    "\n",
    "##### humidity:\n",
    "relative humidity 습도\n",
    "\n",
    "##### windspeed:\n",
    "wind speed 풍속\n",
    "\n",
    "##### casual:\n",
    "number of non registered user rentals initiated 비회원 렌탈 수\n",
    "\n",
    "##### registered:\n",
    "number of registered user rentals initiated 회원 렌탈 수\n",
    "\n",
    "##### count:\n",
    "number of total rentals 총 렌탈 수 = 비회원 렌탈 수 + 회원 렌탈 수 "
   ]
  },
  {
   "cell_type": "code",
   "execution_count": null,
   "metadata": {},
   "outputs": [],
   "source": [
    "dat = pd.read_csv('과제데이터.csv', encoding='UTF8')"
   ]
  },
  {
   "cell_type": "code",
   "execution_count": null,
   "metadata": {},
   "outputs": [],
   "source": [
    "dat.info()"
   ]
  },
  {
   "cell_type": "code",
   "execution_count": null,
   "metadata": {},
   "outputs": [],
   "source": [
    "print(str(10886/24)+'일의 데이터')\n",
    "#start date\n",
    "print(dat.iloc[0,0])\n",
    "#end date\n",
    "print(dat.iloc[-1,0])"
   ]
  },
  {
   "cell_type": "code",
   "execution_count": null,
   "metadata": {},
   "outputs": [],
   "source": [
    "dat.describe()"
   ]
  },
  {
   "cell_type": "code",
   "execution_count": null,
   "metadata": {},
   "outputs": [],
   "source": [
    "print('data shape: {}'.format(dat.shape))"
   ]
  },
  {
   "cell_type": "markdown",
   "metadata": {},
   "source": [
    "### 가설\n",
    "계절별로 렌탈수 차이 있을 것이다.\n",
    "\n",
    "비오는 날에 렌탈 수가 적을 것이다.\n",
    "\n",
    "풍속이 세면 렌탈 수가 적을 것이다.\n",
    "\n",
    "주말에 렌탈 수가 더 많을 것이다.\n",
    "\n",
    "온도가 극히 낮고 높은 날에 렌탈 수가 적을 것이다.\n",
    "\n",
    "출퇴근 시간에 렌탈 수가 많을 것이다."
   ]
  },
  {
   "cell_type": "markdown",
   "metadata": {},
   "source": [
    "## 2. 데이터\n",
    "## Target Variable = count"
   ]
  },
  {
   "cell_type": "code",
   "execution_count": null,
   "metadata": {},
   "outputs": [],
   "source": [
    "dat.head()"
   ]
  },
  {
   "cell_type": "markdown",
   "metadata": {},
   "source": [
    "### 범주형 변수 분석"
   ]
  },
  {
   "cell_type": "code",
   "execution_count": null,
   "metadata": {},
   "outputs": [],
   "source": [
    "print('season: {}'.format(len(np.unique(dat.season))))\n",
    "print('weather: {}'.format(len(np.unique(dat.weather))))\n",
    "print('holiday: {}'.format(len(np.unique(dat.holiday))))\n",
    "print('workingday: {}'.format(len(np.unique(dat.workingday))))"
   ]
  },
  {
   "cell_type": "markdown",
   "metadata": {},
   "source": [
    "Variable|Unique|Explanation\n",
    ":-|:-|:-\n",
    "season|4|계절\n",
    "weather|4|날씨 4단계\n",
    "holiday|2|공휴일 0 or 1\n",
    "workingday|2|공휴일x 주말x 0 or 1"
   ]
  },
  {
   "cell_type": "markdown",
   "metadata": {},
   "source": [
    "### 결측치 확인"
   ]
  },
  {
   "cell_type": "code",
   "execution_count": null,
   "metadata": {},
   "outputs": [],
   "source": [
    "dat.isnull().sum()"
   ]
  },
  {
   "cell_type": "markdown",
   "metadata": {},
   "source": [
    "### 수치형 변수 이상치 분석"
   ]
  },
  {
   "cell_type": "code",
   "execution_count": null,
   "metadata": {},
   "outputs": [],
   "source": [
    "num_att = ['temp', 'atemp', 'humidity', 'windspeed', 'casual', 'registered', 'count']\n",
    "dat[num_att].describe()"
   ]
  },
  {
   "cell_type": "code",
   "execution_count": null,
   "metadata": {},
   "outputs": [],
   "source": [
    "dat[num_att].hist(bins=30, figsize=(20,20))\n",
    "plt.suptitle('outlier 제거 전 연속형 변수 히스토그램', fontsize=20)"
   ]
  },
  {
   "cell_type": "code",
   "execution_count": null,
   "metadata": {},
   "outputs": [],
   "source": [
    "sns.pairplot(dat[num_att])"
   ]
  },
  {
   "cell_type": "markdown",
   "metadata": {},
   "source": [
    "하루에 데이터가 24개씩 존재. 파악하기 힘들다. \n",
    "24개씩 묶은 데이터 생성"
   ]
  },
  {
   "cell_type": "markdown",
   "metadata": {},
   "source": [
    "### 시간별 데이터 -> 일별 데이터"
   ]
  },
  {
   "cell_type": "code",
   "execution_count": null,
   "metadata": {},
   "outputs": [],
   "source": [
    "dat_group_by_day = dat\n",
    "dat_group_by_day['datetime'] = pd.to_datetime(dat_group_by_day['datetime'], format='%Y-%m-%d %H:%M:%S', errors='raise')"
   ]
  },
  {
   "cell_type": "code",
   "execution_count": null,
   "metadata": {},
   "outputs": [],
   "source": [
    "dat_group_by_day.index = dat_group_by_day['datetime']"
   ]
  },
  {
   "cell_type": "code",
   "execution_count": null,
   "metadata": {},
   "outputs": [],
   "source": [
    "dat_group_by_day_ =  dat_group_by_day.groupby(pd.Grouper(freq='D'))[dat.columns].mean()"
   ]
  },
  {
   "cell_type": "markdown",
   "metadata": {},
   "source": [
    "일별데이터 hist"
   ]
  },
  {
   "cell_type": "code",
   "execution_count": null,
   "metadata": {},
   "outputs": [],
   "source": [
    "dat_group_by_day_[num_att].hist(bins=30, figsize=(20,20))"
   ]
  },
  {
   "cell_type": "markdown",
   "metadata": {},
   "source": [
    "일별데이터 pair plot"
   ]
  },
  {
   "cell_type": "code",
   "execution_count": null,
   "metadata": {},
   "outputs": [],
   "source": [
    "sns.pairplot(dat_group_by_day_[num_att])"
   ]
  },
  {
   "cell_type": "code",
   "execution_count": null,
   "metadata": {},
   "outputs": [],
   "source": [
    "dat[num_att].corr()"
   ]
  },
  {
   "cell_type": "code",
   "execution_count": null,
   "metadata": {},
   "outputs": [],
   "source": [
    "sns.heatmap(dat[num_att].corr(),cmap='YlGnBu', annot=True)\n",
    "plt.show()"
   ]
  },
  {
   "cell_type": "markdown",
   "metadata": {},
   "source": [
    "temp와 atemp는 선형적인 관계가 아니다. \n",
    "기온이 극히 높은 경우/ 낮은 경우일 때를 나타낼 수 있는 변수를 추가"
   ]
  },
  {
   "cell_type": "markdown",
   "metadata": {},
   "source": [
    "### temp와 atemp의 파생변수 생성"
   ]
  },
  {
   "cell_type": "markdown",
   "metadata": {},
   "source": [
    "temp와 atemp 분포파악 후 파생변수 생성 기준점 결정"
   ]
  },
  {
   "cell_type": "code",
   "execution_count": null,
   "metadata": {},
   "outputs": [],
   "source": [
    "sns.distplot(dat['temp'], kde=True, rug=True)"
   ]
  },
  {
   "cell_type": "code",
   "execution_count": null,
   "metadata": {},
   "outputs": [],
   "source": [
    "sns.distplot(dat['atemp'], kde=True, rug=True)"
   ]
  },
  {
   "cell_type": "code",
   "execution_count": null,
   "metadata": {},
   "outputs": [],
   "source": [
    "dat['temp'].mean() + 2*dat['temp'].std()"
   ]
  },
  {
   "cell_type": "markdown",
   "metadata": {},
   "source": [
    "고온/저온을 1.5시그마를 벗어나는 값으로 설정"
   ]
  },
  {
   "cell_type": "code",
   "execution_count": null,
   "metadata": {},
   "outputs": [],
   "source": [
    "dat['high_temp'] = 0\n",
    "dat['low_temp'] = 0\n",
    "dat['high_atemp'] = 0\n",
    "dat['low_atemp'] = 0\n",
    "\n",
    "dat.loc[dat['temp']>dat['temp'].mean() + 2*dat['temp'].std(), 'high_temp'] = 1\n",
    "dat.loc[dat['temp']<dat['temp'].mean() - 2*dat['temp'].std(), 'low_temp'] = 1\n",
    "\n",
    "dat.loc[dat['atemp']>dat['atemp'].mean() + 2*dat['atemp'].std(), 'high_atemp'] = 1\n",
    "dat.loc[dat['atemp']<dat['atemp'].mean() - 2*dat['atemp'].std(), 'low_atemp'] = 1"
   ]
  },
  {
   "cell_type": "markdown",
   "metadata": {},
   "source": [
    "#### high temp일때 사용자 수 비교\n",
    "고온일 때 사용자수가 적을 것이라 예상했으나 매우 뚜렷한 차이를 보이진 않는다."
   ]
  },
  {
   "cell_type": "code",
   "execution_count": null,
   "metadata": {},
   "outputs": [],
   "source": [
    "sns.boxplot(y = \"count\", x = \"high_temp\", data = dat)\n",
    "\n",
    "plt.show()"
   ]
  },
  {
   "cell_type": "markdown",
   "metadata": {},
   "source": [
    "박스플롯에서 오히려 high temp가 더 count가 높아서 자세히 살펴보니 아래와 같았다."
   ]
  },
  {
   "cell_type": "code",
   "execution_count": null,
   "metadata": {},
   "outputs": [],
   "source": [
    "ax = sns.scatterplot(x='temp', y='count',hue='high_temp',data=dat)"
   ]
  },
  {
   "cell_type": "markdown",
   "metadata": {},
   "source": [
    "#### low temp일 때 사용자수 비교\n",
    "low temp일때 사용자수가 적음을 볼 수 있다."
   ]
  },
  {
   "cell_type": "code",
   "execution_count": null,
   "metadata": {},
   "outputs": [],
   "source": [
    "sns.boxplot(y = \"count\", x = \"low_temp\", data = dat)\n",
    "\n",
    "plt.show()"
   ]
  },
  {
   "cell_type": "code",
   "execution_count": null,
   "metadata": {},
   "outputs": [],
   "source": [
    "ax = sns.scatterplot(x='temp', y='count',hue='low_temp',data=dat)"
   ]
  },
  {
   "cell_type": "markdown",
   "metadata": {},
   "source": [
    "### 계절별 평균 이용자 수 "
   ]
  },
  {
   "cell_type": "code",
   "execution_count": null,
   "metadata": {},
   "outputs": [],
   "source": [
    "sns.barplot(x='season', y='count', data=dat)\n",
    "plt.suptitle('계절별 평균 이용자')"
   ]
  },
  {
   "cell_type": "markdown",
   "metadata": {},
   "source": [
    "봄 이용자 수가 다른 계절 이용자 수에 비해 확연히 낮다."
   ]
  },
  {
   "cell_type": "markdown",
   "metadata": {},
   "source": [
    "### 년도별 평균 이용자 수"
   ]
  },
  {
   "cell_type": "code",
   "execution_count": null,
   "metadata": {},
   "outputs": [],
   "source": [
    "dat['datetime'] = pd.to_datetime(dat['datetime'], format='%Y-%m-%d %H:%M:%S', errors='raise')\n",
    "dat['year'] = dat['datetime'].dt.year\n",
    "sns.barplot(x='year', y='count', data=dat)\n",
    "plt.suptitle('년도별 평균 이용자')"
   ]
  },
  {
   "cell_type": "markdown",
   "metadata": {},
   "source": [
    "### 월별 평균 이용자 수"
   ]
  },
  {
   "cell_type": "code",
   "execution_count": null,
   "metadata": {},
   "outputs": [],
   "source": [
    "dat['datetime'] = pd.to_datetime(dat['datetime'], format='%Y-%m-%d %H:%M:%S', errors='raise')\n",
    "dat['month'] = dat['datetime'].dt.day\n",
    "\n",
    "sns.barplot(x='month', y='count', data=dat)\n",
    "plt.suptitle('월별 평균 이용자')"
   ]
  },
  {
   "cell_type": "markdown",
   "metadata": {},
   "source": [
    "### 평일 평균 이용자"
   ]
  },
  {
   "cell_type": "code",
   "execution_count": null,
   "metadata": {},
   "outputs": [],
   "source": [
    "sns.barplot(x='workingday', y='count', data=dat)\n",
    "plt.suptitle('평일 평균 이용자')"
   ]
  },
  {
   "cell_type": "markdown",
   "metadata": {},
   "source": [
    "### 공휴일 평균 이용자"
   ]
  },
  {
   "cell_type": "code",
   "execution_count": null,
   "metadata": {},
   "outputs": [],
   "source": [
    "sns.barplot(x='holiday', y='count', data=dat)\n",
    "plt.suptitle('공휴일 평균 이용자')"
   ]
  },
  {
   "cell_type": "markdown",
   "metadata": {},
   "source": [
    "### 날씨별 이용자 수"
   ]
  },
  {
   "cell_type": "code",
   "execution_count": null,
   "metadata": {},
   "outputs": [],
   "source": [
    "sns.barplot(x='weather', y='count', data=dat)\n",
    "plt.suptitle('날씨별 평균 이용자')"
   ]
  },
  {
   "cell_type": "markdown",
   "metadata": {},
   "source": [
    "1: Clear, Few clouds, Partly cloudy, Partly cloudy 맑음\n",
    "\n",
    "2: Mist + Cloudy, Mist + Broken clouds, Mist + Few clouds, Mist 안개\n",
    "\n",
    "3: Light Snow, Light Rain + Thunderstorm + Scattered clouds, Light Rain + Scattered \n",
    "clouds 적은 강수량\n",
    "\n",
    "4: Heavy Rain + Ice Pallets + Thunderstorm + Mist, Snow + Fog 높은 강수량\n",
    "\n",
    "4번 날씨의 이용자수가 저조할 것이라고 예상했으나 3번 날씨의 이용자수가 가장 저조했다."
   ]
  },
  {
   "cell_type": "markdown",
   "metadata": {},
   "source": [
    "확연히 기상상태가 안좋은 3과 4를 같은 범주로 배정 후  다시 파악해본다."
   ]
  },
  {
   "cell_type": "code",
   "execution_count": null,
   "metadata": {},
   "outputs": [],
   "source": [
    "dat_weather_merge = dat\n",
    "dat_weather_merge.loc[dat_weather_merge['weather']==4, 'weather'] = 3\n",
    "sns.barplot(x='weather', y='count', data=dat)\n",
    "plt.suptitle('날씨별 평균 이용자')"
   ]
  },
  {
   "cell_type": "markdown",
   "metadata": {},
   "source": [
    "### 시간대별 이용자수 비교"
   ]
  },
  {
   "cell_type": "code",
   "execution_count": null,
   "metadata": {},
   "outputs": [],
   "source": [
    "dat['datetime'] = pd.to_datetime(dat['datetime'], format='%Y-%m-%d %H:%M:%S', errors='raise')\n",
    "dat['hour'] = dat['datetime'].dt.hour\n",
    "sns.barplot(x='hour', y='count', data=dat)"
   ]
  },
  {
   "cell_type": "code",
   "execution_count": null,
   "metadata": {},
   "outputs": [],
   "source": [
    "dat_comm_merge = dat\n",
    "dat_comm_merge['come'] = 0\n",
    "dat_comm_merge.loc[dat_comm_merge['hour'].isin([7,8,9]), 'come'] = 1\n",
    "sns.barplot(x='come', y='count', data=dat)\n",
    "plt.suptitle('출근 시간 비교')"
   ]
  },
  {
   "cell_type": "code",
   "execution_count": null,
   "metadata": {},
   "outputs": [],
   "source": [
    "dat_comm_merge = dat\n",
    "dat_comm_merge['out'] = 0\n",
    "dat_comm_merge.loc[dat_comm_merge['hour'].isin([17,18,19]), 'out'] = 1\n",
    "sns.barplot(x='out', y='count', data=dat)\n",
    "plt.suptitle('퇴근 시간 비교')"
   ]
  },
  {
   "cell_type": "markdown",
   "metadata": {},
   "source": [
    "출퇴근 시간에 확연히 이용자 수가 늘어나는 것을 볼 수 있다."
   ]
  },
  {
   "cell_type": "code",
   "execution_count": null,
   "metadata": {},
   "outputs": [],
   "source": []
  }
 ],
 "metadata": {
  "kernelspec": {
   "display_name": "Python 3",
   "language": "python",
   "name": "python3"
  },
  "language_info": {
   "codemirror_mode": {
    "name": "ipython",
    "version": 3
   },
   "file_extension": ".py",
   "mimetype": "text/x-python",
   "name": "python",
   "nbconvert_exporter": "python",
   "pygments_lexer": "ipython3",
   "version": "3.7.4"
  }
 },
 "nbformat": 4,
 "nbformat_minor": 4
}
