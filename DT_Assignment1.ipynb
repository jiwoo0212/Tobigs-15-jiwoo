{
 "cells": [
  {
   "cell_type": "markdown",
   "metadata": {},
   "source": [
    "# DT Assignment1"
   ]
  },
  {
   "cell_type": "markdown",
   "metadata": {},
   "source": [
    "# Data Loading"
   ]
  },
  {
   "cell_type": "code",
   "execution_count": 1,
   "metadata": {},
   "outputs": [],
   "source": [
    "import pandas as pd \n",
    "import numpy as np"
   ]
  },
  {
   "cell_type": "code",
   "execution_count": 2,
   "metadata": {},
   "outputs": [
    {
     "data": {
      "text/html": [
       "<div>\n",
       "<style scoped>\n",
       "    .dataframe tbody tr th:only-of-type {\n",
       "        vertical-align: middle;\n",
       "    }\n",
       "\n",
       "    .dataframe tbody tr th {\n",
       "        vertical-align: top;\n",
       "    }\n",
       "\n",
       "    .dataframe thead th {\n",
       "        text-align: right;\n",
       "    }\n",
       "</style>\n",
       "<table border=\"1\" class=\"dataframe\">\n",
       "  <thead>\n",
       "    <tr style=\"text-align: right;\">\n",
       "      <th></th>\n",
       "      <th>age</th>\n",
       "      <th>income</th>\n",
       "      <th>student</th>\n",
       "      <th>credit_rating</th>\n",
       "      <th>class_buys_computer</th>\n",
       "    </tr>\n",
       "  </thead>\n",
       "  <tbody>\n",
       "    <tr>\n",
       "      <th>0</th>\n",
       "      <td>youth</td>\n",
       "      <td>high</td>\n",
       "      <td>no</td>\n",
       "      <td>fair</td>\n",
       "      <td>no</td>\n",
       "    </tr>\n",
       "    <tr>\n",
       "      <th>1</th>\n",
       "      <td>youth</td>\n",
       "      <td>high</td>\n",
       "      <td>no</td>\n",
       "      <td>excellent</td>\n",
       "      <td>no</td>\n",
       "    </tr>\n",
       "    <tr>\n",
       "      <th>2</th>\n",
       "      <td>middle_aged</td>\n",
       "      <td>high</td>\n",
       "      <td>no</td>\n",
       "      <td>fair</td>\n",
       "      <td>yes</td>\n",
       "    </tr>\n",
       "    <tr>\n",
       "      <th>3</th>\n",
       "      <td>senior</td>\n",
       "      <td>medium</td>\n",
       "      <td>no</td>\n",
       "      <td>fair</td>\n",
       "      <td>yes</td>\n",
       "    </tr>\n",
       "    <tr>\n",
       "      <th>4</th>\n",
       "      <td>senior</td>\n",
       "      <td>low</td>\n",
       "      <td>yes</td>\n",
       "      <td>fair</td>\n",
       "      <td>yes</td>\n",
       "    </tr>\n",
       "    <tr>\n",
       "      <th>5</th>\n",
       "      <td>senior</td>\n",
       "      <td>low</td>\n",
       "      <td>yes</td>\n",
       "      <td>excellent</td>\n",
       "      <td>no</td>\n",
       "    </tr>\n",
       "    <tr>\n",
       "      <th>6</th>\n",
       "      <td>middle_aged</td>\n",
       "      <td>low</td>\n",
       "      <td>yes</td>\n",
       "      <td>excellent</td>\n",
       "      <td>yes</td>\n",
       "    </tr>\n",
       "    <tr>\n",
       "      <th>7</th>\n",
       "      <td>youth</td>\n",
       "      <td>medium</td>\n",
       "      <td>no</td>\n",
       "      <td>fair</td>\n",
       "      <td>no</td>\n",
       "    </tr>\n",
       "    <tr>\n",
       "      <th>8</th>\n",
       "      <td>youth</td>\n",
       "      <td>low</td>\n",
       "      <td>yes</td>\n",
       "      <td>fair</td>\n",
       "      <td>yes</td>\n",
       "    </tr>\n",
       "    <tr>\n",
       "      <th>9</th>\n",
       "      <td>senior</td>\n",
       "      <td>medium</td>\n",
       "      <td>yes</td>\n",
       "      <td>fair</td>\n",
       "      <td>yes</td>\n",
       "    </tr>\n",
       "    <tr>\n",
       "      <th>10</th>\n",
       "      <td>youth</td>\n",
       "      <td>medium</td>\n",
       "      <td>yes</td>\n",
       "      <td>excellent</td>\n",
       "      <td>yes</td>\n",
       "    </tr>\n",
       "    <tr>\n",
       "      <th>11</th>\n",
       "      <td>middle_aged</td>\n",
       "      <td>medium</td>\n",
       "      <td>no</td>\n",
       "      <td>excellent</td>\n",
       "      <td>yes</td>\n",
       "    </tr>\n",
       "    <tr>\n",
       "      <th>12</th>\n",
       "      <td>middle_aged</td>\n",
       "      <td>high</td>\n",
       "      <td>yes</td>\n",
       "      <td>fair</td>\n",
       "      <td>yes</td>\n",
       "    </tr>\n",
       "    <tr>\n",
       "      <th>13</th>\n",
       "      <td>senior</td>\n",
       "      <td>medium</td>\n",
       "      <td>no</td>\n",
       "      <td>excellent</td>\n",
       "      <td>no</td>\n",
       "    </tr>\n",
       "  </tbody>\n",
       "</table>\n",
       "</div>"
      ],
      "text/plain": [
       "            age  income student credit_rating class_buys_computer\n",
       "0         youth    high      no          fair                  no\n",
       "1         youth    high      no     excellent                  no\n",
       "2   middle_aged    high      no          fair                 yes\n",
       "3        senior  medium      no          fair                 yes\n",
       "4        senior     low     yes          fair                 yes\n",
       "5        senior     low     yes     excellent                  no\n",
       "6   middle_aged     low     yes     excellent                 yes\n",
       "7         youth  medium      no          fair                  no\n",
       "8         youth     low     yes          fair                 yes\n",
       "9        senior  medium     yes          fair                 yes\n",
       "10        youth  medium     yes     excellent                 yes\n",
       "11  middle_aged  medium      no     excellent                 yes\n",
       "12  middle_aged    high     yes          fair                 yes\n",
       "13       senior  medium      no     excellent                  no"
      ]
     },
     "execution_count": 2,
     "metadata": {},
     "output_type": "execute_result"
    }
   ],
   "source": [
    "pd_data = pd.read_csv('https://raw.githubusercontent.com/AugustLONG/ML01/master/01decisiontree/AllElectronics.csv')\n",
    "pd_data.drop(\"RID\",axis=1, inplace = True) #RID는 그냥 순서라서 삭제\n",
    "pd_data"
   ]
  },
  {
   "cell_type": "code",
   "execution_count": 3,
   "metadata": {},
   "outputs": [
    {
     "data": {
      "text/plain": [
       "(14, 5)"
      ]
     },
     "execution_count": 3,
     "metadata": {},
     "output_type": "execute_result"
    }
   ],
   "source": [
    "pd_data.shape"
   ]
  },
  {
   "cell_type": "markdown",
   "metadata": {},
   "source": [
    "# 1. Gini 계수를 구하는 함수 만들기"
   ]
  },
  {
   "cell_type": "markdown",
   "metadata": {},
   "source": [
    "- Input: df(데이터), label(타겟변수명)\n",
    "- 해당 결과는 아래와 같이 나와야 합니다."
   ]
  },
  {
   "cell_type": "code",
   "execution_count": 22,
   "metadata": {},
   "outputs": [],
   "source": [
    "def get_gini(df, label):\n",
    "    gini = 1\n",
    "    n = len(df)\n",
    "    for i in df[label].value_counts():\n",
    "        gini -= (i/n)**2\n",
    "    return gini    \n",
    "# 데이터프레임과 정답 컬럼만 주면 지니값구한다."
   ]
  },
  {
   "cell_type": "code",
   "execution_count": 23,
   "metadata": {},
   "outputs": [
    {
     "data": {
      "text/plain": [
       "0.4591836734693877"
      ]
     },
     "execution_count": 23,
     "metadata": {},
     "output_type": "execute_result"
    }
   ],
   "source": [
    "get_gini(pd_data,'class_buys_computer')"
   ]
  },
  {
   "cell_type": "markdown",
   "metadata": {},
   "source": [
    "# 2. Feature의 Class를 이진 분류로 만들기\n",
    " ## ex) {A,B,C} -> ({A}, {B,C}), ({B}, {A,C}), ({C}, {A,B})"
   ]
  },
  {
   "cell_type": "markdown",
   "metadata": {},
   "source": [
    "- Input: df(데이터), attribute(Gini index를 구하고자 하는 변수명)\n",
    "- 해당 결과는 아래와 같이 나와야 합니다."
   ]
  },
  {
   "cell_type": "code",
   "execution_count": 36,
   "metadata": {},
   "outputs": [],
   "source": [
    "def get_binary_split(df, attribute):\n",
    "    result = []\n",
    "    classes = list(df[attribute].unique())\n",
    "    for i in classes:\n",
    "        tmp_class = classes.copy()\n",
    "        result.append([i])\n",
    "        tmp_class.remove(i)\n",
    "        result.append(tmp_class)\n",
    "    return result\n"
   ]
  },
  {
   "cell_type": "code",
   "execution_count": 37,
   "metadata": {},
   "outputs": [
    {
     "data": {
      "text/plain": [
       "[['youth'],\n",
       " ['middle_aged', 'senior'],\n",
       " ['middle_aged'],\n",
       " ['youth', 'senior'],\n",
       " ['senior'],\n",
       " ['youth', 'middle_aged']]"
      ]
     },
     "execution_count": 37,
     "metadata": {},
     "output_type": "execute_result"
    }
   ],
   "source": [
    "get_binary_split(pd_data,\"age\")"
   ]
  },
  {
   "cell_type": "markdown",
   "metadata": {},
   "source": [
    "# 3. 다음은 모든 이진분류의 경우의 Gini index를 구하는 함수 만들기\n",
    "- 위에서 완성한 두 함수를 사용하여 만들어주세요!\n",
    "- 해당 결과는 아래와 같이 나와야 합니다."
   ]
  },
  {
   "cell_type": "code",
   "execution_count": 78,
   "metadata": {},
   "outputs": [],
   "source": [
    "def get_attribute_gini_index(df, attribute, label):\n",
    "    result = {}\n",
    "    n = len(df)\n",
    "    classes = get_binary_split(df, attribute)\n",
    "    for i in classes:\n",
    "        if len(i)==1:\n",
    "            tmp_df0 = df[df[attribute]==i[0]]\n",
    "            tmp_df1 = df[df[attribute]!=i[0]]\n",
    "            value = len(tmp_df0)/n*get_gini(tmp_df0,label) + len(tmp_df1)/n*get_gini(tmp_df1,label)\n",
    "            result[i[0]] = value\n",
    "        \n",
    "    for i in classes:\n",
    "        if len(i) == 1:\n",
    "            for ii in classes:\n",
    "                if len(ii) != 1 and i[0] not in ii:\n",
    "                    key = '_'.join(ii)\n",
    "                    result[key] = result[i[0]]\n",
    "    return result"
   ]
  },
  {
   "cell_type": "code",
   "execution_count": 79,
   "metadata": {},
   "outputs": [
    {
     "data": {
      "text/plain": [
       "{'youth': 0.3936507936507937,\n",
       " 'middle_aged': 0.35714285714285715,\n",
       " 'senior': 0.4571428571428572,\n",
       " 'middle_aged_senior': 0.3936507936507937,\n",
       " 'youth_senior': 0.35714285714285715,\n",
       " 'youth_middle_aged': 0.4571428571428572}"
      ]
     },
     "execution_count": 79,
     "metadata": {},
     "output_type": "execute_result"
    }
   ],
   "source": [
    "get_attribute_gini_index(pd_data, \"age\", \"class_buys_computer\")"
   ]
  },
  {
   "cell_type": "markdown",
   "metadata": {},
   "source": [
    "여기서 가장 작은 Gini index값을 가지는 class를 기준으로 split해야겠죠?"
   ]
  },
  {
   "cell_type": "code",
   "execution_count": 48,
   "metadata": {},
   "outputs": [
    {
     "data": {
      "text/plain": [
       "('middle_aged', 0.35714285714285715)"
      ]
     },
     "execution_count": 48,
     "metadata": {},
     "output_type": "execute_result"
    }
   ],
   "source": [
    "min(get_attribute_gini_index(pd_data, \"age\", \"class_buys_computer\").items())"
   ]
  },
  {
   "cell_type": "markdown",
   "metadata": {},
   "source": [
    "# 다음의 문제를 위에서 작성한 함수를 통해 구한 값으로 보여주세요!\n",
    "## 문제1) 변수 ‘income’의 이진분류 결과를 보여주세요.\n",
    "\n",
    "## 문제2) 분류를 하는 데 가장 중요한 변수를 선정하고, 해당 변수의 Gini index를 제시해주세요.\n",
    "\n",
    "## 문제3) 문제 2에서 제시한 feature로 DataFrame을 split한 후 나눠진 2개의 DataFrame에서 각각   다음으로 중요한 변수를 선정하고 해당 변수의 Gini index를 제시해주세요."
   ]
  },
  {
   "cell_type": "code",
   "execution_count": 118,
   "metadata": {},
   "outputs": [
    {
     "name": "stdout",
     "output_type": "stream",
     "text": [
      "            age income student credit_rating class_buys_computer\n",
      "0         youth   high      no          fair                  no\n",
      "1         youth   high      no     excellent                  no\n",
      "2   middle_aged   high      no          fair                 yes\n",
      "12  middle_aged   high     yes          fair                 yes\n",
      "----------------------------------------------------------------------------------------------------\n",
      "            age  income student credit_rating class_buys_computer\n",
      "3        senior  medium      no          fair                 yes\n",
      "4        senior     low     yes          fair                 yes\n",
      "5        senior     low     yes     excellent                  no\n",
      "6   middle_aged     low     yes     excellent                 yes\n",
      "7         youth  medium      no          fair                  no\n",
      "8         youth     low     yes          fair                 yes\n",
      "9        senior  medium     yes          fair                 yes\n",
      "10        youth  medium     yes     excellent                 yes\n",
      "11  middle_aged  medium      no     excellent                 yes\n",
      "13       senior  medium      no     excellent                  no\n"
     ]
    }
   ],
   "source": [
    "##문제1 답안\n",
    "def split(df, attribute, cla): # 데이터프레임을 두개로 분리하는 함수\n",
    "    a = pd_data[pd_data[attribute]==cla]\n",
    "    b = pd_data[pd_data[attribute]!=cla]\n",
    "    return a, b \n",
    "m = min(get_attribute_gini_index(pd_data, \"income\", \"class_buys_computer\").items())[0]\n",
    "a, b = split(pd_data, 'income', m)\n",
    "print(a)\n",
    "print('-'*100)\n",
    "print(b)"
   ]
  },
  {
   "cell_type": "code",
   "execution_count": 119,
   "metadata": {},
   "outputs": [
    {
     "name": "stdout",
     "output_type": "stream",
     "text": [
      "[('middle_aged', 0.35714285714285715), ('high', 0.4428571428571429), ('no', 0.3673469387755103), ('excellent', 0.42857142857142855)]\n",
      "('middle_aged', 0.35714285714285715)\n"
     ]
    }
   ],
   "source": [
    "##문제2 답안\n",
    "lst = []\n",
    "for i in pd_data.columns[:-1]:\n",
    "    m = min(get_attribute_gini_index(pd_data, i, \"class_buys_computer\").items())\n",
    "    lst.append(m)\n",
    "print(lst)\n",
    "# mm = min([i[1] for i in lst])\n",
    "mm = min(lst, key=lambda x : x[1])\n",
    "print(mm)"
   ]
  },
  {
   "cell_type": "markdown",
   "metadata": {},
   "source": [
    "1차 분리에서 제일 중요한 변수는 'age'의 'middle_aged' 클래스이다. 해당 변수의 Gini index는 0.35714285714285715이다."
   ]
  },
  {
   "cell_type": "code",
   "execution_count": 120,
   "metadata": {},
   "outputs": [
    {
     "name": "stdout",
     "output_type": "stream",
     "text": [
      "            age  income student credit_rating class_buys_computer\n",
      "2   middle_aged    high      no          fair                 yes\n",
      "6   middle_aged     low     yes     excellent                 yes\n",
      "11  middle_aged  medium      no     excellent                 yes\n",
      "12  middle_aged    high     yes          fair                 yes\n",
      "----------------------------------------------------------------------------------------------------\n",
      "       age  income student credit_rating class_buys_computer\n",
      "0    youth    high      no          fair                  no\n",
      "1    youth    high      no     excellent                  no\n",
      "3   senior  medium      no          fair                 yes\n",
      "4   senior     low     yes          fair                 yes\n",
      "5   senior     low     yes     excellent                  no\n",
      "7    youth  medium      no          fair                  no\n",
      "8    youth     low     yes          fair                 yes\n",
      "9   senior  medium     yes          fair                 yes\n",
      "10   youth  medium     yes     excellent                 yes\n",
      "13  senior  medium      no     excellent                  no\n"
     ]
    }
   ],
   "source": [
    "##문제3 답안\n",
    "a, b = split(pd_data, 'age', 'middle_aged')\n",
    "print(a)\n",
    "print('-'*100)\n",
    "print(b)"
   ]
  },
  {
   "cell_type": "markdown",
   "metadata": {},
   "source": [
    "middle_aged 클래스는 모두 yes로 더 분리가 필요하지 않다."
   ]
  },
  {
   "cell_type": "code",
   "execution_count": 123,
   "metadata": {},
   "outputs": [
    {
     "name": "stdout",
     "output_type": "stream",
     "text": [
      "[('senior', 0.48), ('high', 0.375), ('no', 0.31999999999999984), ('excellent', 0.4166666666666667)]\n",
      "('no', 0.31999999999999984)\n"
     ]
    }
   ],
   "source": [
    "lst = []\n",
    "for i in pd_data.columns[:-1]:\n",
    "    m = min(get_attribute_gini_index(b, i, \"class_buys_computer\").items())\n",
    "    lst.append(m)\n",
    "print(lst)\n",
    "mm = min(lst, key=lambda x : x[1])\n",
    "print(mm)"
   ]
  },
  {
   "cell_type": "markdown",
   "metadata": {},
   "source": [
    "가장 작은 Gini index를 가지는 'student'변수의 'no' 클래스로 분리한다."
   ]
  },
  {
   "cell_type": "code",
   "execution_count": 124,
   "metadata": {},
   "outputs": [
    {
     "name": "stdout",
     "output_type": "stream",
     "text": [
      "            age  income student credit_rating class_buys_computer\n",
      "0         youth    high      no          fair                  no\n",
      "1         youth    high      no     excellent                  no\n",
      "2   middle_aged    high      no          fair                 yes\n",
      "3        senior  medium      no          fair                 yes\n",
      "7         youth  medium      no          fair                  no\n",
      "11  middle_aged  medium      no     excellent                 yes\n",
      "13       senior  medium      no     excellent                  no\n",
      "----------------------------------------------------------------------------------------------------\n",
      "            age  income student credit_rating class_buys_computer\n",
      "4        senior     low     yes          fair                 yes\n",
      "5        senior     low     yes     excellent                  no\n",
      "6   middle_aged     low     yes     excellent                 yes\n",
      "8         youth     low     yes          fair                 yes\n",
      "9        senior  medium     yes          fair                 yes\n",
      "10        youth  medium     yes     excellent                 yes\n",
      "12  middle_aged    high     yes          fair                 yes\n"
     ]
    }
   ],
   "source": [
    "a, b = split(b, 'student', 'no')\n",
    "print(a)\n",
    "print('-'*100)\n",
    "print(b)"
   ]
  },
  {
   "cell_type": "markdown",
   "metadata": {},
   "source": [
    "2차 분리 결과는 위와 같다. 더욱 분리가 잘된 모습을 볼 수 있다."
   ]
  }
 ],
 "metadata": {
  "kernelspec": {
   "display_name": "Python 3",
   "language": "python",
   "name": "python3"
  },
  "language_info": {
   "codemirror_mode": {
    "name": "ipython",
    "version": 3
   },
   "file_extension": ".py",
   "mimetype": "text/x-python",
   "name": "python",
   "nbconvert_exporter": "python",
   "pygments_lexer": "ipython3",
   "version": "3.7.4"
  }
 },
 "nbformat": 4,
 "nbformat_minor": 4
}
